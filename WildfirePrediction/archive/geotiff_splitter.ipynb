{
 "cells": [
  {
   "cell_type": "markdown",
   "source": [
    "# Fire Atlas Dataset Exploration // Day of Burn (tiff)\n",
    "#### Exploring the 2016 map with geopandas\n",
    "Andrew McDonald // CSE 847 // 7 March 2021"
   ],
   "metadata": {
    "collapsed": false
   }
  },
  {
   "cell_type": "code",
   "execution_count": 9,
   "outputs": [],
   "source": [
    "import numpy as np\n",
    "import pandas as pd\n",
    "import geopandas as gpd\n",
    "import matplotlib.pyplot as plt\n",
    "import contextily as ctx\n",
    "import rasterio\n",
    "from pyproj import Transformer\n",
    "from osgeo import gdal"
   ],
   "metadata": {
    "collapsed": false,
    "pycharm": {
     "name": "#%%\n"
    }
   }
  },
  {
   "cell_type": "code",
   "execution_count": 12,
   "outputs": [
    {
     "data": {
      "text/plain": "(81600, 31200)"
     },
     "execution_count": 12,
     "metadata": {},
     "output_type": "execute_result"
    }
   ],
   "source": [
    "raster = rasterio.open(\"2016_wildfires/Global_fire_atlas_V1_day_of_burn_2016.tif\")\n",
    "data = gdal.Open('2016_wildfires/Global_fire_atlas_V1_day_of_burn_2016.tif')\n",
    "data.RasterXSize, data.RasterYSize"
   ],
   "metadata": {
    "collapsed": false,
    "pycharm": {
     "name": "#%%\n"
    }
   }
  },
  {
   "cell_type": "code",
   "execution_count": 14,
   "outputs": [
    {
     "data": {
      "text/plain": "[(-12944132.683962785, 2709502.4591529975),\n (-4554614.313758525, 5566890.402306576)]"
     },
     "execution_count": 14,
     "metadata": {},
     "output_type": "execute_result"
    }
   ],
   "source": [
    "transformer = Transformer.from_crs(\"epsg:3857\", raster.crs)\n",
    "bounds3857 = [(-14225848.2082,2798206.7315),(-7103140.1645,6457400.1495)]       # usa bounding box from http://bboxfinder.com/\n",
    "coord = [transformer.transform(x, y) for x, y in bounds3857]\n",
    "coord"
   ],
   "metadata": {
    "collapsed": false,
    "pycharm": {
     "name": "#%%\n"
    }
   }
  },
  {
   "cell_type": "code",
   "execution_count": 15,
   "outputs": [
    {
     "data": {
      "text/plain": "(4784, 15261, 10951, 33369)"
     },
     "execution_count": 15,
     "metadata": {},
     "output_type": "execute_result"
    }
   ],
   "source": [
    "maxrow, mincol = raster.index(*coord[0])     # bottom left corner\n",
    "minrow, maxcol = raster.index(*coord[1])     # top left corner\n",
    "minrow, mincol, maxrow, maxcol"
   ],
   "metadata": {
    "collapsed": false,
    "pycharm": {
     "name": "#%%\n"
    }
   }
  },
  {
   "cell_type": "code",
   "execution_count": 28,
   "outputs": [
    {
     "data": {
      "text/plain": "(19000, 7000)"
     },
     "execution_count": 28,
     "metadata": {},
     "output_type": "execute_result"
    }
   ],
   "source": [
    "minrow, mincol, maxrow, maxcol = 4000, 15000, 11000, 34000\n",
    "width, height = maxcol - mincol, maxrow - minrow\n",
    "width, height"
   ],
   "metadata": {
    "collapsed": false,
    "pycharm": {
     "name": "#%%\n"
    }
   }
  },
  {
   "cell_type": "code",
   "execution_count": 30,
   "outputs": [
    {
     "data": {
      "text/plain": "(19.0, 7.0, 133.0)"
     },
     "execution_count": 30,
     "metadata": {},
     "output_type": "execute_result"
    }
   ],
   "source": [
    "tile_dx, tile_dy = 1000, 1000\n",
    "num_x, num_y = width/tile_dx, height/tile_dy\n",
    "num_x, num_y, num_x * num_y"
   ],
   "metadata": {
    "collapsed": false,
    "pycharm": {
     "name": "#%%\n"
    }
   }
  },
  {
   "cell_type": "code",
   "execution_count": 31,
   "outputs": [
    {
     "name": "stdout",
     "output_type": "stream",
     "text": [
      "Finished saving 0 tiff files.\n",
      "Finished saving 10 tiff files.\n",
      "Finished saving 20 tiff files.\n",
      "Finished saving 30 tiff files.\n",
      "Finished saving 40 tiff files.\n",
      "Finished saving 50 tiff files.\n",
      "Finished saving 60 tiff files.\n",
      "Finished saving 70 tiff files.\n",
      "Finished saving 80 tiff files.\n",
      "Finished saving 90 tiff files.\n",
      "Finished saving 100 tiff files.\n",
      "Finished saving 110 tiff files.\n",
      "Finished saving 120 tiff files.\n",
      "Finished saving 130 tiff files.\n"
     ]
    }
   ],
   "source": [
    "i = 0\n",
    "for x in range(mincol, maxcol, tile_dx):\n",
    "    for y in range(minrow, maxrow, tile_dy):\n",
    "        result = gdal.Translate(f'2016_wildfires/day_of_burn/x{x}y{y}.tif', data, srcWin=[x, y, tile_dx, tile_dy])\n",
    "        del result\n",
    "\n",
    "        if i % 10 == 0:\n",
    "            print(f\"Finished saving {i} tiff files.\")\n",
    "        i += 1"
   ],
   "metadata": {
    "collapsed": false,
    "pycharm": {
     "name": "#%%\n"
    }
   }
  }
 ],
 "metadata": {
  "kernelspec": {
   "display_name": "Python 3",
   "language": "python",
   "name": "python3"
  },
  "language_info": {
   "codemirror_mode": {
    "name": "ipython",
    "version": 2
   },
   "file_extension": ".py",
   "mimetype": "text/x-python",
   "name": "python",
   "nbconvert_exporter": "python",
   "pygments_lexer": "ipython2",
   "version": "2.7.6"
  }
 },
 "nbformat": 4,
 "nbformat_minor": 0
}