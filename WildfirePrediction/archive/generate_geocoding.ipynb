{
 "cells": [
  {
   "cell_type": "markdown",
   "metadata": {
    "collapsed": true,
    "pycharm": {
     "name": "#%% md\n"
    }
   },
   "source": [
    "# Geocode Data Scraping\n",
    "#### USZipCode Library\n",
    "Andrew McDonald // CSE 847 // April 2021"
   ]
  },
  {
   "cell_type": "code",
   "execution_count": 1,
   "outputs": [],
   "source": [
    "import numpy as np\n",
    "import pandas as pd\n",
    "import geopandas as gpd\n",
    "import matplotlib.pyplot as plt\n",
    "from uszipcode import SearchEngine, Zipcode"
   ],
   "metadata": {
    "collapsed": false,
    "pycharm": {
     "name": "#%%\n"
    }
   }
  },
  {
   "cell_type": "code",
   "execution_count": 8,
   "outputs": [
    {
     "data": {
      "text/plain": "       fire_ID  latitude  longitude   size  perimeter  start_date  start_DOY  \\\n0            1   20.8438  -156.4130   0.86       4.63  2016-10-26        300   \n1            2   20.8396  -156.4180   1.50       6.48  2016-10-28        302   \n2            3   20.8105  -156.4370   0.43       2.78  2016-11-29        334   \n3            4   20.6271  -156.2470  18.65      30.56  2016-02-16         47   \n4            5   19.8063  -155.8950   7.72      12.96  2016-03-20         80   \n...        ...       ...        ...    ...        ...         ...        ...   \n11519    56791   40.0271   -74.4895   0.86       4.63  2016-06-26        178   \n11520    56792   40.0063   -74.4994   3.00       9.26  2016-06-13        165   \n11521    56793   39.9979   -74.5012   3.86      12.04  2016-06-14        166   \n11522    97709   69.3521  -141.1620   0.21       1.85  2016-08-17        230   \n11523    97710   69.3438  -141.1780   0.21       1.85  2016-07-31        213   \n\n         end_date  end_DOY  duration  ...  direction_  landcover  \\\n0      2016-11-02      307         8  ...        east         12   \n1      2016-11-02      307         6  ...   southeast         12   \n2      2016-11-29      334         1  ...        none         12   \n3      2016-02-20       51         5  ...   northwest          7   \n4      2016-03-25       85         6  ...   southeast          7   \n...           ...      ...       ...  ...         ...        ...   \n11519  2016-07-04      186         9  ...        west          4   \n11520  2016-06-19      171         7  ...        west          5   \n11521  2016-06-21      173         8  ...       south          5   \n11522  2016-08-17      230         1  ...        none          7   \n11523  2016-07-31      213         1  ...        none         10   \n\n                       landcover_  tile_ID    pop_est      continent  \\\n0                       Croplands   h03v06  326625791  North America   \n1                       Croplands   h03v06  326625791  North America   \n2                       Croplands   h03v06  326625791  North America   \n3                 Open shrublands   h03v06  326625791  North America   \n4                 Open shrublands   h03v07  326625791  North America   \n...                           ...      ...        ...            ...   \n11519  Deciduous Broadleaf forest   h12v04  326625791  North America   \n11520                Mixed forest   h12v04  326625791  North America   \n11521                Mixed forest   h12v05  326625791  North America   \n11522             Open shrublands   h13v02  326625791  North America   \n11523                  Grasslands   h13v02  326625791  North America   \n\n                           name iso_a3  gdp_md_est  \\\n0      United States of America    USA  18560000.0   \n1      United States of America    USA  18560000.0   \n2      United States of America    USA  18560000.0   \n3      United States of America    USA  18560000.0   \n4      United States of America    USA  18560000.0   \n...                         ...    ...         ...   \n11519  United States of America    USA  18560000.0   \n11520  United States of America    USA  18560000.0   \n11521  United States of America    USA  18560000.0   \n11522  United States of America    USA  18560000.0   \n11523  United States of America    USA  18560000.0   \n\n                          geometry  \n0      POINT (-156.41374 20.84379)  \n1      POINT (-156.41833 20.83962)  \n2      POINT (-156.43708 20.81045)  \n3      POINT (-156.24786 20.62712)  \n4      POINT (-155.89512 19.80629)  \n...                            ...  \n11519   POINT (-74.48954 40.02711)  \n11520   POINT (-74.49944 40.00628)  \n11521   POINT (-74.50123 39.99794)  \n11522  POINT (-141.16203 69.35210)  \n11523  POINT (-141.17844 69.34376)  \n\n[11524 rows x 24 columns]",
      "text/html": "<div>\n<style scoped>\n    .dataframe tbody tr th:only-of-type {\n        vertical-align: middle;\n    }\n\n    .dataframe tbody tr th {\n        vertical-align: top;\n    }\n\n    .dataframe thead th {\n        text-align: right;\n    }\n</style>\n<table border=\"1\" class=\"dataframe\">\n  <thead>\n    <tr style=\"text-align: right;\">\n      <th></th>\n      <th>fire_ID</th>\n      <th>latitude</th>\n      <th>longitude</th>\n      <th>size</th>\n      <th>perimeter</th>\n      <th>start_date</th>\n      <th>start_DOY</th>\n      <th>end_date</th>\n      <th>end_DOY</th>\n      <th>duration</th>\n      <th>...</th>\n      <th>direction_</th>\n      <th>landcover</th>\n      <th>landcover_</th>\n      <th>tile_ID</th>\n      <th>pop_est</th>\n      <th>continent</th>\n      <th>name</th>\n      <th>iso_a3</th>\n      <th>gdp_md_est</th>\n      <th>geometry</th>\n    </tr>\n  </thead>\n  <tbody>\n    <tr>\n      <th>0</th>\n      <td>1</td>\n      <td>20.8438</td>\n      <td>-156.4130</td>\n      <td>0.86</td>\n      <td>4.63</td>\n      <td>2016-10-26</td>\n      <td>300</td>\n      <td>2016-11-02</td>\n      <td>307</td>\n      <td>8</td>\n      <td>...</td>\n      <td>east</td>\n      <td>12</td>\n      <td>Croplands</td>\n      <td>h03v06</td>\n      <td>326625791</td>\n      <td>North America</td>\n      <td>United States of America</td>\n      <td>USA</td>\n      <td>18560000.0</td>\n      <td>POINT (-156.41374 20.84379)</td>\n    </tr>\n    <tr>\n      <th>1</th>\n      <td>2</td>\n      <td>20.8396</td>\n      <td>-156.4180</td>\n      <td>1.50</td>\n      <td>6.48</td>\n      <td>2016-10-28</td>\n      <td>302</td>\n      <td>2016-11-02</td>\n      <td>307</td>\n      <td>6</td>\n      <td>...</td>\n      <td>southeast</td>\n      <td>12</td>\n      <td>Croplands</td>\n      <td>h03v06</td>\n      <td>326625791</td>\n      <td>North America</td>\n      <td>United States of America</td>\n      <td>USA</td>\n      <td>18560000.0</td>\n      <td>POINT (-156.41833 20.83962)</td>\n    </tr>\n    <tr>\n      <th>2</th>\n      <td>3</td>\n      <td>20.8105</td>\n      <td>-156.4370</td>\n      <td>0.43</td>\n      <td>2.78</td>\n      <td>2016-11-29</td>\n      <td>334</td>\n      <td>2016-11-29</td>\n      <td>334</td>\n      <td>1</td>\n      <td>...</td>\n      <td>none</td>\n      <td>12</td>\n      <td>Croplands</td>\n      <td>h03v06</td>\n      <td>326625791</td>\n      <td>North America</td>\n      <td>United States of America</td>\n      <td>USA</td>\n      <td>18560000.0</td>\n      <td>POINT (-156.43708 20.81045)</td>\n    </tr>\n    <tr>\n      <th>3</th>\n      <td>4</td>\n      <td>20.6271</td>\n      <td>-156.2470</td>\n      <td>18.65</td>\n      <td>30.56</td>\n      <td>2016-02-16</td>\n      <td>47</td>\n      <td>2016-02-20</td>\n      <td>51</td>\n      <td>5</td>\n      <td>...</td>\n      <td>northwest</td>\n      <td>7</td>\n      <td>Open shrublands</td>\n      <td>h03v06</td>\n      <td>326625791</td>\n      <td>North America</td>\n      <td>United States of America</td>\n      <td>USA</td>\n      <td>18560000.0</td>\n      <td>POINT (-156.24786 20.62712)</td>\n    </tr>\n    <tr>\n      <th>4</th>\n      <td>5</td>\n      <td>19.8063</td>\n      <td>-155.8950</td>\n      <td>7.72</td>\n      <td>12.96</td>\n      <td>2016-03-20</td>\n      <td>80</td>\n      <td>2016-03-25</td>\n      <td>85</td>\n      <td>6</td>\n      <td>...</td>\n      <td>southeast</td>\n      <td>7</td>\n      <td>Open shrublands</td>\n      <td>h03v07</td>\n      <td>326625791</td>\n      <td>North America</td>\n      <td>United States of America</td>\n      <td>USA</td>\n      <td>18560000.0</td>\n      <td>POINT (-155.89512 19.80629)</td>\n    </tr>\n    <tr>\n      <th>...</th>\n      <td>...</td>\n      <td>...</td>\n      <td>...</td>\n      <td>...</td>\n      <td>...</td>\n      <td>...</td>\n      <td>...</td>\n      <td>...</td>\n      <td>...</td>\n      <td>...</td>\n      <td>...</td>\n      <td>...</td>\n      <td>...</td>\n      <td>...</td>\n      <td>...</td>\n      <td>...</td>\n      <td>...</td>\n      <td>...</td>\n      <td>...</td>\n      <td>...</td>\n      <td>...</td>\n    </tr>\n    <tr>\n      <th>11519</th>\n      <td>56791</td>\n      <td>40.0271</td>\n      <td>-74.4895</td>\n      <td>0.86</td>\n      <td>4.63</td>\n      <td>2016-06-26</td>\n      <td>178</td>\n      <td>2016-07-04</td>\n      <td>186</td>\n      <td>9</td>\n      <td>...</td>\n      <td>west</td>\n      <td>4</td>\n      <td>Deciduous Broadleaf forest</td>\n      <td>h12v04</td>\n      <td>326625791</td>\n      <td>North America</td>\n      <td>United States of America</td>\n      <td>USA</td>\n      <td>18560000.0</td>\n      <td>POINT (-74.48954 40.02711)</td>\n    </tr>\n    <tr>\n      <th>11520</th>\n      <td>56792</td>\n      <td>40.0063</td>\n      <td>-74.4994</td>\n      <td>3.00</td>\n      <td>9.26</td>\n      <td>2016-06-13</td>\n      <td>165</td>\n      <td>2016-06-19</td>\n      <td>171</td>\n      <td>7</td>\n      <td>...</td>\n      <td>west</td>\n      <td>5</td>\n      <td>Mixed forest</td>\n      <td>h12v04</td>\n      <td>326625791</td>\n      <td>North America</td>\n      <td>United States of America</td>\n      <td>USA</td>\n      <td>18560000.0</td>\n      <td>POINT (-74.49944 40.00628)</td>\n    </tr>\n    <tr>\n      <th>11521</th>\n      <td>56793</td>\n      <td>39.9979</td>\n      <td>-74.5012</td>\n      <td>3.86</td>\n      <td>12.04</td>\n      <td>2016-06-14</td>\n      <td>166</td>\n      <td>2016-06-21</td>\n      <td>173</td>\n      <td>8</td>\n      <td>...</td>\n      <td>south</td>\n      <td>5</td>\n      <td>Mixed forest</td>\n      <td>h12v05</td>\n      <td>326625791</td>\n      <td>North America</td>\n      <td>United States of America</td>\n      <td>USA</td>\n      <td>18560000.0</td>\n      <td>POINT (-74.50123 39.99794)</td>\n    </tr>\n    <tr>\n      <th>11522</th>\n      <td>97709</td>\n      <td>69.3521</td>\n      <td>-141.1620</td>\n      <td>0.21</td>\n      <td>1.85</td>\n      <td>2016-08-17</td>\n      <td>230</td>\n      <td>2016-08-17</td>\n      <td>230</td>\n      <td>1</td>\n      <td>...</td>\n      <td>none</td>\n      <td>7</td>\n      <td>Open shrublands</td>\n      <td>h13v02</td>\n      <td>326625791</td>\n      <td>North America</td>\n      <td>United States of America</td>\n      <td>USA</td>\n      <td>18560000.0</td>\n      <td>POINT (-141.16203 69.35210)</td>\n    </tr>\n    <tr>\n      <th>11523</th>\n      <td>97710</td>\n      <td>69.3438</td>\n      <td>-141.1780</td>\n      <td>0.21</td>\n      <td>1.85</td>\n      <td>2016-07-31</td>\n      <td>213</td>\n      <td>2016-07-31</td>\n      <td>213</td>\n      <td>1</td>\n      <td>...</td>\n      <td>none</td>\n      <td>10</td>\n      <td>Grasslands</td>\n      <td>h13v02</td>\n      <td>326625791</td>\n      <td>North America</td>\n      <td>United States of America</td>\n      <td>USA</td>\n      <td>18560000.0</td>\n      <td>POINT (-141.17844 69.34376)</td>\n    </tr>\n  </tbody>\n</table>\n<p>11524 rows × 24 columns</p>\n</div>"
     },
     "execution_count": 8,
     "metadata": {},
     "output_type": "execute_result"
    }
   ],
   "source": [
    "ignitions = gpd.read_file(\"2016_wildfires/usa_2016_ignitions.shp\")\n",
    "ignitions"
   ],
   "metadata": {
    "collapsed": false,
    "pycharm": {
     "name": "#%%\n"
    }
   }
  },
  {
   "cell_type": "code",
   "execution_count": 11,
   "outputs": [],
   "source": [
    "engine = SearchEngine(simple_zipcode=True)\n",
    "def get_zipcode(lat, lon):\n",
    "    result = engine.by_coordinates(lat=lat, lng=lon, returns=1)\n",
    "    return result[0].zipcode if result else None"
   ],
   "metadata": {
    "collapsed": false,
    "pycharm": {
     "name": "#%%\n"
    }
   }
  },
  {
   "cell_type": "code",
   "execution_count": 12,
   "outputs": [
    {
     "data": {
      "text/plain": "       fire_ID  latitude  longitude   size  perimeter  start_date  start_DOY  \\\n0            1   20.8438  -156.4130   0.86       4.63  2016-10-26        300   \n1            2   20.8396  -156.4180   1.50       6.48  2016-10-28        302   \n2            3   20.8105  -156.4370   0.43       2.78  2016-11-29        334   \n3            4   20.6271  -156.2470  18.65      30.56  2016-02-16         47   \n4            5   19.8063  -155.8950   7.72      12.96  2016-03-20         80   \n...        ...       ...        ...    ...        ...         ...        ...   \n11519    56791   40.0271   -74.4895   0.86       4.63  2016-06-26        178   \n11520    56792   40.0063   -74.4994   3.00       9.26  2016-06-13        165   \n11521    56793   39.9979   -74.5012   3.86      12.04  2016-06-14        166   \n11522    97709   69.3521  -141.1620   0.21       1.85  2016-08-17        230   \n11523    97710   69.3438  -141.1780   0.21       1.85  2016-07-31        213   \n\n         end_date  end_DOY  duration  ...  landcover  \\\n0      2016-11-02      307         8  ...         12   \n1      2016-11-02      307         6  ...         12   \n2      2016-11-29      334         1  ...         12   \n3      2016-02-20       51         5  ...          7   \n4      2016-03-25       85         6  ...          7   \n...           ...      ...       ...  ...        ...   \n11519  2016-07-04      186         9  ...          4   \n11520  2016-06-19      171         7  ...          5   \n11521  2016-06-21      173         8  ...          5   \n11522  2016-08-17      230         1  ...          7   \n11523  2016-07-31      213         1  ...         10   \n\n                       landcover_  tile_ID    pop_est      continent  \\\n0                       Croplands   h03v06  326625791  North America   \n1                       Croplands   h03v06  326625791  North America   \n2                       Croplands   h03v06  326625791  North America   \n3                 Open shrublands   h03v06  326625791  North America   \n4                 Open shrublands   h03v07  326625791  North America   \n...                           ...      ...        ...            ...   \n11519  Deciduous Broadleaf forest   h12v04  326625791  North America   \n11520                Mixed forest   h12v04  326625791  North America   \n11521                Mixed forest   h12v05  326625791  North America   \n11522             Open shrublands   h13v02  326625791  North America   \n11523                  Grasslands   h13v02  326625791  North America   \n\n                           name iso_a3  gdp_md_est  \\\n0      United States of America    USA  18560000.0   \n1      United States of America    USA  18560000.0   \n2      United States of America    USA  18560000.0   \n3      United States of America    USA  18560000.0   \n4      United States of America    USA  18560000.0   \n...                         ...    ...         ...   \n11519  United States of America    USA  18560000.0   \n11520  United States of America    USA  18560000.0   \n11521  United States of America    USA  18560000.0   \n11522  United States of America    USA  18560000.0   \n11523  United States of America    USA  18560000.0   \n\n                          geometry zipcode  \n0      POINT (-156.41374 20.84379)   96779  \n1      POINT (-156.41833 20.83962)   96779  \n2      POINT (-156.43708 20.81045)   96779  \n3      POINT (-156.24786 20.62712)   96790  \n4      POINT (-155.89512 19.80629)   96738  \n...                            ...     ...  \n11519   POINT (-74.48954 40.02711)   08533  \n11520   POINT (-74.49944 40.00628)   08511  \n11521   POINT (-74.50123 39.99794)   08511  \n11522  POINT (-141.16203 69.35210)    None  \n11523  POINT (-141.17844 69.34376)    None  \n\n[11524 rows x 25 columns]",
      "text/html": "<div>\n<style scoped>\n    .dataframe tbody tr th:only-of-type {\n        vertical-align: middle;\n    }\n\n    .dataframe tbody tr th {\n        vertical-align: top;\n    }\n\n    .dataframe thead th {\n        text-align: right;\n    }\n</style>\n<table border=\"1\" class=\"dataframe\">\n  <thead>\n    <tr style=\"text-align: right;\">\n      <th></th>\n      <th>fire_ID</th>\n      <th>latitude</th>\n      <th>longitude</th>\n      <th>size</th>\n      <th>perimeter</th>\n      <th>start_date</th>\n      <th>start_DOY</th>\n      <th>end_date</th>\n      <th>end_DOY</th>\n      <th>duration</th>\n      <th>...</th>\n      <th>landcover</th>\n      <th>landcover_</th>\n      <th>tile_ID</th>\n      <th>pop_est</th>\n      <th>continent</th>\n      <th>name</th>\n      <th>iso_a3</th>\n      <th>gdp_md_est</th>\n      <th>geometry</th>\n      <th>zipcode</th>\n    </tr>\n  </thead>\n  <tbody>\n    <tr>\n      <th>0</th>\n      <td>1</td>\n      <td>20.8438</td>\n      <td>-156.4130</td>\n      <td>0.86</td>\n      <td>4.63</td>\n      <td>2016-10-26</td>\n      <td>300</td>\n      <td>2016-11-02</td>\n      <td>307</td>\n      <td>8</td>\n      <td>...</td>\n      <td>12</td>\n      <td>Croplands</td>\n      <td>h03v06</td>\n      <td>326625791</td>\n      <td>North America</td>\n      <td>United States of America</td>\n      <td>USA</td>\n      <td>18560000.0</td>\n      <td>POINT (-156.41374 20.84379)</td>\n      <td>96779</td>\n    </tr>\n    <tr>\n      <th>1</th>\n      <td>2</td>\n      <td>20.8396</td>\n      <td>-156.4180</td>\n      <td>1.50</td>\n      <td>6.48</td>\n      <td>2016-10-28</td>\n      <td>302</td>\n      <td>2016-11-02</td>\n      <td>307</td>\n      <td>6</td>\n      <td>...</td>\n      <td>12</td>\n      <td>Croplands</td>\n      <td>h03v06</td>\n      <td>326625791</td>\n      <td>North America</td>\n      <td>United States of America</td>\n      <td>USA</td>\n      <td>18560000.0</td>\n      <td>POINT (-156.41833 20.83962)</td>\n      <td>96779</td>\n    </tr>\n    <tr>\n      <th>2</th>\n      <td>3</td>\n      <td>20.8105</td>\n      <td>-156.4370</td>\n      <td>0.43</td>\n      <td>2.78</td>\n      <td>2016-11-29</td>\n      <td>334</td>\n      <td>2016-11-29</td>\n      <td>334</td>\n      <td>1</td>\n      <td>...</td>\n      <td>12</td>\n      <td>Croplands</td>\n      <td>h03v06</td>\n      <td>326625791</td>\n      <td>North America</td>\n      <td>United States of America</td>\n      <td>USA</td>\n      <td>18560000.0</td>\n      <td>POINT (-156.43708 20.81045)</td>\n      <td>96779</td>\n    </tr>\n    <tr>\n      <th>3</th>\n      <td>4</td>\n      <td>20.6271</td>\n      <td>-156.2470</td>\n      <td>18.65</td>\n      <td>30.56</td>\n      <td>2016-02-16</td>\n      <td>47</td>\n      <td>2016-02-20</td>\n      <td>51</td>\n      <td>5</td>\n      <td>...</td>\n      <td>7</td>\n      <td>Open shrublands</td>\n      <td>h03v06</td>\n      <td>326625791</td>\n      <td>North America</td>\n      <td>United States of America</td>\n      <td>USA</td>\n      <td>18560000.0</td>\n      <td>POINT (-156.24786 20.62712)</td>\n      <td>96790</td>\n    </tr>\n    <tr>\n      <th>4</th>\n      <td>5</td>\n      <td>19.8063</td>\n      <td>-155.8950</td>\n      <td>7.72</td>\n      <td>12.96</td>\n      <td>2016-03-20</td>\n      <td>80</td>\n      <td>2016-03-25</td>\n      <td>85</td>\n      <td>6</td>\n      <td>...</td>\n      <td>7</td>\n      <td>Open shrublands</td>\n      <td>h03v07</td>\n      <td>326625791</td>\n      <td>North America</td>\n      <td>United States of America</td>\n      <td>USA</td>\n      <td>18560000.0</td>\n      <td>POINT (-155.89512 19.80629)</td>\n      <td>96738</td>\n    </tr>\n    <tr>\n      <th>...</th>\n      <td>...</td>\n      <td>...</td>\n      <td>...</td>\n      <td>...</td>\n      <td>...</td>\n      <td>...</td>\n      <td>...</td>\n      <td>...</td>\n      <td>...</td>\n      <td>...</td>\n      <td>...</td>\n      <td>...</td>\n      <td>...</td>\n      <td>...</td>\n      <td>...</td>\n      <td>...</td>\n      <td>...</td>\n      <td>...</td>\n      <td>...</td>\n      <td>...</td>\n      <td>...</td>\n    </tr>\n    <tr>\n      <th>11519</th>\n      <td>56791</td>\n      <td>40.0271</td>\n      <td>-74.4895</td>\n      <td>0.86</td>\n      <td>4.63</td>\n      <td>2016-06-26</td>\n      <td>178</td>\n      <td>2016-07-04</td>\n      <td>186</td>\n      <td>9</td>\n      <td>...</td>\n      <td>4</td>\n      <td>Deciduous Broadleaf forest</td>\n      <td>h12v04</td>\n      <td>326625791</td>\n      <td>North America</td>\n      <td>United States of America</td>\n      <td>USA</td>\n      <td>18560000.0</td>\n      <td>POINT (-74.48954 40.02711)</td>\n      <td>08533</td>\n    </tr>\n    <tr>\n      <th>11520</th>\n      <td>56792</td>\n      <td>40.0063</td>\n      <td>-74.4994</td>\n      <td>3.00</td>\n      <td>9.26</td>\n      <td>2016-06-13</td>\n      <td>165</td>\n      <td>2016-06-19</td>\n      <td>171</td>\n      <td>7</td>\n      <td>...</td>\n      <td>5</td>\n      <td>Mixed forest</td>\n      <td>h12v04</td>\n      <td>326625791</td>\n      <td>North America</td>\n      <td>United States of America</td>\n      <td>USA</td>\n      <td>18560000.0</td>\n      <td>POINT (-74.49944 40.00628)</td>\n      <td>08511</td>\n    </tr>\n    <tr>\n      <th>11521</th>\n      <td>56793</td>\n      <td>39.9979</td>\n      <td>-74.5012</td>\n      <td>3.86</td>\n      <td>12.04</td>\n      <td>2016-06-14</td>\n      <td>166</td>\n      <td>2016-06-21</td>\n      <td>173</td>\n      <td>8</td>\n      <td>...</td>\n      <td>5</td>\n      <td>Mixed forest</td>\n      <td>h12v05</td>\n      <td>326625791</td>\n      <td>North America</td>\n      <td>United States of America</td>\n      <td>USA</td>\n      <td>18560000.0</td>\n      <td>POINT (-74.50123 39.99794)</td>\n      <td>08511</td>\n    </tr>\n    <tr>\n      <th>11522</th>\n      <td>97709</td>\n      <td>69.3521</td>\n      <td>-141.1620</td>\n      <td>0.21</td>\n      <td>1.85</td>\n      <td>2016-08-17</td>\n      <td>230</td>\n      <td>2016-08-17</td>\n      <td>230</td>\n      <td>1</td>\n      <td>...</td>\n      <td>7</td>\n      <td>Open shrublands</td>\n      <td>h13v02</td>\n      <td>326625791</td>\n      <td>North America</td>\n      <td>United States of America</td>\n      <td>USA</td>\n      <td>18560000.0</td>\n      <td>POINT (-141.16203 69.35210)</td>\n      <td>None</td>\n    </tr>\n    <tr>\n      <th>11523</th>\n      <td>97710</td>\n      <td>69.3438</td>\n      <td>-141.1780</td>\n      <td>0.21</td>\n      <td>1.85</td>\n      <td>2016-07-31</td>\n      <td>213</td>\n      <td>2016-07-31</td>\n      <td>213</td>\n      <td>1</td>\n      <td>...</td>\n      <td>10</td>\n      <td>Grasslands</td>\n      <td>h13v02</td>\n      <td>326625791</td>\n      <td>North America</td>\n      <td>United States of America</td>\n      <td>USA</td>\n      <td>18560000.0</td>\n      <td>POINT (-141.17844 69.34376)</td>\n      <td>None</td>\n    </tr>\n  </tbody>\n</table>\n<p>11524 rows × 25 columns</p>\n</div>"
     },
     "execution_count": 12,
     "metadata": {},
     "output_type": "execute_result"
    }
   ],
   "source": [
    "ignitions[\"zipcode\"] = ignitions.apply(lambda x: get_zipcode(x[\"latitude\"], x[\"longitude\"]), axis=1)\n",
    "ignitions"
   ],
   "metadata": {
    "collapsed": false,
    "pycharm": {
     "name": "#%%\n"
    }
   }
  },
  {
   "cell_type": "code",
   "execution_count": 21,
   "outputs": [
    {
     "name": "stdout",
     "output_type": "stream",
     "text": [
      "# Zip Matches = 10887\n",
      "# Ignitions   = 11524\n",
      "Match Ratio   = 0.9447240541478653\n"
     ]
    }
   ],
   "source": [
    "null_entries = ignitions[ignitions[\"zipcode\"].isna()]\n",
    "match_ratio = (len(ignitions) - len(null_entries)) / len(ignitions)\n",
    "print(f\"# Zip Matches = {len(ignitions) - len(null_entries)}\")\n",
    "print(f\"# Ignitions   = {len(ignitions)}\")\n",
    "print(f\"Match Ratio   = {match_ratio}\")"
   ],
   "metadata": {
    "collapsed": false,
    "pycharm": {
     "name": "#%%\n"
    }
   }
  },
  {
   "cell_type": "code",
   "execution_count": 27,
   "outputs": [
    {
     "data": {
      "text/plain": "       fire_ID  latitude  longitude   size  perimeter  start_date  start_DOY  \\\n0            1   20.8438  -156.4130   0.86       4.63  2016-10-26        300   \n1            2   20.8396  -156.4180   1.50       6.48  2016-10-28        302   \n2            3   20.8105  -156.4370   0.43       2.78  2016-11-29        334   \n3            4   20.6271  -156.2470  18.65      30.56  2016-02-16         47   \n4            5   19.8063  -155.8950   7.72      12.96  2016-03-20         80   \n...        ...       ...        ...    ...        ...         ...        ...   \n10882    56789   40.8521   -78.1691   0.43       2.78  2016-04-14        105   \n10883    56790   40.4188   -76.7056   0.64       3.70  2015-11-14        318   \n10884    56791   40.0271   -74.4895   0.86       4.63  2016-06-26        178   \n10885    56792   40.0063   -74.4994   3.00       9.26  2016-06-13        165   \n10886    56793   39.9979   -74.5012   3.86      12.04  2016-06-14        166   \n\n         end_date  end_DOY  duration  ...  landcover  \\\n0      2016-11-02      307         8  ...         12   \n1      2016-11-02      307         6  ...         12   \n2      2016-11-29      334         1  ...         12   \n3      2016-02-20       51         5  ...          7   \n4      2016-03-25       85         6  ...          7   \n...           ...      ...       ...  ...        ...   \n10882  2016-04-14      105         1  ...          4   \n10883  2015-11-14      318         1  ...          5   \n10884  2016-07-04      186         9  ...          4   \n10885  2016-06-19      171         7  ...          5   \n10886  2016-06-21      173         8  ...          5   \n\n                       landcover_  tile_ID    pop_est      continent  \\\n0                       Croplands   h03v06  326625791  North America   \n1                       Croplands   h03v06  326625791  North America   \n2                       Croplands   h03v06  326625791  North America   \n3                 Open shrublands   h03v06  326625791  North America   \n4                 Open shrublands   h03v07  326625791  North America   \n...                           ...      ...        ...            ...   \n10882  Deciduous Broadleaf forest   h12v04  326625791  North America   \n10883                Mixed forest   h12v04  326625791  North America   \n10884  Deciduous Broadleaf forest   h12v04  326625791  North America   \n10885                Mixed forest   h12v04  326625791  North America   \n10886                Mixed forest   h12v05  326625791  North America   \n\n                           name iso_a3  gdp_md_est  \\\n0      United States of America    USA  18560000.0   \n1      United States of America    USA  18560000.0   \n2      United States of America    USA  18560000.0   \n3      United States of America    USA  18560000.0   \n4      United States of America    USA  18560000.0   \n...                         ...    ...         ...   \n10882  United States of America    USA  18560000.0   \n10883  United States of America    USA  18560000.0   \n10884  United States of America    USA  18560000.0   \n10885  United States of America    USA  18560000.0   \n10886  United States of America    USA  18560000.0   \n\n                          geometry zipcode  \n0      POINT (-156.41374 20.84379)   96779  \n1      POINT (-156.41833 20.83962)   96779  \n2      POINT (-156.43708 20.81045)   96779  \n3      POINT (-156.24786 20.62712)   96790  \n4      POINT (-155.89512 19.80629)   96738  \n...                            ...     ...  \n10882   POINT (-78.16909 40.85211)   16866  \n10883   POINT (-76.70562 40.41878)   17028  \n10884   POINT (-74.48954 40.02711)   08533  \n10885   POINT (-74.49944 40.00628)   08511  \n10886   POINT (-74.50123 39.99794)   08511  \n\n[10887 rows x 25 columns]",
      "text/html": "<div>\n<style scoped>\n    .dataframe tbody tr th:only-of-type {\n        vertical-align: middle;\n    }\n\n    .dataframe tbody tr th {\n        vertical-align: top;\n    }\n\n    .dataframe thead th {\n        text-align: right;\n    }\n</style>\n<table border=\"1\" class=\"dataframe\">\n  <thead>\n    <tr style=\"text-align: right;\">\n      <th></th>\n      <th>fire_ID</th>\n      <th>latitude</th>\n      <th>longitude</th>\n      <th>size</th>\n      <th>perimeter</th>\n      <th>start_date</th>\n      <th>start_DOY</th>\n      <th>end_date</th>\n      <th>end_DOY</th>\n      <th>duration</th>\n      <th>...</th>\n      <th>landcover</th>\n      <th>landcover_</th>\n      <th>tile_ID</th>\n      <th>pop_est</th>\n      <th>continent</th>\n      <th>name</th>\n      <th>iso_a3</th>\n      <th>gdp_md_est</th>\n      <th>geometry</th>\n      <th>zipcode</th>\n    </tr>\n  </thead>\n  <tbody>\n    <tr>\n      <th>0</th>\n      <td>1</td>\n      <td>20.8438</td>\n      <td>-156.4130</td>\n      <td>0.86</td>\n      <td>4.63</td>\n      <td>2016-10-26</td>\n      <td>300</td>\n      <td>2016-11-02</td>\n      <td>307</td>\n      <td>8</td>\n      <td>...</td>\n      <td>12</td>\n      <td>Croplands</td>\n      <td>h03v06</td>\n      <td>326625791</td>\n      <td>North America</td>\n      <td>United States of America</td>\n      <td>USA</td>\n      <td>18560000.0</td>\n      <td>POINT (-156.41374 20.84379)</td>\n      <td>96779</td>\n    </tr>\n    <tr>\n      <th>1</th>\n      <td>2</td>\n      <td>20.8396</td>\n      <td>-156.4180</td>\n      <td>1.50</td>\n      <td>6.48</td>\n      <td>2016-10-28</td>\n      <td>302</td>\n      <td>2016-11-02</td>\n      <td>307</td>\n      <td>6</td>\n      <td>...</td>\n      <td>12</td>\n      <td>Croplands</td>\n      <td>h03v06</td>\n      <td>326625791</td>\n      <td>North America</td>\n      <td>United States of America</td>\n      <td>USA</td>\n      <td>18560000.0</td>\n      <td>POINT (-156.41833 20.83962)</td>\n      <td>96779</td>\n    </tr>\n    <tr>\n      <th>2</th>\n      <td>3</td>\n      <td>20.8105</td>\n      <td>-156.4370</td>\n      <td>0.43</td>\n      <td>2.78</td>\n      <td>2016-11-29</td>\n      <td>334</td>\n      <td>2016-11-29</td>\n      <td>334</td>\n      <td>1</td>\n      <td>...</td>\n      <td>12</td>\n      <td>Croplands</td>\n      <td>h03v06</td>\n      <td>326625791</td>\n      <td>North America</td>\n      <td>United States of America</td>\n      <td>USA</td>\n      <td>18560000.0</td>\n      <td>POINT (-156.43708 20.81045)</td>\n      <td>96779</td>\n    </tr>\n    <tr>\n      <th>3</th>\n      <td>4</td>\n      <td>20.6271</td>\n      <td>-156.2470</td>\n      <td>18.65</td>\n      <td>30.56</td>\n      <td>2016-02-16</td>\n      <td>47</td>\n      <td>2016-02-20</td>\n      <td>51</td>\n      <td>5</td>\n      <td>...</td>\n      <td>7</td>\n      <td>Open shrublands</td>\n      <td>h03v06</td>\n      <td>326625791</td>\n      <td>North America</td>\n      <td>United States of America</td>\n      <td>USA</td>\n      <td>18560000.0</td>\n      <td>POINT (-156.24786 20.62712)</td>\n      <td>96790</td>\n    </tr>\n    <tr>\n      <th>4</th>\n      <td>5</td>\n      <td>19.8063</td>\n      <td>-155.8950</td>\n      <td>7.72</td>\n      <td>12.96</td>\n      <td>2016-03-20</td>\n      <td>80</td>\n      <td>2016-03-25</td>\n      <td>85</td>\n      <td>6</td>\n      <td>...</td>\n      <td>7</td>\n      <td>Open shrublands</td>\n      <td>h03v07</td>\n      <td>326625791</td>\n      <td>North America</td>\n      <td>United States of America</td>\n      <td>USA</td>\n      <td>18560000.0</td>\n      <td>POINT (-155.89512 19.80629)</td>\n      <td>96738</td>\n    </tr>\n    <tr>\n      <th>...</th>\n      <td>...</td>\n      <td>...</td>\n      <td>...</td>\n      <td>...</td>\n      <td>...</td>\n      <td>...</td>\n      <td>...</td>\n      <td>...</td>\n      <td>...</td>\n      <td>...</td>\n      <td>...</td>\n      <td>...</td>\n      <td>...</td>\n      <td>...</td>\n      <td>...</td>\n      <td>...</td>\n      <td>...</td>\n      <td>...</td>\n      <td>...</td>\n      <td>...</td>\n      <td>...</td>\n    </tr>\n    <tr>\n      <th>10882</th>\n      <td>56789</td>\n      <td>40.8521</td>\n      <td>-78.1691</td>\n      <td>0.43</td>\n      <td>2.78</td>\n      <td>2016-04-14</td>\n      <td>105</td>\n      <td>2016-04-14</td>\n      <td>105</td>\n      <td>1</td>\n      <td>...</td>\n      <td>4</td>\n      <td>Deciduous Broadleaf forest</td>\n      <td>h12v04</td>\n      <td>326625791</td>\n      <td>North America</td>\n      <td>United States of America</td>\n      <td>USA</td>\n      <td>18560000.0</td>\n      <td>POINT (-78.16909 40.85211)</td>\n      <td>16866</td>\n    </tr>\n    <tr>\n      <th>10883</th>\n      <td>56790</td>\n      <td>40.4188</td>\n      <td>-76.7056</td>\n      <td>0.64</td>\n      <td>3.70</td>\n      <td>2015-11-14</td>\n      <td>318</td>\n      <td>2015-11-14</td>\n      <td>318</td>\n      <td>1</td>\n      <td>...</td>\n      <td>5</td>\n      <td>Mixed forest</td>\n      <td>h12v04</td>\n      <td>326625791</td>\n      <td>North America</td>\n      <td>United States of America</td>\n      <td>USA</td>\n      <td>18560000.0</td>\n      <td>POINT (-76.70562 40.41878)</td>\n      <td>17028</td>\n    </tr>\n    <tr>\n      <th>10884</th>\n      <td>56791</td>\n      <td>40.0271</td>\n      <td>-74.4895</td>\n      <td>0.86</td>\n      <td>4.63</td>\n      <td>2016-06-26</td>\n      <td>178</td>\n      <td>2016-07-04</td>\n      <td>186</td>\n      <td>9</td>\n      <td>...</td>\n      <td>4</td>\n      <td>Deciduous Broadleaf forest</td>\n      <td>h12v04</td>\n      <td>326625791</td>\n      <td>North America</td>\n      <td>United States of America</td>\n      <td>USA</td>\n      <td>18560000.0</td>\n      <td>POINT (-74.48954 40.02711)</td>\n      <td>08533</td>\n    </tr>\n    <tr>\n      <th>10885</th>\n      <td>56792</td>\n      <td>40.0063</td>\n      <td>-74.4994</td>\n      <td>3.00</td>\n      <td>9.26</td>\n      <td>2016-06-13</td>\n      <td>165</td>\n      <td>2016-06-19</td>\n      <td>171</td>\n      <td>7</td>\n      <td>...</td>\n      <td>5</td>\n      <td>Mixed forest</td>\n      <td>h12v04</td>\n      <td>326625791</td>\n      <td>North America</td>\n      <td>United States of America</td>\n      <td>USA</td>\n      <td>18560000.0</td>\n      <td>POINT (-74.49944 40.00628)</td>\n      <td>08511</td>\n    </tr>\n    <tr>\n      <th>10886</th>\n      <td>56793</td>\n      <td>39.9979</td>\n      <td>-74.5012</td>\n      <td>3.86</td>\n      <td>12.04</td>\n      <td>2016-06-14</td>\n      <td>166</td>\n      <td>2016-06-21</td>\n      <td>173</td>\n      <td>8</td>\n      <td>...</td>\n      <td>5</td>\n      <td>Mixed forest</td>\n      <td>h12v05</td>\n      <td>326625791</td>\n      <td>North America</td>\n      <td>United States of America</td>\n      <td>USA</td>\n      <td>18560000.0</td>\n      <td>POINT (-74.50123 39.99794)</td>\n      <td>08511</td>\n    </tr>\n  </tbody>\n</table>\n<p>10887 rows × 25 columns</p>\n</div>"
     },
     "execution_count": 27,
     "metadata": {},
     "output_type": "execute_result"
    }
   ],
   "source": [
    "ignitions_with_zip = ignitions.dropna(axis=0).reset_index(drop=True)\n",
    "ignitions_with_zip"
   ],
   "metadata": {
    "collapsed": false,
    "pycharm": {
     "name": "#%%\n"
    }
   }
  },
  {
   "cell_type": "code",
   "execution_count": 28,
   "outputs": [],
   "source": [
    "ignitions_with_zip.to_file(\"2016_wildfires/usa_2016_ignitions_zip.shp\")\n"
   ],
   "metadata": {
    "collapsed": false,
    "pycharm": {
     "name": "#%%\n"
    }
   }
  }
 ],
 "metadata": {
  "kernelspec": {
   "display_name": "Python 3",
   "language": "python",
   "name": "python3"
  },
  "language_info": {
   "codemirror_mode": {
    "name": "ipython",
    "version": 2
   },
   "file_extension": ".py",
   "mimetype": "text/x-python",
   "name": "python",
   "nbconvert_exporter": "python",
   "pygments_lexer": "ipython2",
   "version": "2.7.6"
  }
 },
 "nbformat": 4,
 "nbformat_minor": 0
}