{
 "cells": [
  {
   "cell_type": "markdown",
   "source": [
    "# Weather Station Data Scraping\n",
    "#### NCDC API\n",
    "Andrew McDonald // CSE 847 // April 2021"
   ],
   "metadata": {
    "collapsed": false
   }
  },
  {
   "cell_type": "code",
   "execution_count": 20,
   "outputs": [],
   "source": [
    "import requests\n",
    "import urllib\n",
    "import json\n",
    "from datetime import datetime\n",
    "\n",
    "import numpy as np\n",
    "import pandas as pd\n",
    "import geopandas as gpd\n",
    "import matplotlib.pyplot as plt\n",
    "from sklearn.neighbors import KDTree"
   ],
   "metadata": {
    "collapsed": false,
    "pycharm": {
     "name": "#%%\n"
    }
   }
  },
  {
   "cell_type": "code",
   "execution_count": 2,
   "outputs": [
    {
     "data": {
      "text/plain": "       fire_ID  latitude  longitude   size  perimeter  start_date  start_DOY  \\\n0            1   20.8438  -156.4130   0.86       4.63  2016-10-26        300   \n1            2   20.8396  -156.4180   1.50       6.48  2016-10-28        302   \n2            3   20.8105  -156.4370   0.43       2.78  2016-11-29        334   \n3            4   20.6271  -156.2470  18.65      30.56  2016-02-16         47   \n4            5   19.8063  -155.8950   7.72      12.96  2016-03-20         80   \n...        ...       ...        ...    ...        ...         ...        ...   \n11519    56791   40.0271   -74.4895   0.86       4.63  2016-06-26        178   \n11520    56792   40.0063   -74.4994   3.00       9.26  2016-06-13        165   \n11521    56793   39.9979   -74.5012   3.86      12.04  2016-06-14        166   \n11522    97709   69.3521  -141.1620   0.21       1.85  2016-08-17        230   \n11523    97710   69.3438  -141.1780   0.21       1.85  2016-07-31        213   \n\n         end_date  end_DOY  duration  ...  direction_  landcover  \\\n0      2016-11-02      307         8  ...        east         12   \n1      2016-11-02      307         6  ...   southeast         12   \n2      2016-11-29      334         1  ...        none         12   \n3      2016-02-20       51         5  ...   northwest          7   \n4      2016-03-25       85         6  ...   southeast          7   \n...           ...      ...       ...  ...         ...        ...   \n11519  2016-07-04      186         9  ...        west          4   \n11520  2016-06-19      171         7  ...        west          5   \n11521  2016-06-21      173         8  ...       south          5   \n11522  2016-08-17      230         1  ...        none          7   \n11523  2016-07-31      213         1  ...        none         10   \n\n                       landcover_  tile_ID    pop_est      continent  \\\n0                       Croplands   h03v06  326625791  North America   \n1                       Croplands   h03v06  326625791  North America   \n2                       Croplands   h03v06  326625791  North America   \n3                 Open shrublands   h03v06  326625791  North America   \n4                 Open shrublands   h03v07  326625791  North America   \n...                           ...      ...        ...            ...   \n11519  Deciduous Broadleaf forest   h12v04  326625791  North America   \n11520                Mixed forest   h12v04  326625791  North America   \n11521                Mixed forest   h12v05  326625791  North America   \n11522             Open shrublands   h13v02  326625791  North America   \n11523                  Grasslands   h13v02  326625791  North America   \n\n                           name iso_a3  gdp_md_est  \\\n0      United States of America    USA  18560000.0   \n1      United States of America    USA  18560000.0   \n2      United States of America    USA  18560000.0   \n3      United States of America    USA  18560000.0   \n4      United States of America    USA  18560000.0   \n...                         ...    ...         ...   \n11519  United States of America    USA  18560000.0   \n11520  United States of America    USA  18560000.0   \n11521  United States of America    USA  18560000.0   \n11522  United States of America    USA  18560000.0   \n11523  United States of America    USA  18560000.0   \n\n                          geometry  \n0      POINT (-156.41374 20.84379)  \n1      POINT (-156.41833 20.83962)  \n2      POINT (-156.43708 20.81045)  \n3      POINT (-156.24786 20.62712)  \n4      POINT (-155.89512 19.80629)  \n...                            ...  \n11519   POINT (-74.48954 40.02711)  \n11520   POINT (-74.49944 40.00628)  \n11521   POINT (-74.50123 39.99794)  \n11522  POINT (-141.16203 69.35210)  \n11523  POINT (-141.17844 69.34376)  \n\n[11524 rows x 24 columns]",
      "text/html": "<div>\n<style scoped>\n    .dataframe tbody tr th:only-of-type {\n        vertical-align: middle;\n    }\n\n    .dataframe tbody tr th {\n        vertical-align: top;\n    }\n\n    .dataframe thead th {\n        text-align: right;\n    }\n</style>\n<table border=\"1\" class=\"dataframe\">\n  <thead>\n    <tr style=\"text-align: right;\">\n      <th></th>\n      <th>fire_ID</th>\n      <th>latitude</th>\n      <th>longitude</th>\n      <th>size</th>\n      <th>perimeter</th>\n      <th>start_date</th>\n      <th>start_DOY</th>\n      <th>end_date</th>\n      <th>end_DOY</th>\n      <th>duration</th>\n      <th>...</th>\n      <th>direction_</th>\n      <th>landcover</th>\n      <th>landcover_</th>\n      <th>tile_ID</th>\n      <th>pop_est</th>\n      <th>continent</th>\n      <th>name</th>\n      <th>iso_a3</th>\n      <th>gdp_md_est</th>\n      <th>geometry</th>\n    </tr>\n  </thead>\n  <tbody>\n    <tr>\n      <th>0</th>\n      <td>1</td>\n      <td>20.8438</td>\n      <td>-156.4130</td>\n      <td>0.86</td>\n      <td>4.63</td>\n      <td>2016-10-26</td>\n      <td>300</td>\n      <td>2016-11-02</td>\n      <td>307</td>\n      <td>8</td>\n      <td>...</td>\n      <td>east</td>\n      <td>12</td>\n      <td>Croplands</td>\n      <td>h03v06</td>\n      <td>326625791</td>\n      <td>North America</td>\n      <td>United States of America</td>\n      <td>USA</td>\n      <td>18560000.0</td>\n      <td>POINT (-156.41374 20.84379)</td>\n    </tr>\n    <tr>\n      <th>1</th>\n      <td>2</td>\n      <td>20.8396</td>\n      <td>-156.4180</td>\n      <td>1.50</td>\n      <td>6.48</td>\n      <td>2016-10-28</td>\n      <td>302</td>\n      <td>2016-11-02</td>\n      <td>307</td>\n      <td>6</td>\n      <td>...</td>\n      <td>southeast</td>\n      <td>12</td>\n      <td>Croplands</td>\n      <td>h03v06</td>\n      <td>326625791</td>\n      <td>North America</td>\n      <td>United States of America</td>\n      <td>USA</td>\n      <td>18560000.0</td>\n      <td>POINT (-156.41833 20.83962)</td>\n    </tr>\n    <tr>\n      <th>2</th>\n      <td>3</td>\n      <td>20.8105</td>\n      <td>-156.4370</td>\n      <td>0.43</td>\n      <td>2.78</td>\n      <td>2016-11-29</td>\n      <td>334</td>\n      <td>2016-11-29</td>\n      <td>334</td>\n      <td>1</td>\n      <td>...</td>\n      <td>none</td>\n      <td>12</td>\n      <td>Croplands</td>\n      <td>h03v06</td>\n      <td>326625791</td>\n      <td>North America</td>\n      <td>United States of America</td>\n      <td>USA</td>\n      <td>18560000.0</td>\n      <td>POINT (-156.43708 20.81045)</td>\n    </tr>\n    <tr>\n      <th>3</th>\n      <td>4</td>\n      <td>20.6271</td>\n      <td>-156.2470</td>\n      <td>18.65</td>\n      <td>30.56</td>\n      <td>2016-02-16</td>\n      <td>47</td>\n      <td>2016-02-20</td>\n      <td>51</td>\n      <td>5</td>\n      <td>...</td>\n      <td>northwest</td>\n      <td>7</td>\n      <td>Open shrublands</td>\n      <td>h03v06</td>\n      <td>326625791</td>\n      <td>North America</td>\n      <td>United States of America</td>\n      <td>USA</td>\n      <td>18560000.0</td>\n      <td>POINT (-156.24786 20.62712)</td>\n    </tr>\n    <tr>\n      <th>4</th>\n      <td>5</td>\n      <td>19.8063</td>\n      <td>-155.8950</td>\n      <td>7.72</td>\n      <td>12.96</td>\n      <td>2016-03-20</td>\n      <td>80</td>\n      <td>2016-03-25</td>\n      <td>85</td>\n      <td>6</td>\n      <td>...</td>\n      <td>southeast</td>\n      <td>7</td>\n      <td>Open shrublands</td>\n      <td>h03v07</td>\n      <td>326625791</td>\n      <td>North America</td>\n      <td>United States of America</td>\n      <td>USA</td>\n      <td>18560000.0</td>\n      <td>POINT (-155.89512 19.80629)</td>\n    </tr>\n    <tr>\n      <th>...</th>\n      <td>...</td>\n      <td>...</td>\n      <td>...</td>\n      <td>...</td>\n      <td>...</td>\n      <td>...</td>\n      <td>...</td>\n      <td>...</td>\n      <td>...</td>\n      <td>...</td>\n      <td>...</td>\n      <td>...</td>\n      <td>...</td>\n      <td>...</td>\n      <td>...</td>\n      <td>...</td>\n      <td>...</td>\n      <td>...</td>\n      <td>...</td>\n      <td>...</td>\n      <td>...</td>\n    </tr>\n    <tr>\n      <th>11519</th>\n      <td>56791</td>\n      <td>40.0271</td>\n      <td>-74.4895</td>\n      <td>0.86</td>\n      <td>4.63</td>\n      <td>2016-06-26</td>\n      <td>178</td>\n      <td>2016-07-04</td>\n      <td>186</td>\n      <td>9</td>\n      <td>...</td>\n      <td>west</td>\n      <td>4</td>\n      <td>Deciduous Broadleaf forest</td>\n      <td>h12v04</td>\n      <td>326625791</td>\n      <td>North America</td>\n      <td>United States of America</td>\n      <td>USA</td>\n      <td>18560000.0</td>\n      <td>POINT (-74.48954 40.02711)</td>\n    </tr>\n    <tr>\n      <th>11520</th>\n      <td>56792</td>\n      <td>40.0063</td>\n      <td>-74.4994</td>\n      <td>3.00</td>\n      <td>9.26</td>\n      <td>2016-06-13</td>\n      <td>165</td>\n      <td>2016-06-19</td>\n      <td>171</td>\n      <td>7</td>\n      <td>...</td>\n      <td>west</td>\n      <td>5</td>\n      <td>Mixed forest</td>\n      <td>h12v04</td>\n      <td>326625791</td>\n      <td>North America</td>\n      <td>United States of America</td>\n      <td>USA</td>\n      <td>18560000.0</td>\n      <td>POINT (-74.49944 40.00628)</td>\n    </tr>\n    <tr>\n      <th>11521</th>\n      <td>56793</td>\n      <td>39.9979</td>\n      <td>-74.5012</td>\n      <td>3.86</td>\n      <td>12.04</td>\n      <td>2016-06-14</td>\n      <td>166</td>\n      <td>2016-06-21</td>\n      <td>173</td>\n      <td>8</td>\n      <td>...</td>\n      <td>south</td>\n      <td>5</td>\n      <td>Mixed forest</td>\n      <td>h12v05</td>\n      <td>326625791</td>\n      <td>North America</td>\n      <td>United States of America</td>\n      <td>USA</td>\n      <td>18560000.0</td>\n      <td>POINT (-74.50123 39.99794)</td>\n    </tr>\n    <tr>\n      <th>11522</th>\n      <td>97709</td>\n      <td>69.3521</td>\n      <td>-141.1620</td>\n      <td>0.21</td>\n      <td>1.85</td>\n      <td>2016-08-17</td>\n      <td>230</td>\n      <td>2016-08-17</td>\n      <td>230</td>\n      <td>1</td>\n      <td>...</td>\n      <td>none</td>\n      <td>7</td>\n      <td>Open shrublands</td>\n      <td>h13v02</td>\n      <td>326625791</td>\n      <td>North America</td>\n      <td>United States of America</td>\n      <td>USA</td>\n      <td>18560000.0</td>\n      <td>POINT (-141.16203 69.35210)</td>\n    </tr>\n    <tr>\n      <th>11523</th>\n      <td>97710</td>\n      <td>69.3438</td>\n      <td>-141.1780</td>\n      <td>0.21</td>\n      <td>1.85</td>\n      <td>2016-07-31</td>\n      <td>213</td>\n      <td>2016-07-31</td>\n      <td>213</td>\n      <td>1</td>\n      <td>...</td>\n      <td>none</td>\n      <td>10</td>\n      <td>Grasslands</td>\n      <td>h13v02</td>\n      <td>326625791</td>\n      <td>North America</td>\n      <td>United States of America</td>\n      <td>USA</td>\n      <td>18560000.0</td>\n      <td>POINT (-141.17844 69.34376)</td>\n    </tr>\n  </tbody>\n</table>\n<p>11524 rows × 24 columns</p>\n</div>"
     },
     "execution_count": 2,
     "metadata": {},
     "output_type": "execute_result"
    }
   ],
   "source": [
    "ignitions = gpd.read_file(\"2016_wildfires/usa_2016_ignitions.shp\")\n",
    "ignitions"
   ],
   "metadata": {
    "collapsed": false,
    "pycharm": {
     "name": "#%%\n"
    }
   }
  },
  {
   "cell_type": "markdown",
   "source": [
    "## 1. Obtain All Station Locations"
   ],
   "metadata": {
    "collapsed": false,
    "pycharm": {
     "name": "#%% md\n"
    }
   }
  },
  {
   "cell_type": "code",
   "execution_count": 11,
   "outputs": [
    {
     "data": {
      "text/plain": "{'offset': 1, 'count': 35678, 'limit': 1000}"
     },
     "execution_count": 11,
     "metadata": {},
     "output_type": "execute_result"
    }
   ],
   "source": [
    "api_token = \"syKpWfFaNGhSsksXrJhcrwQspIYihUqW\"\n",
    "base_url = \"https://www.ncdc.noaa.gov/cdo-web/api/v2/\"\n",
    "headers = {\"token\": api_token}\n",
    "\n",
    "resource = \"stations?\"\n",
    "query = {\n",
    "    \"datasetid\": \"GSOM\",\n",
    "    \"startdate\": \"2016-01-01\",\n",
    "    \"enddate\": \"2016-01-01\",\n",
    "    \"limit\": \"1000\"\n",
    "}\n",
    "query_str = urllib.parse.urlencode(query, doseq=False)\n",
    "endpoint = base_url + resource + query_str\n",
    "response = requests.get(endpoint, headers=headers)\n",
    "results = json.loads(response.text)\n",
    "results[\"metadata\"][\"resultset\"]"
   ],
   "metadata": {
    "collapsed": false,
    "pycharm": {
     "name": "#%%\n"
    }
   }
  },
  {
   "cell_type": "code",
   "execution_count": 18,
   "outputs": [
    {
     "name": "stdout",
     "output_type": "stream",
     "text": [
      "Finished page 0\n",
      "Finished page 1\n",
      "Finished page 2\n",
      "Finished page 3\n",
      "Finished page 4\n",
      "Finished page 5\n",
      "Finished page 6\n",
      "Finished page 7\n",
      "Finished page 8\n",
      "Finished page 9\n",
      "Finished page 10\n",
      "Finished page 11\n",
      "Finished page 12\n",
      "Finished page 13\n",
      "Finished page 14\n",
      "Finished page 15\n",
      "Finished page 16\n",
      "Finished page 17\n",
      "Finished page 18\n",
      "Finished page 19\n",
      "Finished page 20\n",
      "Finished page 21\n",
      "Finished page 22\n",
      "Finished page 23\n",
      "Finished page 24\n",
      "Finished page 25\n",
      "Finished page 26\n",
      "Finished page 27\n",
      "Finished page 28\n",
      "Finished page 29\n",
      "Finished page 30\n",
      "Finished page 31\n",
      "Finished page 32\n",
      "Finished page 33\n",
      "Finished page 34\n",
      "Finished page 35\n"
     ]
    }
   ],
   "source": [
    "stations = []\n",
    "count = results[\"metadata\"][\"resultset\"][\"count\"]\n",
    "offset = 0\n",
    "while offset < count:\n",
    "    query[\"offset\"] = offset\n",
    "    query_str = urllib.parse.urlencode(query, doseq=False)\n",
    "    endpoint = base_url + resource + query_str\n",
    "    response = requests.get(endpoint, headers=headers)\n",
    "    results = json.loads(response.text)\n",
    "    stations.extend(results[\"results\"])\n",
    "    print(f\"Finished page {offset//1000}\")\n",
    "    offset += 1000"
   ],
   "metadata": {
    "collapsed": false,
    "pycharm": {
     "name": "#%%\n"
    }
   }
  },
  {
   "cell_type": "code",
   "execution_count": 25,
   "outputs": [
    {
     "data": {
      "text/plain": "       elevation     mindate     maxdate  latitude  \\\n0           34.0  1944-04-01  2021-03-01  25.33300   \n1           10.4  1983-01-01  2021-03-01  25.25500   \n2           26.8  1983-06-01  2021-03-01  24.43300   \n3          264.9  1994-04-01  2021-03-01  24.26200   \n4          977.2  1979-07-01  2020-12-01  34.21000   \n...          ...         ...         ...       ...   \n35674        7.0  1949-10-01  2020-03-01  19.28333   \n35675      641.0  1910-02-01  2017-11-01 -26.53300   \n35676     1480.0  1956-07-01  2017-10-01 -17.91700   \n35677     1095.0  1951-07-01  2017-07-01 -20.06700   \n35678     1132.0  1951-07-01  2016-08-01 -20.20000   \n\n                              name  datacoverage                 id  \\\n0          SHARJAH INTER. AIRP, AE        0.4643  GHCND:AE000041196   \n1          DUBAI INTERNATIONAL, AE        0.6362  GHCND:AEM00041194   \n2      ABU DHABI INTERNATIONAL, AE        0.6013  GHCND:AEM00041217   \n3         AL AIN INTERNATIONAL, AE        0.5123  GHCND:AEM00041218   \n4                        HERAT, AF        0.0080  GHCND:AFM00040938   \n...                            ...           ...                ...   \n35674              WAKE ISLAND, US        0.7742  GHCND:WQW00041606   \n35675      MANZINI MATSAPA AIR, WZ        0.3988  GHCND:WZ004455110   \n35676           HARARE KUTSAGA, ZI        0.6114  GHCND:ZI000067775   \n35677                 MASVINGO, ZI        0.7541  GHCND:ZI000067975   \n35678                 CHIPINGE, ZI        0.7340  GHCND:ZI000067983   \n\n      elevationUnit  longitude  \n0            METERS     55.517  \n1            METERS     55.364  \n2            METERS     54.651  \n3            METERS     55.609  \n4            METERS     62.228  \n...             ...        ...  \n35674        METERS    166.650  \n35675        METERS     31.300  \n35676        METERS     31.133  \n35677        METERS     30.867  \n35678        METERS     32.616  \n\n[35679 rows x 9 columns]",
      "text/html": "<div>\n<style scoped>\n    .dataframe tbody tr th:only-of-type {\n        vertical-align: middle;\n    }\n\n    .dataframe tbody tr th {\n        vertical-align: top;\n    }\n\n    .dataframe thead th {\n        text-align: right;\n    }\n</style>\n<table border=\"1\" class=\"dataframe\">\n  <thead>\n    <tr style=\"text-align: right;\">\n      <th></th>\n      <th>elevation</th>\n      <th>mindate</th>\n      <th>maxdate</th>\n      <th>latitude</th>\n      <th>name</th>\n      <th>datacoverage</th>\n      <th>id</th>\n      <th>elevationUnit</th>\n      <th>longitude</th>\n    </tr>\n  </thead>\n  <tbody>\n    <tr>\n      <th>0</th>\n      <td>34.0</td>\n      <td>1944-04-01</td>\n      <td>2021-03-01</td>\n      <td>25.33300</td>\n      <td>SHARJAH INTER. AIRP, AE</td>\n      <td>0.4643</td>\n      <td>GHCND:AE000041196</td>\n      <td>METERS</td>\n      <td>55.517</td>\n    </tr>\n    <tr>\n      <th>1</th>\n      <td>10.4</td>\n      <td>1983-01-01</td>\n      <td>2021-03-01</td>\n      <td>25.25500</td>\n      <td>DUBAI INTERNATIONAL, AE</td>\n      <td>0.6362</td>\n      <td>GHCND:AEM00041194</td>\n      <td>METERS</td>\n      <td>55.364</td>\n    </tr>\n    <tr>\n      <th>2</th>\n      <td>26.8</td>\n      <td>1983-06-01</td>\n      <td>2021-03-01</td>\n      <td>24.43300</td>\n      <td>ABU DHABI INTERNATIONAL, AE</td>\n      <td>0.6013</td>\n      <td>GHCND:AEM00041217</td>\n      <td>METERS</td>\n      <td>54.651</td>\n    </tr>\n    <tr>\n      <th>3</th>\n      <td>264.9</td>\n      <td>1994-04-01</td>\n      <td>2021-03-01</td>\n      <td>24.26200</td>\n      <td>AL AIN INTERNATIONAL, AE</td>\n      <td>0.5123</td>\n      <td>GHCND:AEM00041218</td>\n      <td>METERS</td>\n      <td>55.609</td>\n    </tr>\n    <tr>\n      <th>4</th>\n      <td>977.2</td>\n      <td>1979-07-01</td>\n      <td>2020-12-01</td>\n      <td>34.21000</td>\n      <td>HERAT, AF</td>\n      <td>0.0080</td>\n      <td>GHCND:AFM00040938</td>\n      <td>METERS</td>\n      <td>62.228</td>\n    </tr>\n    <tr>\n      <th>...</th>\n      <td>...</td>\n      <td>...</td>\n      <td>...</td>\n      <td>...</td>\n      <td>...</td>\n      <td>...</td>\n      <td>...</td>\n      <td>...</td>\n      <td>...</td>\n    </tr>\n    <tr>\n      <th>35674</th>\n      <td>7.0</td>\n      <td>1949-10-01</td>\n      <td>2020-03-01</td>\n      <td>19.28333</td>\n      <td>WAKE ISLAND, US</td>\n      <td>0.7742</td>\n      <td>GHCND:WQW00041606</td>\n      <td>METERS</td>\n      <td>166.650</td>\n    </tr>\n    <tr>\n      <th>35675</th>\n      <td>641.0</td>\n      <td>1910-02-01</td>\n      <td>2017-11-01</td>\n      <td>-26.53300</td>\n      <td>MANZINI MATSAPA AIR, WZ</td>\n      <td>0.3988</td>\n      <td>GHCND:WZ004455110</td>\n      <td>METERS</td>\n      <td>31.300</td>\n    </tr>\n    <tr>\n      <th>35676</th>\n      <td>1480.0</td>\n      <td>1956-07-01</td>\n      <td>2017-10-01</td>\n      <td>-17.91700</td>\n      <td>HARARE KUTSAGA, ZI</td>\n      <td>0.6114</td>\n      <td>GHCND:ZI000067775</td>\n      <td>METERS</td>\n      <td>31.133</td>\n    </tr>\n    <tr>\n      <th>35677</th>\n      <td>1095.0</td>\n      <td>1951-07-01</td>\n      <td>2017-07-01</td>\n      <td>-20.06700</td>\n      <td>MASVINGO, ZI</td>\n      <td>0.7541</td>\n      <td>GHCND:ZI000067975</td>\n      <td>METERS</td>\n      <td>30.867</td>\n    </tr>\n    <tr>\n      <th>35678</th>\n      <td>1132.0</td>\n      <td>1951-07-01</td>\n      <td>2016-08-01</td>\n      <td>-20.20000</td>\n      <td>CHIPINGE, ZI</td>\n      <td>0.7340</td>\n      <td>GHCND:ZI000067983</td>\n      <td>METERS</td>\n      <td>32.616</td>\n    </tr>\n  </tbody>\n</table>\n<p>35679 rows × 9 columns</p>\n</div>"
     },
     "execution_count": 25,
     "metadata": {},
     "output_type": "execute_result"
    }
   ],
   "source": [
    "stations_df = pd.DataFrame(stations)\n",
    "stations_df"
   ],
   "metadata": {
    "collapsed": false,
    "pycharm": {
     "name": "#%%\n"
    }
   }
  },
  {
   "cell_type": "markdown",
   "source": [
    "## 2. Use KD Tree to Find Nearest Station"
   ],
   "metadata": {
    "collapsed": false
   }
  },
  {
   "cell_type": "code",
   "execution_count": 26,
   "outputs": [
    {
     "data": {
      "text/plain": "array([[32281],\n       [32281],\n       [32226],\n       ...,\n       [20541],\n       [ 6073],\n       [ 6073]], dtype=int64)"
     },
     "execution_count": 26,
     "metadata": {},
     "output_type": "execute_result"
    }
   ],
   "source": [
    "tree = KDTree(stations_df[[\"latitude\", \"longitude\"]])\n",
    "dist, idx = tree.query(ignitions[[\"latitude\", \"longitude\"]], k=1)\n",
    "idx"
   ],
   "metadata": {
    "collapsed": false,
    "pycharm": {
     "name": "#%%\n"
    }
   }
  },
  {
   "cell_type": "code",
   "execution_count": 27,
   "outputs": [
    {
     "data": {
      "text/plain": "       fire_ID  latitude  longitude   size  perimeter  start_date  start_DOY  \\\n0            1   20.8438  -156.4130   0.86       4.63  2016-10-26        300   \n1            2   20.8396  -156.4180   1.50       6.48  2016-10-28        302   \n2            3   20.8105  -156.4370   0.43       2.78  2016-11-29        334   \n3            4   20.6271  -156.2470  18.65      30.56  2016-02-16         47   \n4            5   19.8063  -155.8950   7.72      12.96  2016-03-20         80   \n...        ...       ...        ...    ...        ...         ...        ...   \n11519    56791   40.0271   -74.4895   0.86       4.63  2016-06-26        178   \n11520    56792   40.0063   -74.4994   3.00       9.26  2016-06-13        165   \n11521    56793   39.9979   -74.5012   3.86      12.04  2016-06-14        166   \n11522    97709   69.3521  -141.1620   0.21       1.85  2016-08-17        230   \n11523    97710   69.3438  -141.1780   0.21       1.85  2016-07-31        213   \n\n         end_date  end_DOY  duration  ...  landcover  \\\n0      2016-11-02      307         8  ...         12   \n1      2016-11-02      307         6  ...         12   \n2      2016-11-29      334         1  ...         12   \n3      2016-02-20       51         5  ...          7   \n4      2016-03-25       85         6  ...          7   \n...           ...      ...       ...  ...        ...   \n11519  2016-07-04      186         9  ...          4   \n11520  2016-06-19      171         7  ...          5   \n11521  2016-06-21      173         8  ...          5   \n11522  2016-08-17      230         1  ...          7   \n11523  2016-07-31      213         1  ...         10   \n\n                       landcover_  tile_ID    pop_est      continent  \\\n0                       Croplands   h03v06  326625791  North America   \n1                       Croplands   h03v06  326625791  North America   \n2                       Croplands   h03v06  326625791  North America   \n3                 Open shrublands   h03v06  326625791  North America   \n4                 Open shrublands   h03v07  326625791  North America   \n...                           ...      ...        ...            ...   \n11519  Deciduous Broadleaf forest   h12v04  326625791  North America   \n11520                Mixed forest   h12v04  326625791  North America   \n11521                Mixed forest   h12v05  326625791  North America   \n11522             Open shrublands   h13v02  326625791  North America   \n11523                  Grasslands   h13v02  326625791  North America   \n\n                           name iso_a3  gdp_md_est  \\\n0      United States of America    USA  18560000.0   \n1      United States of America    USA  18560000.0   \n2      United States of America    USA  18560000.0   \n3      United States of America    USA  18560000.0   \n4      United States of America    USA  18560000.0   \n...                         ...    ...         ...   \n11519  United States of America    USA  18560000.0   \n11520  United States of America    USA  18560000.0   \n11521  United States of America    USA  18560000.0   \n11522  United States of America    USA  18560000.0   \n11523  United States of America    USA  18560000.0   \n\n                          geometry nearest_station_idx  \n0      POINT (-156.41374 20.84379)               32281  \n1      POINT (-156.41833 20.83962)               32281  \n2      POINT (-156.43708 20.81045)               32226  \n3      POINT (-156.24786 20.62712)               32923  \n4      POINT (-155.89512 19.80629)               32941  \n...                            ...                 ...  \n11519   POINT (-74.48954 40.02711)               20541  \n11520   POINT (-74.49944 40.00628)               20541  \n11521   POINT (-74.50123 39.99794)               20541  \n11522  POINT (-141.16203 69.35210)                6073  \n11523  POINT (-141.17844 69.34376)                6073  \n\n[11524 rows x 25 columns]",
      "text/html": "<div>\n<style scoped>\n    .dataframe tbody tr th:only-of-type {\n        vertical-align: middle;\n    }\n\n    .dataframe tbody tr th {\n        vertical-align: top;\n    }\n\n    .dataframe thead th {\n        text-align: right;\n    }\n</style>\n<table border=\"1\" class=\"dataframe\">\n  <thead>\n    <tr style=\"text-align: right;\">\n      <th></th>\n      <th>fire_ID</th>\n      <th>latitude</th>\n      <th>longitude</th>\n      <th>size</th>\n      <th>perimeter</th>\n      <th>start_date</th>\n      <th>start_DOY</th>\n      <th>end_date</th>\n      <th>end_DOY</th>\n      <th>duration</th>\n      <th>...</th>\n      <th>landcover</th>\n      <th>landcover_</th>\n      <th>tile_ID</th>\n      <th>pop_est</th>\n      <th>continent</th>\n      <th>name</th>\n      <th>iso_a3</th>\n      <th>gdp_md_est</th>\n      <th>geometry</th>\n      <th>nearest_station_idx</th>\n    </tr>\n  </thead>\n  <tbody>\n    <tr>\n      <th>0</th>\n      <td>1</td>\n      <td>20.8438</td>\n      <td>-156.4130</td>\n      <td>0.86</td>\n      <td>4.63</td>\n      <td>2016-10-26</td>\n      <td>300</td>\n      <td>2016-11-02</td>\n      <td>307</td>\n      <td>8</td>\n      <td>...</td>\n      <td>12</td>\n      <td>Croplands</td>\n      <td>h03v06</td>\n      <td>326625791</td>\n      <td>North America</td>\n      <td>United States of America</td>\n      <td>USA</td>\n      <td>18560000.0</td>\n      <td>POINT (-156.41374 20.84379)</td>\n      <td>32281</td>\n    </tr>\n    <tr>\n      <th>1</th>\n      <td>2</td>\n      <td>20.8396</td>\n      <td>-156.4180</td>\n      <td>1.50</td>\n      <td>6.48</td>\n      <td>2016-10-28</td>\n      <td>302</td>\n      <td>2016-11-02</td>\n      <td>307</td>\n      <td>6</td>\n      <td>...</td>\n      <td>12</td>\n      <td>Croplands</td>\n      <td>h03v06</td>\n      <td>326625791</td>\n      <td>North America</td>\n      <td>United States of America</td>\n      <td>USA</td>\n      <td>18560000.0</td>\n      <td>POINT (-156.41833 20.83962)</td>\n      <td>32281</td>\n    </tr>\n    <tr>\n      <th>2</th>\n      <td>3</td>\n      <td>20.8105</td>\n      <td>-156.4370</td>\n      <td>0.43</td>\n      <td>2.78</td>\n      <td>2016-11-29</td>\n      <td>334</td>\n      <td>2016-11-29</td>\n      <td>334</td>\n      <td>1</td>\n      <td>...</td>\n      <td>12</td>\n      <td>Croplands</td>\n      <td>h03v06</td>\n      <td>326625791</td>\n      <td>North America</td>\n      <td>United States of America</td>\n      <td>USA</td>\n      <td>18560000.0</td>\n      <td>POINT (-156.43708 20.81045)</td>\n      <td>32226</td>\n    </tr>\n    <tr>\n      <th>3</th>\n      <td>4</td>\n      <td>20.6271</td>\n      <td>-156.2470</td>\n      <td>18.65</td>\n      <td>30.56</td>\n      <td>2016-02-16</td>\n      <td>47</td>\n      <td>2016-02-20</td>\n      <td>51</td>\n      <td>5</td>\n      <td>...</td>\n      <td>7</td>\n      <td>Open shrublands</td>\n      <td>h03v06</td>\n      <td>326625791</td>\n      <td>North America</td>\n      <td>United States of America</td>\n      <td>USA</td>\n      <td>18560000.0</td>\n      <td>POINT (-156.24786 20.62712)</td>\n      <td>32923</td>\n    </tr>\n    <tr>\n      <th>4</th>\n      <td>5</td>\n      <td>19.8063</td>\n      <td>-155.8950</td>\n      <td>7.72</td>\n      <td>12.96</td>\n      <td>2016-03-20</td>\n      <td>80</td>\n      <td>2016-03-25</td>\n      <td>85</td>\n      <td>6</td>\n      <td>...</td>\n      <td>7</td>\n      <td>Open shrublands</td>\n      <td>h03v07</td>\n      <td>326625791</td>\n      <td>North America</td>\n      <td>United States of America</td>\n      <td>USA</td>\n      <td>18560000.0</td>\n      <td>POINT (-155.89512 19.80629)</td>\n      <td>32941</td>\n    </tr>\n    <tr>\n      <th>...</th>\n      <td>...</td>\n      <td>...</td>\n      <td>...</td>\n      <td>...</td>\n      <td>...</td>\n      <td>...</td>\n      <td>...</td>\n      <td>...</td>\n      <td>...</td>\n      <td>...</td>\n      <td>...</td>\n      <td>...</td>\n      <td>...</td>\n      <td>...</td>\n      <td>...</td>\n      <td>...</td>\n      <td>...</td>\n      <td>...</td>\n      <td>...</td>\n      <td>...</td>\n      <td>...</td>\n    </tr>\n    <tr>\n      <th>11519</th>\n      <td>56791</td>\n      <td>40.0271</td>\n      <td>-74.4895</td>\n      <td>0.86</td>\n      <td>4.63</td>\n      <td>2016-06-26</td>\n      <td>178</td>\n      <td>2016-07-04</td>\n      <td>186</td>\n      <td>9</td>\n      <td>...</td>\n      <td>4</td>\n      <td>Deciduous Broadleaf forest</td>\n      <td>h12v04</td>\n      <td>326625791</td>\n      <td>North America</td>\n      <td>United States of America</td>\n      <td>USA</td>\n      <td>18560000.0</td>\n      <td>POINT (-74.48954 40.02711)</td>\n      <td>20541</td>\n    </tr>\n    <tr>\n      <th>11520</th>\n      <td>56792</td>\n      <td>40.0063</td>\n      <td>-74.4994</td>\n      <td>3.00</td>\n      <td>9.26</td>\n      <td>2016-06-13</td>\n      <td>165</td>\n      <td>2016-06-19</td>\n      <td>171</td>\n      <td>7</td>\n      <td>...</td>\n      <td>5</td>\n      <td>Mixed forest</td>\n      <td>h12v04</td>\n      <td>326625791</td>\n      <td>North America</td>\n      <td>United States of America</td>\n      <td>USA</td>\n      <td>18560000.0</td>\n      <td>POINT (-74.49944 40.00628)</td>\n      <td>20541</td>\n    </tr>\n    <tr>\n      <th>11521</th>\n      <td>56793</td>\n      <td>39.9979</td>\n      <td>-74.5012</td>\n      <td>3.86</td>\n      <td>12.04</td>\n      <td>2016-06-14</td>\n      <td>166</td>\n      <td>2016-06-21</td>\n      <td>173</td>\n      <td>8</td>\n      <td>...</td>\n      <td>5</td>\n      <td>Mixed forest</td>\n      <td>h12v05</td>\n      <td>326625791</td>\n      <td>North America</td>\n      <td>United States of America</td>\n      <td>USA</td>\n      <td>18560000.0</td>\n      <td>POINT (-74.50123 39.99794)</td>\n      <td>20541</td>\n    </tr>\n    <tr>\n      <th>11522</th>\n      <td>97709</td>\n      <td>69.3521</td>\n      <td>-141.1620</td>\n      <td>0.21</td>\n      <td>1.85</td>\n      <td>2016-08-17</td>\n      <td>230</td>\n      <td>2016-08-17</td>\n      <td>230</td>\n      <td>1</td>\n      <td>...</td>\n      <td>7</td>\n      <td>Open shrublands</td>\n      <td>h13v02</td>\n      <td>326625791</td>\n      <td>North America</td>\n      <td>United States of America</td>\n      <td>USA</td>\n      <td>18560000.0</td>\n      <td>POINT (-141.16203 69.35210)</td>\n      <td>6073</td>\n    </tr>\n    <tr>\n      <th>11523</th>\n      <td>97710</td>\n      <td>69.3438</td>\n      <td>-141.1780</td>\n      <td>0.21</td>\n      <td>1.85</td>\n      <td>2016-07-31</td>\n      <td>213</td>\n      <td>2016-07-31</td>\n      <td>213</td>\n      <td>1</td>\n      <td>...</td>\n      <td>10</td>\n      <td>Grasslands</td>\n      <td>h13v02</td>\n      <td>326625791</td>\n      <td>North America</td>\n      <td>United States of America</td>\n      <td>USA</td>\n      <td>18560000.0</td>\n      <td>POINT (-141.17844 69.34376)</td>\n      <td>6073</td>\n    </tr>\n  </tbody>\n</table>\n<p>11524 rows × 25 columns</p>\n</div>"
     },
     "execution_count": 27,
     "metadata": {},
     "output_type": "execute_result"
    }
   ],
   "source": [
    "ignitions[\"nearest_station_idx\"] = idx\n",
    "ignitions"
   ],
   "metadata": {
    "collapsed": false,
    "pycharm": {
     "name": "#%%\n"
    }
   }
  },
  {
   "cell_type": "code",
   "execution_count": 30,
   "outputs": [
    {
     "data": {
      "text/plain": "       fire_ID  latitude_x  longitude_x   size  perimeter  start_date  \\\n0            1     20.8438    -156.4130   0.86       4.63  2016-10-26   \n1            2     20.8396    -156.4180   1.50       6.48  2016-10-28   \n2            3     20.8105    -156.4370   0.43       2.78  2016-11-29   \n3            4     20.6271    -156.2470  18.65      30.56  2016-02-16   \n4            5     19.8063    -155.8950   7.72      12.96  2016-03-20   \n...        ...         ...          ...    ...        ...         ...   \n11517    56789     40.8521     -78.1691   0.43       2.78  2016-04-14   \n11518    56790     40.4188     -76.7056   0.64       3.70  2015-11-14   \n11519    56791     40.0271     -74.4895   0.86       4.63  2016-06-26   \n11520    56792     40.0063     -74.4994   3.00       9.26  2016-06-13   \n11521    56793     39.9979     -74.5012   3.86      12.04  2016-06-14   \n\n       start_DOY    end_date  end_DOY  duration  ...  elevation     mindate  \\\n0            300  2016-11-02      307         8  ...       70.1  1949-10-01   \n1            302  2016-11-02      307         6  ...       70.1  1949-10-01   \n2            334  2016-11-29      334         1  ...       48.2  1905-01-01   \n3             47  2016-02-20       51         5  ...     1228.3  2013-01-01   \n4             80  2016-03-25       85         6  ...      709.0  2003-05-01   \n...          ...         ...      ...       ...  ...        ...         ...   \n11517        105  2016-04-14      105         1  ...      524.3  1998-04-01   \n11518        318  2015-11-14      318         1  ...      163.7  1998-05-01   \n11519        178  2016-07-04      186         9  ...       37.5  2013-08-01   \n11520        165  2016-06-19      171         7  ...       37.5  2013-08-01   \n11521        166  2016-06-21      173         8  ...       37.5  2013-08-01   \n\n          maxdate  latitude_y                    name_y  datacoverage  \\\n0      2016-10-01    20.85710        PUUNENE 396, HI US        0.9875   \n1      2016-10-01    20.85710        PUUNENE 396, HI US        0.9875   \n2      2016-10-01    20.79120          KIHEI 311, HI US        0.6364   \n3      2017-03-01    20.68420   KAUPO GAP HAWAII, HI US        1.0000   \n4      2021-03-01    19.79500  PUU WAAWAA HAWAII, HI US        0.9487   \n...           ...         ...                       ...           ...   \n11517  2021-03-01    40.87291    PHILIPSBURG 2 S, PA US        0.9927   \n11518  2021-03-01    40.46093         DEHART DAM, PA US        0.8872   \n11519  2020-06-01    40.06628  JACKSON TWP 2.2 S, NJ US        0.5904   \n11520  2020-06-01    40.06628  JACKSON TWP 2.2 S, NJ US        0.5904   \n11521  2020-06-01    40.06628  JACKSON TWP 2.2 S, NJ US        0.5904   \n\n                      id elevationUnit  longitude_y distance_from_station  \n0      GHCND:USC00518543        METERS   -156.43130              0.022623  \n1      GHCND:USC00518543        METERS   -156.43130              0.021980  \n2      GHCND:USC00514489        METERS   -156.44210              0.019962  \n3      GHCND:USR0000HKAU        METERS   -156.15190              0.110925  \n4      GHCND:USR0000HPUW        METERS   -155.84530              0.050968  \n...                  ...           ...          ...                   ...  \n11517  GHCND:USC00366921        METERS    -78.21615              0.051447  \n11518  GHCND:USC00362071        METERS    -76.74870              0.060271  \n11519  GHCND:US1NJOC0053        METERS    -74.35698              0.138191  \n11520  GHCND:US1NJOC0053        METERS    -74.35698              0.154536  \n11521  GHCND:US1NJOC0053        METERS    -74.35698              0.159610  \n\n[11524 rows x 35 columns]",
      "text/html": "<div>\n<style scoped>\n    .dataframe tbody tr th:only-of-type {\n        vertical-align: middle;\n    }\n\n    .dataframe tbody tr th {\n        vertical-align: top;\n    }\n\n    .dataframe thead th {\n        text-align: right;\n    }\n</style>\n<table border=\"1\" class=\"dataframe\">\n  <thead>\n    <tr style=\"text-align: right;\">\n      <th></th>\n      <th>fire_ID</th>\n      <th>latitude_x</th>\n      <th>longitude_x</th>\n      <th>size</th>\n      <th>perimeter</th>\n      <th>start_date</th>\n      <th>start_DOY</th>\n      <th>end_date</th>\n      <th>end_DOY</th>\n      <th>duration</th>\n      <th>...</th>\n      <th>elevation</th>\n      <th>mindate</th>\n      <th>maxdate</th>\n      <th>latitude_y</th>\n      <th>name_y</th>\n      <th>datacoverage</th>\n      <th>id</th>\n      <th>elevationUnit</th>\n      <th>longitude_y</th>\n      <th>distance_from_station</th>\n    </tr>\n  </thead>\n  <tbody>\n    <tr>\n      <th>0</th>\n      <td>1</td>\n      <td>20.8438</td>\n      <td>-156.4130</td>\n      <td>0.86</td>\n      <td>4.63</td>\n      <td>2016-10-26</td>\n      <td>300</td>\n      <td>2016-11-02</td>\n      <td>307</td>\n      <td>8</td>\n      <td>...</td>\n      <td>70.1</td>\n      <td>1949-10-01</td>\n      <td>2016-10-01</td>\n      <td>20.85710</td>\n      <td>PUUNENE 396, HI US</td>\n      <td>0.9875</td>\n      <td>GHCND:USC00518543</td>\n      <td>METERS</td>\n      <td>-156.43130</td>\n      <td>0.022623</td>\n    </tr>\n    <tr>\n      <th>1</th>\n      <td>2</td>\n      <td>20.8396</td>\n      <td>-156.4180</td>\n      <td>1.50</td>\n      <td>6.48</td>\n      <td>2016-10-28</td>\n      <td>302</td>\n      <td>2016-11-02</td>\n      <td>307</td>\n      <td>6</td>\n      <td>...</td>\n      <td>70.1</td>\n      <td>1949-10-01</td>\n      <td>2016-10-01</td>\n      <td>20.85710</td>\n      <td>PUUNENE 396, HI US</td>\n      <td>0.9875</td>\n      <td>GHCND:USC00518543</td>\n      <td>METERS</td>\n      <td>-156.43130</td>\n      <td>0.021980</td>\n    </tr>\n    <tr>\n      <th>2</th>\n      <td>3</td>\n      <td>20.8105</td>\n      <td>-156.4370</td>\n      <td>0.43</td>\n      <td>2.78</td>\n      <td>2016-11-29</td>\n      <td>334</td>\n      <td>2016-11-29</td>\n      <td>334</td>\n      <td>1</td>\n      <td>...</td>\n      <td>48.2</td>\n      <td>1905-01-01</td>\n      <td>2016-10-01</td>\n      <td>20.79120</td>\n      <td>KIHEI 311, HI US</td>\n      <td>0.6364</td>\n      <td>GHCND:USC00514489</td>\n      <td>METERS</td>\n      <td>-156.44210</td>\n      <td>0.019962</td>\n    </tr>\n    <tr>\n      <th>3</th>\n      <td>4</td>\n      <td>20.6271</td>\n      <td>-156.2470</td>\n      <td>18.65</td>\n      <td>30.56</td>\n      <td>2016-02-16</td>\n      <td>47</td>\n      <td>2016-02-20</td>\n      <td>51</td>\n      <td>5</td>\n      <td>...</td>\n      <td>1228.3</td>\n      <td>2013-01-01</td>\n      <td>2017-03-01</td>\n      <td>20.68420</td>\n      <td>KAUPO GAP HAWAII, HI US</td>\n      <td>1.0000</td>\n      <td>GHCND:USR0000HKAU</td>\n      <td>METERS</td>\n      <td>-156.15190</td>\n      <td>0.110925</td>\n    </tr>\n    <tr>\n      <th>4</th>\n      <td>5</td>\n      <td>19.8063</td>\n      <td>-155.8950</td>\n      <td>7.72</td>\n      <td>12.96</td>\n      <td>2016-03-20</td>\n      <td>80</td>\n      <td>2016-03-25</td>\n      <td>85</td>\n      <td>6</td>\n      <td>...</td>\n      <td>709.0</td>\n      <td>2003-05-01</td>\n      <td>2021-03-01</td>\n      <td>19.79500</td>\n      <td>PUU WAAWAA HAWAII, HI US</td>\n      <td>0.9487</td>\n      <td>GHCND:USR0000HPUW</td>\n      <td>METERS</td>\n      <td>-155.84530</td>\n      <td>0.050968</td>\n    </tr>\n    <tr>\n      <th>...</th>\n      <td>...</td>\n      <td>...</td>\n      <td>...</td>\n      <td>...</td>\n      <td>...</td>\n      <td>...</td>\n      <td>...</td>\n      <td>...</td>\n      <td>...</td>\n      <td>...</td>\n      <td>...</td>\n      <td>...</td>\n      <td>...</td>\n      <td>...</td>\n      <td>...</td>\n      <td>...</td>\n      <td>...</td>\n      <td>...</td>\n      <td>...</td>\n      <td>...</td>\n      <td>...</td>\n    </tr>\n    <tr>\n      <th>11517</th>\n      <td>56789</td>\n      <td>40.8521</td>\n      <td>-78.1691</td>\n      <td>0.43</td>\n      <td>2.78</td>\n      <td>2016-04-14</td>\n      <td>105</td>\n      <td>2016-04-14</td>\n      <td>105</td>\n      <td>1</td>\n      <td>...</td>\n      <td>524.3</td>\n      <td>1998-04-01</td>\n      <td>2021-03-01</td>\n      <td>40.87291</td>\n      <td>PHILIPSBURG 2 S, PA US</td>\n      <td>0.9927</td>\n      <td>GHCND:USC00366921</td>\n      <td>METERS</td>\n      <td>-78.21615</td>\n      <td>0.051447</td>\n    </tr>\n    <tr>\n      <th>11518</th>\n      <td>56790</td>\n      <td>40.4188</td>\n      <td>-76.7056</td>\n      <td>0.64</td>\n      <td>3.70</td>\n      <td>2015-11-14</td>\n      <td>318</td>\n      <td>2015-11-14</td>\n      <td>318</td>\n      <td>1</td>\n      <td>...</td>\n      <td>163.7</td>\n      <td>1998-05-01</td>\n      <td>2021-03-01</td>\n      <td>40.46093</td>\n      <td>DEHART DAM, PA US</td>\n      <td>0.8872</td>\n      <td>GHCND:USC00362071</td>\n      <td>METERS</td>\n      <td>-76.74870</td>\n      <td>0.060271</td>\n    </tr>\n    <tr>\n      <th>11519</th>\n      <td>56791</td>\n      <td>40.0271</td>\n      <td>-74.4895</td>\n      <td>0.86</td>\n      <td>4.63</td>\n      <td>2016-06-26</td>\n      <td>178</td>\n      <td>2016-07-04</td>\n      <td>186</td>\n      <td>9</td>\n      <td>...</td>\n      <td>37.5</td>\n      <td>2013-08-01</td>\n      <td>2020-06-01</td>\n      <td>40.06628</td>\n      <td>JACKSON TWP 2.2 S, NJ US</td>\n      <td>0.5904</td>\n      <td>GHCND:US1NJOC0053</td>\n      <td>METERS</td>\n      <td>-74.35698</td>\n      <td>0.138191</td>\n    </tr>\n    <tr>\n      <th>11520</th>\n      <td>56792</td>\n      <td>40.0063</td>\n      <td>-74.4994</td>\n      <td>3.00</td>\n      <td>9.26</td>\n      <td>2016-06-13</td>\n      <td>165</td>\n      <td>2016-06-19</td>\n      <td>171</td>\n      <td>7</td>\n      <td>...</td>\n      <td>37.5</td>\n      <td>2013-08-01</td>\n      <td>2020-06-01</td>\n      <td>40.06628</td>\n      <td>JACKSON TWP 2.2 S, NJ US</td>\n      <td>0.5904</td>\n      <td>GHCND:US1NJOC0053</td>\n      <td>METERS</td>\n      <td>-74.35698</td>\n      <td>0.154536</td>\n    </tr>\n    <tr>\n      <th>11521</th>\n      <td>56793</td>\n      <td>39.9979</td>\n      <td>-74.5012</td>\n      <td>3.86</td>\n      <td>12.04</td>\n      <td>2016-06-14</td>\n      <td>166</td>\n      <td>2016-06-21</td>\n      <td>173</td>\n      <td>8</td>\n      <td>...</td>\n      <td>37.5</td>\n      <td>2013-08-01</td>\n      <td>2020-06-01</td>\n      <td>40.06628</td>\n      <td>JACKSON TWP 2.2 S, NJ US</td>\n      <td>0.5904</td>\n      <td>GHCND:US1NJOC0053</td>\n      <td>METERS</td>\n      <td>-74.35698</td>\n      <td>0.159610</td>\n    </tr>\n  </tbody>\n</table>\n<p>11524 rows × 35 columns</p>\n</div>"
     },
     "execution_count": 30,
     "metadata": {},
     "output_type": "execute_result"
    }
   ],
   "source": [
    "ignitions_stations = pd.merge(ignitions, stations_df,\n",
    "                              left_on=\"nearest_station_idx\",\n",
    "                              right_index=True)\n",
    "ignitions_stations[\"distance_from_station\"] = np.sqrt(\n",
    "    (ignitions_stations[\"latitude_x\"] - ignitions_stations[\"latitude_y\"])**2 +\\\n",
    "    (ignitions_stations[\"longitude_x\"] - ignitions_stations[\"longitude_y\"])**2\n",
    ")\n",
    "ignitions_stations"
   ],
   "metadata": {
    "collapsed": false,
    "pycharm": {
     "name": "#%%\n"
    }
   }
  },
  {
   "cell_type": "code",
   "execution_count": 31,
   "outputs": [
    {
     "name": "stderr",
     "output_type": "stream",
     "text": [
      "<ipython-input-31-796e7e0ce02c>:1: UserWarning: Column names longer than 10 characters will be truncated when saved to ESRI Shapefile.\n",
      "  ignitions_stations.to_file(\"2016_wildfires/usa_2016_ignitions_stations.shp\")\n"
     ]
    }
   ],
   "source": [
    "ignitions_stations.to_file(\"2016_wildfires/usa_2016_ignitions_stations.shp\")\n"
   ],
   "metadata": {
    "collapsed": false,
    "pycharm": {
     "name": "#%%\n"
    }
   }
  }
 ],
 "metadata": {
  "kernelspec": {
   "display_name": "Python 3",
   "language": "python",
   "name": "python3"
  },
  "language_info": {
   "codemirror_mode": {
    "name": "ipython",
    "version": 2
   },
   "file_extension": ".py",
   "mimetype": "text/x-python",
   "name": "python",
   "nbconvert_exporter": "python",
   "pygments_lexer": "ipython2",
   "version": "2.7.6"
  }
 },
 "nbformat": 4,
 "nbformat_minor": 0
}