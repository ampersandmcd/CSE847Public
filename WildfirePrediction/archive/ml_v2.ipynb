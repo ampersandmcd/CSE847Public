{
 "cells": [
  {
   "cell_type": "markdown",
   "source": [
    "# Predicting Wildfire Spread Extent Given Ignitions\n",
    "#### Fire Atlas Dataset + NCDC GSOM Data\n",
    "Andrew McDonald // CSE 847 // April 2021"
   ],
   "metadata": {
    "collapsed": false
   }
  },
  {
   "cell_type": "code",
   "execution_count": 24,
   "outputs": [],
   "source": [
    "import numpy as np\n",
    "import pandas as pd\n",
    "import geopandas as gpd\n",
    "import matplotlib.pyplot as plt\n",
    "from sklearn.model_selection import train_test_split\n",
    "from sklearn.preprocessing import StandardScaler, LabelBinarizer\n",
    "from sklearn.metrics import mean_squared_error, mean_absolute_error\n",
    "from scipy.stats import pearsonr\n",
    "\n",
    "from sklearn.linear_model import LinearRegression, RidgeCV, LassoCV, ElasticNetCV\n",
    "from sklearn.ensemble import BaggingRegressor, RandomForestRegressor, AdaBoostRegressor, GradientBoostingRegressor, ExtraTreesRegressor\n",
    "from sklearn.tree import DecisionTreeRegressor\n",
    "from sklearn.kernel_ridge import KernelRidge\n",
    "from sklearn.svm import SVR\n",
    "from sklearn.neural_network import MLPRegressor\n",
    "\n",
    "cmap = plt.get_cmap(\"tab10\")"
   ],
   "metadata": {
    "collapsed": false,
    "pycharm": {
     "name": "#%%\n"
    }
   }
  },
  {
   "cell_type": "markdown",
   "source": [
    "## 1. Set Up"
   ],
   "metadata": {
    "collapsed": false,
    "pycharm": {
     "name": "#%% md\n"
    }
   }
  },
  {
   "cell_type": "markdown",
   "source": [
    "#### Load data of different dimensionalities"
   ],
   "metadata": {
    "collapsed": false,
    "pycharm": {
     "name": "#%% md\n"
    }
   }
  },
  {
   "cell_type": "code",
   "execution_count": 25,
   "outputs": [],
   "source": [
    "X_H, y_H = pd.read_csv(\"data/X_H.csv\"), pd.read_csv(\"data/y_H.csv\")\n",
    "X_M, y_M = pd.read_csv(\"data/X_M.csv\"), pd.read_csv(\"data/y_M.csv\")\n",
    "X_L, y_L = pd.read_csv(\"data/X_L.csv\"), pd.read_csv(\"data/y_L.csv\")"
   ],
   "metadata": {
    "collapsed": false,
    "pycharm": {
     "name": "#%%\n"
    }
   }
  },
  {
   "cell_type": "markdown",
   "source": [
    "#### Choose 1 dimensionality to work with"
   ],
   "metadata": {
    "collapsed": false,
    "pycharm": {
     "name": "#%% md\n"
    }
   }
  },
  {
   "cell_type": "code",
   "execution_count": 26,
   "outputs": [],
   "source": [
    "X_df, y_df = X_L, y_L"
   ],
   "metadata": {
    "collapsed": false,
    "pycharm": {
     "name": "#%%\n"
    }
   }
  },
  {
   "cell_type": "markdown",
   "source": [
    "#### Carry out basic feature preprocessing"
   ],
   "metadata": {
    "collapsed": false,
    "pycharm": {
     "name": "#%% md\n"
    }
   }
  },
  {
   "cell_type": "code",
   "execution_count": 27,
   "outputs": [],
   "source": [
    "X_numeric = X_df.drop([\"landcover_\", \"direction_\"], axis=1)\n",
    "X_landcover = X_df[[\"landcover_\"]]\n",
    "X_direction = X_df[[\"direction_\"]]\n",
    "\n",
    "scaler = StandardScaler()\n",
    "X_numeric = scaler.fit_transform(X_numeric)\n",
    "\n",
    "lb_landcover, lb_direction = LabelBinarizer(), LabelBinarizer()\n",
    "X_landcover = lb_landcover.fit_transform(X_landcover)\n",
    "X_direction = lb_direction.fit_transform(X_direction)\n",
    "X = np.hstack((X_numeric, X_landcover, X_direction))"
   ],
   "metadata": {
    "collapsed": false,
    "pycharm": {
     "name": "#%%\n"
    }
   }
  },
  {
   "cell_type": "markdown",
   "source": [
    "#### Visualize features"
   ],
   "metadata": {
    "collapsed": false,
    "pycharm": {
     "name": "#%% md\n"
    }
   }
  },
  {
   "cell_type": "code",
   "execution_count": 28,
   "outputs": [
    {
     "data": {
      "text/plain": "                         feature\n0                     latitude_x\n1                     longitude_\n2                      start_DOY\n3                        end_DOY\n4                      expansion\n5                      fire_line\n6                          speed\n7                      elevation\n8                     distance_f\n9                           DP01\n10                          DP10\n11                          DP1X\n12                          DYXP\n13                          EMXP\n14                          PRCP\n15  Barren or sparsely vegetated\n16             Closed shrublands\n17                     Croplands\n18    Deciduous Broadleaf forest\n19    Evergreen Broadleaf forest\n20   Evergreen Needleleaf forest\n21                    Grasslands\n22                  Mixed forest\n23               Open shrublands\n24                      Savannas\n25            Urban and built-up\n26                         Water\n27                Woody savannas\n28                          east\n29                          none\n30                         north\n31                     northwest\n32                         south\n33                     southeast\n34                          west",
      "text/html": "<div>\n<style scoped>\n    .dataframe tbody tr th:only-of-type {\n        vertical-align: middle;\n    }\n\n    .dataframe tbody tr th {\n        vertical-align: top;\n    }\n\n    .dataframe thead th {\n        text-align: right;\n    }\n</style>\n<table border=\"1\" class=\"dataframe\">\n  <thead>\n    <tr style=\"text-align: right;\">\n      <th></th>\n      <th>feature</th>\n    </tr>\n  </thead>\n  <tbody>\n    <tr>\n      <th>0</th>\n      <td>latitude_x</td>\n    </tr>\n    <tr>\n      <th>1</th>\n      <td>longitude_</td>\n    </tr>\n    <tr>\n      <th>2</th>\n      <td>start_DOY</td>\n    </tr>\n    <tr>\n      <th>3</th>\n      <td>end_DOY</td>\n    </tr>\n    <tr>\n      <th>4</th>\n      <td>expansion</td>\n    </tr>\n    <tr>\n      <th>5</th>\n      <td>fire_line</td>\n    </tr>\n    <tr>\n      <th>6</th>\n      <td>speed</td>\n    </tr>\n    <tr>\n      <th>7</th>\n      <td>elevation</td>\n    </tr>\n    <tr>\n      <th>8</th>\n      <td>distance_f</td>\n    </tr>\n    <tr>\n      <th>9</th>\n      <td>DP01</td>\n    </tr>\n    <tr>\n      <th>10</th>\n      <td>DP10</td>\n    </tr>\n    <tr>\n      <th>11</th>\n      <td>DP1X</td>\n    </tr>\n    <tr>\n      <th>12</th>\n      <td>DYXP</td>\n    </tr>\n    <tr>\n      <th>13</th>\n      <td>EMXP</td>\n    </tr>\n    <tr>\n      <th>14</th>\n      <td>PRCP</td>\n    </tr>\n    <tr>\n      <th>15</th>\n      <td>Barren or sparsely vegetated</td>\n    </tr>\n    <tr>\n      <th>16</th>\n      <td>Closed shrublands</td>\n    </tr>\n    <tr>\n      <th>17</th>\n      <td>Croplands</td>\n    </tr>\n    <tr>\n      <th>18</th>\n      <td>Deciduous Broadleaf forest</td>\n    </tr>\n    <tr>\n      <th>19</th>\n      <td>Evergreen Broadleaf forest</td>\n    </tr>\n    <tr>\n      <th>20</th>\n      <td>Evergreen Needleleaf forest</td>\n    </tr>\n    <tr>\n      <th>21</th>\n      <td>Grasslands</td>\n    </tr>\n    <tr>\n      <th>22</th>\n      <td>Mixed forest</td>\n    </tr>\n    <tr>\n      <th>23</th>\n      <td>Open shrublands</td>\n    </tr>\n    <tr>\n      <th>24</th>\n      <td>Savannas</td>\n    </tr>\n    <tr>\n      <th>25</th>\n      <td>Urban and built-up</td>\n    </tr>\n    <tr>\n      <th>26</th>\n      <td>Water</td>\n    </tr>\n    <tr>\n      <th>27</th>\n      <td>Woody savannas</td>\n    </tr>\n    <tr>\n      <th>28</th>\n      <td>east</td>\n    </tr>\n    <tr>\n      <th>29</th>\n      <td>none</td>\n    </tr>\n    <tr>\n      <th>30</th>\n      <td>north</td>\n    </tr>\n    <tr>\n      <th>31</th>\n      <td>northwest</td>\n    </tr>\n    <tr>\n      <th>32</th>\n      <td>south</td>\n    </tr>\n    <tr>\n      <th>33</th>\n      <td>southeast</td>\n    </tr>\n    <tr>\n      <th>34</th>\n      <td>west</td>\n    </tr>\n  </tbody>\n</table>\n</div>"
     },
     "metadata": {},
     "output_type": "display_data"
    },
    {
     "data": {
      "text/plain": "<Figure size 720x360 with 2 Axes>",
      "image/png": "[encoded data removed]"
     },
     "metadata": {
      "needs_background": "light"
     },
     "output_type": "display_data"
    }
   ],
   "source": [
    "features = list(X_df.drop([\"landcover_\", \"direction_\"], axis=1).columns) + \\\n",
    "    list(lb_landcover.classes_) + list(lb_direction.classes_)\n",
    "features_df = pd.DataFrame()\n",
    "features_df[\"feature\"] = features\n",
    "display(features_df)\n",
    "\n",
    "start = 50\n",
    "fig, ax = plt.subplots(figsize=(10, 5))\n",
    "im = ax.imshow(X[start:start + 20])\n",
    "plt.colorbar(im)\n",
    "plt.show()"
   ],
   "metadata": {
    "collapsed": false,
    "pycharm": {
     "name": "#%%\n"
    }
   }
  },
  {
   "cell_type": "markdown",
   "source": [
    "#### Visualize targets"
   ],
   "metadata": {
    "collapsed": false
   }
  },
  {
   "cell_type": "code",
   "execution_count": 29,
   "outputs": [
    {
     "data": {
      "text/plain": "<Figure size 720x360 with 2 Axes>",
      "image/png": "[encoded data removed]"
     },
     "metadata": {
      "needs_background": "light"
     },
     "output_type": "display_data"
    }
   ],
   "source": [
    "n_bins = 20\n",
    "fig, ax = plt.subplots(1, 2, figsize=(10, 5))\n",
    "\n",
    "for i, target in enumerate([\"size\", \"perimeter\"]):\n",
    "    hist, bins = np.histogram(y_df[target], bins=n_bins)\n",
    "    logbins = np.logspace(np.log10(bins[0]), np.log10(bins[-1]), len(bins))\n",
    "    ax[i].hist(y_df[target], log=True, bins=logbins, rwidth=0.8, color=\"grey\")\n",
    "    ax[i].set_xscale(\"log\")\n",
    "    ax[i].set_title(target)\n",
    "\n",
    "fig.suptitle(\"Target Distribution Comparison: Log-Log\")\n",
    "plt.tight_layout()\n",
    "plt.show()"
   ],
   "metadata": {
    "collapsed": false,
    "pycharm": {
     "name": "#%%\n"
    }
   }
  },
  {
   "cell_type": "markdown",
   "source": [
    "#### Choose 1 target to work with"
   ],
   "metadata": {
    "collapsed": false,
    "pycharm": {
     "name": "#%% md\n"
    }
   }
  },
  {
   "cell_type": "code",
   "execution_count": 30,
   "outputs": [],
   "source": [
    "y = np.log(y_df[\"size\"] + 1)"
   ],
   "metadata": {
    "collapsed": false,
    "pycharm": {
     "name": "#%%\n"
    }
   }
  },
  {
   "cell_type": "markdown",
   "source": [
    "#### Partition train/test sets"
   ],
   "metadata": {
    "collapsed": false
   }
  },
  {
   "cell_type": "code",
   "execution_count": 31,
   "outputs": [
    {
     "data": {
      "text/plain": "((5370, 35), (5370,), (2302, 35), (2302,))"
     },
     "execution_count": 31,
     "metadata": {},
     "output_type": "execute_result"
    }
   ],
   "source": [
    "X_train, X_test, y_train, y_test = train_test_split(X, y, test_size=0.3, random_state=847, shuffle=True)\n",
    "X_train.shape, y_train.shape, X_test.shape, y_test.shape"
   ],
   "metadata": {
    "collapsed": false,
    "pycharm": {
     "name": "#%%\n"
    }
   }
  },
  {
   "cell_type": "markdown",
   "source": [
    "## 2. Model"
   ],
   "metadata": {
    "collapsed": false,
    "pycharm": {
     "name": "#%% md\n"
    }
   }
  },
  {
   "cell_type": "markdown",
   "source": [
    "#### Test Standard ML Models"
   ],
   "metadata": {
    "collapsed": false
   }
  },
  {
   "cell_type": "code",
   "execution_count": 32,
   "outputs": [
    {
     "name": "stdout",
     "output_type": "stream",
     "text": [
      "[LinearRegression]\n",
      "\tMAE      = 0.13021401551036962\n",
      "\tRMSE     = 0.2257974986981657\n",
      "\tPearsonR = 0.9529249253723465\n",
      "[RidgeCV]\n",
      "\tMAE      = 0.13035794710350299\n",
      "\tRMSE     = 0.22608595347667493\n",
      "\tPearsonR = 0.9527810299260251\n",
      "[LassoCV]\n",
      "\tMAE      = 0.13110933589780024\n",
      "\tRMSE     = 0.22819184804641796\n",
      "\tPearsonR = 0.9518207681691144\n",
      "[ElasticNetCV]\n",
      "\tMAE      = 0.1478448518806432\n",
      "\tRMSE     = 0.2547932270519988\n",
      "\tPearsonR = 0.9395721025074196\n",
      "[DecisionTreeRegressor]\n",
      "\tMAE      = 0.1533383026858471\n",
      "\tRMSE     = 0.3244845086400222\n",
      "\tPearsonR = 0.9035066111955198\n",
      "[SVR - RBF]\n",
      "\tMAE      = 0.15241114859102947\n",
      "\tRMSE     = 0.284999101945357\n",
      "\tPearsonR = 0.9249424958751268\n",
      "[SVR - Linear]\n",
      "\tMAE      = 0.1428551414972711\n",
      "\tRMSE     = 0.24858333240562444\n",
      "\tPearsonR = 0.9477210877827822\n",
      "[KernelRidge - RBF]\n",
      "\tMAE      = 0.15567010511264281\n",
      "\tRMSE     = 0.3056278719424025\n",
      "\tPearsonR = 0.9131197813496584\n",
      "[KernelRidge - Linear]\n",
      "\tMAE      = 0.13359678024589722\n",
      "\tRMSE     = 0.23185961566093088\n",
      "\tPearsonR = 0.950230488437913\n",
      "[BaggingRegressor]\n",
      "\tMAE      = 0.11695033114950408\n",
      "\tRMSE     = 0.2365792744308177\n",
      "\tPearsonR = 0.9480696286446116\n",
      "[RandomForestRegressor]\n",
      "\tMAE      = 0.11218144641325749\n",
      "\tRMSE     = 0.22902674012073682\n",
      "\tPearsonR = 0.9514810395649101\n",
      "[AdaBoostRegressor]\n",
      "\tMAE      = 0.3580785959338893\n",
      "\tRMSE     = 0.3970686292614726\n",
      "\tPearsonR = 0.9332715883010791\n",
      "[GradientBoostingRegressor]\n",
      "\tMAE      = 0.11682410908430685\n",
      "\tRMSE     = 0.2130192056702227\n",
      "\tPearsonR = 0.9583176888619445\n",
      "[ExtraTreesRegressor]\n",
      "\tMAE      = 0.11055893975229124\n",
      "\tRMSE     = 0.23000396303221401\n",
      "\tPearsonR = 0.9510609006595014\n"
     ]
    }
   ],
   "source": [
    "models = {\n",
    "    \"LinearRegression\": LinearRegression(),\n",
    "    \"RidgeCV\": RidgeCV(),\n",
    "    \"LassoCV\": LassoCV(max_iter=1e4, random_state=847),\n",
    "    \"ElasticNetCV\": ElasticNetCV(max_iter=1e4, random_state=847),\n",
    "    \"DecisionTreeRegressor\": DecisionTreeRegressor(random_state=847),\n",
    "    \"SVR - RBF\": SVR(kernel=\"rbf\"),\n",
    "    \"SVR - Linear\": SVR(kernel=\"linear\"),\n",
    "    \"KernelRidge - RBF\": KernelRidge(kernel=\"rbf\"),\n",
    "    \"KernelRidge - Linear\": KernelRidge(kernel=\"linear\"),\n",
    "    \"BaggingRegressor\": BaggingRegressor(random_state=847),\n",
    "    \"RandomForestRegressor\": RandomForestRegressor(random_state=847),\n",
    "    \"AdaBoostRegressor\": AdaBoostRegressor(random_state=847),\n",
    "    \"GradientBoostingRegressor\": GradientBoostingRegressor(random_state=847),\n",
    "    \"ExtraTreesRegressor\": ExtraTreesRegressor(random_state=847),\n",
    "}\n",
    "performance = []\n",
    "\n",
    "for name, model in models.items():\n",
    "\n",
    "    # fit + predict\n",
    "    model.fit(X_train, y_train)\n",
    "    y_hat = model.predict(X_test)\n",
    "\n",
    "    # evaluate\n",
    "    rmse = mean_squared_error(y_test, y_hat, squared=False)\n",
    "    mae = mean_absolute_error(y_test, y_hat)\n",
    "    rho = pearsonr(y_test, y_hat)[0]\n",
    "\n",
    "    # report\n",
    "    print(f\"[{name}]\")\n",
    "    print(f\"\\tMAE      = {mae}\")\n",
    "    print(f\"\\tRMSE     = {rmse}\")\n",
    "    print(f\"\\tPearsonR = {rho}\")\n",
    "\n",
    "    # log performance\n",
    "    performance.append({\"model\": name, \"MAE\": mae, \"RMSE\": rmse, \"PearsonR\": rho})"
   ],
   "metadata": {
    "collapsed": false,
    "pycharm": {
     "name": "#%%\n"
    }
   }
  },
  {
   "cell_type": "code",
   "execution_count": 33,
   "outputs": [
    {
     "data": {
      "text/plain": "                        model       MAE      RMSE  PearsonR\n0            LinearRegression  0.130214  0.225797  0.952925\n1                     RidgeCV  0.130358  0.226086  0.952781\n2                     LassoCV  0.131109  0.228192  0.951821\n3                ElasticNetCV  0.147845  0.254793  0.939572\n4       DecisionTreeRegressor  0.153338  0.324485  0.903507\n5                   SVR - RBF  0.152411  0.284999  0.924942\n6                SVR - Linear  0.142855  0.248583  0.947721\n7           KernelRidge - RBF  0.155670  0.305628  0.913120\n8        KernelRidge - Linear  0.133597  0.231860  0.950230\n9            BaggingRegressor  0.116950  0.236579  0.948070\n10      RandomForestRegressor  0.112181  0.229027  0.951481\n11          AdaBoostRegressor  0.358079  0.397069  0.933272\n12  GradientBoostingRegressor  0.116824  0.213019  0.958318\n13        ExtraTreesRegressor  0.110559  0.230004  0.951061",
      "text/html": "<div>\n<style scoped>\n    .dataframe tbody tr th:only-of-type {\n        vertical-align: middle;\n    }\n\n    .dataframe tbody tr th {\n        vertical-align: top;\n    }\n\n    .dataframe thead th {\n        text-align: right;\n    }\n</style>\n<table border=\"1\" class=\"dataframe\">\n  <thead>\n    <tr style=\"text-align: right;\">\n      <th></th>\n      <th>model</th>\n      <th>MAE</th>\n      <th>RMSE</th>\n      <th>PearsonR</th>\n    </tr>\n  </thead>\n  <tbody>\n    <tr>\n      <th>0</th>\n      <td>LinearRegression</td>\n      <td>0.130214</td>\n      <td>0.225797</td>\n      <td>0.952925</td>\n    </tr>\n    <tr>\n      <th>1</th>\n      <td>RidgeCV</td>\n      <td>0.130358</td>\n      <td>0.226086</td>\n      <td>0.952781</td>\n    </tr>\n    <tr>\n      <th>2</th>\n      <td>LassoCV</td>\n      <td>0.131109</td>\n      <td>0.228192</td>\n      <td>0.951821</td>\n    </tr>\n    <tr>\n      <th>3</th>\n      <td>ElasticNetCV</td>\n      <td>0.147845</td>\n      <td>0.254793</td>\n      <td>0.939572</td>\n    </tr>\n    <tr>\n      <th>4</th>\n      <td>DecisionTreeRegressor</td>\n      <td>0.153338</td>\n      <td>0.324485</td>\n      <td>0.903507</td>\n    </tr>\n    <tr>\n      <th>5</th>\n      <td>SVR - RBF</td>\n      <td>0.152411</td>\n      <td>0.284999</td>\n      <td>0.924942</td>\n    </tr>\n    <tr>\n      <th>6</th>\n      <td>SVR - Linear</td>\n      <td>0.142855</td>\n      <td>0.248583</td>\n      <td>0.947721</td>\n    </tr>\n    <tr>\n      <th>7</th>\n      <td>KernelRidge - RBF</td>\n      <td>0.155670</td>\n      <td>0.305628</td>\n      <td>0.913120</td>\n    </tr>\n    <tr>\n      <th>8</th>\n      <td>KernelRidge - Linear</td>\n      <td>0.133597</td>\n      <td>0.231860</td>\n      <td>0.950230</td>\n    </tr>\n    <tr>\n      <th>9</th>\n      <td>BaggingRegressor</td>\n      <td>0.116950</td>\n      <td>0.236579</td>\n      <td>0.948070</td>\n    </tr>\n    <tr>\n      <th>10</th>\n      <td>RandomForestRegressor</td>\n      <td>0.112181</td>\n      <td>0.229027</td>\n      <td>0.951481</td>\n    </tr>\n    <tr>\n      <th>11</th>\n      <td>AdaBoostRegressor</td>\n      <td>0.358079</td>\n      <td>0.397069</td>\n      <td>0.933272</td>\n    </tr>\n    <tr>\n      <th>12</th>\n      <td>GradientBoostingRegressor</td>\n      <td>0.116824</td>\n      <td>0.213019</td>\n      <td>0.958318</td>\n    </tr>\n    <tr>\n      <th>13</th>\n      <td>ExtraTreesRegressor</td>\n      <td>0.110559</td>\n      <td>0.230004</td>\n      <td>0.951061</td>\n    </tr>\n  </tbody>\n</table>\n</div>"
     },
     "execution_count": 33,
     "metadata": {},
     "output_type": "execute_result"
    }
   ],
   "source": [
    "performance_df = pd.DataFrame(performance)\n",
    "performance_df"
   ],
   "metadata": {
    "collapsed": false,
    "pycharm": {
     "name": "#%%\n"
    }
   }
  },
  {
   "cell_type": "code",
   "execution_count": 34,
   "outputs": [
    {
     "data": {
      "text/plain": "                         feature  W_Linear   W_Lasso   W_Ridge  W_Elastic  \\\n0                     latitude_x -0.006339 -0.010699 -0.006864  -0.018128   \n1                     longitude_  0.003380  0.000000  0.003710   0.003938   \n2                      start_DOY -5.700895 -4.963756 -5.553796  -2.734639   \n3                        end_DOY  5.703291  4.967341  5.562188   2.824186   \n4                      expansion -0.408164 -0.408568 -0.408815  -0.417102   \n5                      fire_line  0.581234  0.570188  0.579653   0.544563   \n6                          speed  0.285962  0.303231  0.289207   0.352468   \n7                      elevation -0.010987 -0.001893 -0.010465   0.000000   \n8                     distance_f  0.003043  0.003327  0.003226   0.005576   \n9                           DP01 -0.007686 -0.005785 -0.007507  -0.001177   \n10                          DP10 -0.006212 -0.003439 -0.005611   0.000000   \n11                          DP1X -0.005752 -0.002920 -0.005677  -0.004875   \n12                          DYXP -0.026391 -0.026790 -0.032122  -0.108813   \n13                          EMXP  0.001814  0.002766  0.002241   0.005689   \n14                          PRCP  0.005036 -0.000000  0.004187  -0.004385   \n15  Barren or sparsely vegetated  0.037103  0.000000  0.037592   0.000000   \n16             Closed shrublands  0.155169  0.000000  0.155254   0.000000   \n17                     Croplands -0.030855 -0.029928 -0.030908  -0.021977   \n18    Deciduous Broadleaf forest  0.006259  0.000000  0.006135   0.000000   \n19    Evergreen Broadleaf forest -0.003778 -0.000000 -0.005993  -0.000000   \n20   Evergreen Needleleaf forest  0.026084  0.005170  0.027351   0.038131   \n21                    Grasslands  0.029180  0.013457  0.028023   0.007282   \n22                  Mixed forest -0.007785 -0.000000 -0.008486  -0.000838   \n23               Open shrublands  0.067756  0.000000  0.066297   0.000000   \n24                      Savannas -0.057929 -0.000000 -0.057074  -0.000000   \n25            Urban and built-up -0.128569 -0.000000 -0.125690  -0.000000   \n26                         Water -0.081952 -0.000000 -0.081182  -0.000000   \n27                Woody savannas -0.010684 -0.008349 -0.011321  -0.008573   \n28                          east  0.012603  0.000000  0.013033  -0.000000   \n29                          none -0.195504 -0.242271 -0.202573  -0.359245   \n30                         north  0.004438 -0.000000  0.005473   0.000000   \n31                     northwest  0.068058  0.064241  0.070621   0.092476   \n32                         south -0.003024 -0.010037 -0.003709  -0.029975   \n33                     southeast  0.112585  0.111475  0.115397   0.143405   \n34                          west  0.000843 -0.000000  0.001759  -0.000000   \n\n     W_Tree  \n0  0.010377  \n1  0.010169  \n2  0.008737  \n3  0.012667  \n4  0.079063  \n5  0.016200  \n6  0.772629  \n7  0.010341  \n8  0.006792  \n9  0.004120  \n10 0.002040  \n11 0.000616  \n12 0.006048  \n13 0.006460  \n14 0.005797  \n15 0.000000  \n16 0.000000  \n17 0.000729  \n18 0.000005  \n19 0.000004  \n20 0.000403  \n21 0.000329  \n22 0.000059  \n23 0.000000  \n24 0.000000  \n25 0.000000  \n26 0.000000  \n27 0.000426  \n28 0.001172  \n29 0.037902  \n30 0.000757  \n31 0.001436  \n32 0.002450  \n33 0.001001  \n34 0.001273  ",
      "text/html": "<div>\n<style scoped>\n    .dataframe tbody tr th:only-of-type {\n        vertical-align: middle;\n    }\n\n    .dataframe tbody tr th {\n        vertical-align: top;\n    }\n\n    .dataframe thead th {\n        text-align: right;\n    }\n</style>\n<table border=\"1\" class=\"dataframe\">\n  <thead>\n    <tr style=\"text-align: right;\">\n      <th></th>\n      <th>feature</th>\n      <th>W_Linear</th>\n      <th>W_Lasso</th>\n      <th>W_Ridge</th>\n      <th>W_Elastic</th>\n      <th>W_Tree</th>\n    </tr>\n  </thead>\n  <tbody>\n    <tr>\n      <th>0</th>\n      <td>latitude_x</td>\n      <td>-0.006339</td>\n      <td>-0.010699</td>\n      <td>-0.006864</td>\n      <td>-0.018128</td>\n      <td>0.010377</td>\n    </tr>\n    <tr>\n      <th>1</th>\n      <td>longitude_</td>\n      <td>0.003380</td>\n      <td>0.000000</td>\n      <td>0.003710</td>\n      <td>0.003938</td>\n      <td>0.010169</td>\n    </tr>\n    <tr>\n      <th>2</th>\n      <td>start_DOY</td>\n      <td>-5.700895</td>\n      <td>-4.963756</td>\n      <td>-5.553796</td>\n      <td>-2.734639</td>\n      <td>0.008737</td>\n    </tr>\n    <tr>\n      <th>3</th>\n      <td>end_DOY</td>\n      <td>5.703291</td>\n      <td>4.967341</td>\n      <td>5.562188</td>\n      <td>2.824186</td>\n      <td>0.012667</td>\n    </tr>\n    <tr>\n      <th>4</th>\n      <td>expansion</td>\n      <td>-0.408164</td>\n      <td>-0.408568</td>\n      <td>-0.408815</td>\n      <td>-0.417102</td>\n      <td>0.079063</td>\n    </tr>\n    <tr>\n      <th>5</th>\n      <td>fire_line</td>\n      <td>0.581234</td>\n      <td>0.570188</td>\n      <td>0.579653</td>\n      <td>0.544563</td>\n      <td>0.016200</td>\n    </tr>\n    <tr>\n      <th>6</th>\n      <td>speed</td>\n      <td>0.285962</td>\n      <td>0.303231</td>\n      <td>0.289207</td>\n      <td>0.352468</td>\n      <td>0.772629</td>\n    </tr>\n    <tr>\n      <th>7</th>\n      <td>elevation</td>\n      <td>-0.010987</td>\n      <td>-0.001893</td>\n      <td>-0.010465</td>\n      <td>0.000000</td>\n      <td>0.010341</td>\n    </tr>\n    <tr>\n      <th>8</th>\n      <td>distance_f</td>\n      <td>0.003043</td>\n      <td>0.003327</td>\n      <td>0.003226</td>\n      <td>0.005576</td>\n      <td>0.006792</td>\n    </tr>\n    <tr>\n      <th>9</th>\n      <td>DP01</td>\n      <td>-0.007686</td>\n      <td>-0.005785</td>\n      <td>-0.007507</td>\n      <td>-0.001177</td>\n      <td>0.004120</td>\n    </tr>\n    <tr>\n      <th>10</th>\n      <td>DP10</td>\n      <td>-0.006212</td>\n      <td>-0.003439</td>\n      <td>-0.005611</td>\n      <td>0.000000</td>\n      <td>0.002040</td>\n    </tr>\n    <tr>\n      <th>11</th>\n      <td>DP1X</td>\n      <td>-0.005752</td>\n      <td>-0.002920</td>\n      <td>-0.005677</td>\n      <td>-0.004875</td>\n      <td>0.000616</td>\n    </tr>\n    <tr>\n      <th>12</th>\n      <td>DYXP</td>\n      <td>-0.026391</td>\n      <td>-0.026790</td>\n      <td>-0.032122</td>\n      <td>-0.108813</td>\n      <td>0.006048</td>\n    </tr>\n    <tr>\n      <th>13</th>\n      <td>EMXP</td>\n      <td>0.001814</td>\n      <td>0.002766</td>\n      <td>0.002241</td>\n      <td>0.005689</td>\n      <td>0.006460</td>\n    </tr>\n    <tr>\n      <th>14</th>\n      <td>PRCP</td>\n      <td>0.005036</td>\n      <td>-0.000000</td>\n      <td>0.004187</td>\n      <td>-0.004385</td>\n      <td>0.005797</td>\n    </tr>\n    <tr>\n      <th>15</th>\n      <td>Barren or sparsely vegetated</td>\n      <td>0.037103</td>\n      <td>0.000000</td>\n      <td>0.037592</td>\n      <td>0.000000</td>\n      <td>0.000000</td>\n    </tr>\n    <tr>\n      <th>16</th>\n      <td>Closed shrublands</td>\n      <td>0.155169</td>\n      <td>0.000000</td>\n      <td>0.155254</td>\n      <td>0.000000</td>\n      <td>0.000000</td>\n    </tr>\n    <tr>\n      <th>17</th>\n      <td>Croplands</td>\n      <td>-0.030855</td>\n      <td>-0.029928</td>\n      <td>-0.030908</td>\n      <td>-0.021977</td>\n      <td>0.000729</td>\n    </tr>\n    <tr>\n      <th>18</th>\n      <td>Deciduous Broadleaf forest</td>\n      <td>0.006259</td>\n      <td>0.000000</td>\n      <td>0.006135</td>\n      <td>0.000000</td>\n      <td>0.000005</td>\n    </tr>\n    <tr>\n      <th>19</th>\n      <td>Evergreen Broadleaf forest</td>\n      <td>-0.003778</td>\n      <td>-0.000000</td>\n      <td>-0.005993</td>\n      <td>-0.000000</td>\n      <td>0.000004</td>\n    </tr>\n    <tr>\n      <th>20</th>\n      <td>Evergreen Needleleaf forest</td>\n      <td>0.026084</td>\n      <td>0.005170</td>\n      <td>0.027351</td>\n      <td>0.038131</td>\n      <td>0.000403</td>\n    </tr>\n    <tr>\n      <th>21</th>\n      <td>Grasslands</td>\n      <td>0.029180</td>\n      <td>0.013457</td>\n      <td>0.028023</td>\n      <td>0.007282</td>\n      <td>0.000329</td>\n    </tr>\n    <tr>\n      <th>22</th>\n      <td>Mixed forest</td>\n      <td>-0.007785</td>\n      <td>-0.000000</td>\n      <td>-0.008486</td>\n      <td>-0.000838</td>\n      <td>0.000059</td>\n    </tr>\n    <tr>\n      <th>23</th>\n      <td>Open shrublands</td>\n      <td>0.067756</td>\n      <td>0.000000</td>\n      <td>0.066297</td>\n      <td>0.000000</td>\n      <td>0.000000</td>\n    </tr>\n    <tr>\n      <th>24</th>\n      <td>Savannas</td>\n      <td>-0.057929</td>\n      <td>-0.000000</td>\n      <td>-0.057074</td>\n      <td>-0.000000</td>\n      <td>0.000000</td>\n    </tr>\n    <tr>\n      <th>25</th>\n      <td>Urban and built-up</td>\n      <td>-0.128569</td>\n      <td>-0.000000</td>\n      <td>-0.125690</td>\n      <td>-0.000000</td>\n      <td>0.000000</td>\n    </tr>\n    <tr>\n      <th>26</th>\n      <td>Water</td>\n      <td>-0.081952</td>\n      <td>-0.000000</td>\n      <td>-0.081182</td>\n      <td>-0.000000</td>\n      <td>0.000000</td>\n    </tr>\n    <tr>\n      <th>27</th>\n      <td>Woody savannas</td>\n      <td>-0.010684</td>\n      <td>-0.008349</td>\n      <td>-0.011321</td>\n      <td>-0.008573</td>\n      <td>0.000426</td>\n    </tr>\n    <tr>\n      <th>28</th>\n      <td>east</td>\n      <td>0.012603</td>\n      <td>0.000000</td>\n      <td>0.013033</td>\n      <td>-0.000000</td>\n      <td>0.001172</td>\n    </tr>\n    <tr>\n      <th>29</th>\n      <td>none</td>\n      <td>-0.195504</td>\n      <td>-0.242271</td>\n      <td>-0.202573</td>\n      <td>-0.359245</td>\n      <td>0.037902</td>\n    </tr>\n    <tr>\n      <th>30</th>\n      <td>north</td>\n      <td>0.004438</td>\n      <td>-0.000000</td>\n      <td>0.005473</td>\n      <td>0.000000</td>\n      <td>0.000757</td>\n    </tr>\n    <tr>\n      <th>31</th>\n      <td>northwest</td>\n      <td>0.068058</td>\n      <td>0.064241</td>\n      <td>0.070621</td>\n      <td>0.092476</td>\n      <td>0.001436</td>\n    </tr>\n    <tr>\n      <th>32</th>\n      <td>south</td>\n      <td>-0.003024</td>\n      <td>-0.010037</td>\n      <td>-0.003709</td>\n      <td>-0.029975</td>\n      <td>0.002450</td>\n    </tr>\n    <tr>\n      <th>33</th>\n      <td>southeast</td>\n      <td>0.112585</td>\n      <td>0.111475</td>\n      <td>0.115397</td>\n      <td>0.143405</td>\n      <td>0.001001</td>\n    </tr>\n    <tr>\n      <th>34</th>\n      <td>west</td>\n      <td>0.000843</td>\n      <td>-0.000000</td>\n      <td>0.001759</td>\n      <td>-0.000000</td>\n      <td>0.001273</td>\n    </tr>\n  </tbody>\n</table>\n</div>"
     },
     "metadata": {},
     "output_type": "display_data"
    }
   ],
   "source": [
    "features_df[\"W_Linear\"] = models[\"LinearRegression\"].coef_\n",
    "features_df[\"W_Lasso\"] = models[\"LassoCV\"].coef_\n",
    "features_df[\"W_Ridge\"] = models[\"RidgeCV\"].coef_\n",
    "features_df[\"W_Elastic\"] = models[\"ElasticNetCV\"].coef_\n",
    "features_df[\"W_Tree\"] = models[\"DecisionTreeRegressor\"].feature_importances_\n",
    "\n",
    "with pd.option_context('display.float_format', '{:.6f}'.format):\n",
    "    display(features_df)"
   ],
   "metadata": {
    "collapsed": false,
    "pycharm": {
     "name": "#%%\n"
    }
   }
  },
  {
   "cell_type": "markdown",
   "source": [
    "#### Test Deep MLP Models"
   ],
   "metadata": {
    "collapsed": false
   }
  },
  {
   "cell_type": "code",
   "execution_count": 35,
   "outputs": [
    {
     "name": "stdout",
     "output_type": "stream",
     "text": [
      "[MLP - 100x1]\n",
      "\tMAE      = 0.10736422687415022\n",
      "\tRMSE     = 0.20498824016786812\n",
      "\tPearsonR = 0.9614520384687831\n",
      "[MLP - 100x2]\n",
      "\tMAE      = 0.11279631966671701\n",
      "\tRMSE     = 0.23736273697047391\n",
      "\tPearsonR = 0.9491538583634568\n",
      "[MLP - 100x5]\n",
      "\tMAE      = 0.1260616077659602\n",
      "\tRMSE     = 0.30830156748257215\n",
      "\tPearsonR = 0.9154362114083319\n",
      "[MLP - 100x10]\n",
      "\tMAE      = 0.10937650003169637\n",
      "\tRMSE     = 0.22894180121277208\n",
      "\tPearsonR = 0.9517634140781447\n",
      "[MLP - 1x10]\n",
      "\tMAE      = 0.5571628984942417\n",
      "\tRMSE     = 0.7444545065299557\n",
      "\tPearsonR = nan\n",
      "[MLP - 2x10]\n",
      "\tMAE      = 0.5525255161949976\n",
      "\tRMSE     = 0.7440713373855232\n",
      "\tPearsonR = -0.027531069631760847\n",
      "[MLP - 5x10]\n",
      "\tMAE      = 0.07145343938706744\n",
      "\tRMSE     = 0.12466800044011897\n",
      "\tPearsonR = 0.9861424833659096\n",
      "[MLP - 10x10]\n",
      "\tMAE      = 0.08331376192388984\n",
      "\tRMSE     = 0.23121841190001577\n",
      "\tPearsonR = 0.9518267627354361\n"
     ]
    },
    {
     "name": "stderr",
     "output_type": "stream",
     "text": [
      "c:\\users\\andre\\appdata\\local\\programs\\python\\python39\\lib\\site-packages\\scipy\\stats\\stats.py:3913: PearsonRConstantInputWarning: An input array is constant; the correlation coefficent is not defined.\n",
      "  warnings.warn(PearsonRConstantInputWarning())\n"
     ]
    }
   ],
   "source": [
    "deep_models = {\n",
    "    \"MLP - 100x1\": MLPRegressor(random_state=847),\n",
    "    \"MLP - 100x2\": MLPRegressor(hidden_layer_sizes=[100]*2, random_state=847),\n",
    "    \"MLP - 100x5\": MLPRegressor(hidden_layer_sizes=[100]*5, random_state=847),\n",
    "    \"MLP - 100x10\": MLPRegressor(hidden_layer_sizes=[100]*10, random_state=847),\n",
    "    \"MLP - 1x10\": MLPRegressor(hidden_layer_sizes=[1]*10, random_state=847),\n",
    "    \"MLP - 2x10\": MLPRegressor(hidden_layer_sizes=[2]*10, random_state=847),\n",
    "    \"MLP - 5x10\": MLPRegressor(hidden_layer_sizes=[5]*10, random_state=847),\n",
    "    \"MLP - 10x10\": MLPRegressor(hidden_layer_sizes=[10]*10, random_state=847),\n",
    "}\n",
    "deep_performance = []\n",
    "\n",
    "for name, model in deep_models.items():\n",
    "\n",
    "    # fit + predict\n",
    "    model.fit(X_train, y_train)\n",
    "    y_hat = model.predict(X_test)\n",
    "\n",
    "    # evaluate\n",
    "    rmse = mean_squared_error(y_test, y_hat, squared=False)\n",
    "    mae = mean_absolute_error(y_test, y_hat)\n",
    "    rho = pearsonr(y_test, y_hat)[0]\n",
    "\n",
    "    # report\n",
    "    print(f\"[{name}]\")\n",
    "    print(f\"\\tMAE      = {mae}\")\n",
    "    print(f\"\\tRMSE     = {rmse}\")\n",
    "    print(f\"\\tPearsonR = {rho}\")\n",
    "\n",
    "    # log performance\n",
    "    deep_performance.append({\"model\": name, \"MAE\": mae, \"RMSE\": rmse, \"PearsonR\": rho})"
   ],
   "metadata": {
    "collapsed": false,
    "pycharm": {
     "name": "#%%\n"
    }
   }
  },
  {
   "cell_type": "code",
   "execution_count": 37,
   "outputs": [
    {
     "data": {
      "text/plain": "<Figure size 432x288 with 1 Axes>",
      "image/png": "[encoded data removed]"
     },
     "metadata": {
      "needs_background": "light"
     },
     "output_type": "display_data"
    }
   ],
   "source": [
    "for name in deep_models.keys():\n",
    "    plt.plot(deep_models[name].loss_curve_, label=name)\n",
    "plt.legend()\n",
    "plt.show()"
   ],
   "metadata": {
    "collapsed": false,
    "pycharm": {
     "name": "#%%\n"
    }
   }
  }
 ],
 "metadata": {
  "kernelspec": {
   "display_name": "Python 3",
   "language": "python",
   "name": "python3"
  },
  "language_info": {
   "codemirror_mode": {
    "name": "ipython",
    "version": 2
   },
   "file_extension": ".py",
   "mimetype": "text/x-python",
   "name": "python",
   "nbconvert_exporter": "python",
   "pygments_lexer": "ipython2",
   "version": "2.7.6"
  }
 },
 "nbformat": 4,
 "nbformat_minor": 0
}