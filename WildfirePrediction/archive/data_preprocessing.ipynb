{
 "cells": [
  {
   "cell_type": "markdown",
   "metadata": {
    "collapsed": true,
    "pycharm": {
     "name": "#%% md\n"
    }
   },
   "source": [
    "# Unified Data Preprocessing\n",
    "#### Fire Atlas Dataset\n",
    "Andrew McDonald // CSE 847 // April 2021"
   ]
  },
  {
   "cell_type": "code",
   "execution_count": 1,
   "outputs": [],
   "source": [
    "import requests\n",
    "import urllib\n",
    "import json\n",
    "from datetime import datetime\n",
    "\n",
    "import numpy as np\n",
    "import pandas as pd\n",
    "import geopandas as gpd\n",
    "import matplotlib.pyplot as plt"
   ],
   "metadata": {
    "collapsed": false,
    "pycharm": {
     "name": "#%%\n"
    }
   }
  },
  {
   "cell_type": "code",
   "execution_count": 2,
   "outputs": [
    {
     "data": {
      "text/plain": "        fire_ID  latitude  longitude   size  perimeter  start_date  start_DOY  \\\n0             1   20.8438  -156.4130   0.86       4.63  2016-10-26        300   \n1             2   20.8396  -156.4180   1.50       6.48  2016-10-28        302   \n2             3   20.8105  -156.4370   0.43       2.78  2016-11-29        334   \n3             4   20.6271  -156.2470  18.65      30.56  2016-02-16         47   \n4             5   19.8063  -155.8950   7.72      12.96  2016-03-20         80   \n...         ...       ...        ...    ...        ...         ...        ...   \n887216   887217  -15.2604   145.1189   1.50       6.48  2016-11-21        326   \n887217   887218  -15.2770   145.1347   0.64       3.70  2016-11-17        322   \n887218   887219  -15.3104   145.1535   2.57       7.41  2016-10-21        295   \n887219   887220  -15.3020   145.1779   1.50       5.56  2016-10-02        276   \n887220   887221  -15.3104   145.2572   0.43       2.78  2016-10-18        292   \n\n          end_date  end_DOY  duration  expansion  fire_line  speed  direction  \\\n0       2016-11-02      307         8       0.11       0.23   0.37          3   \n1       2016-11-02      307         6       0.25       0.54   0.57          4   \n2       2016-11-29      334         1       0.43       0.93   0.46          0   \n3       2016-02-20       51         5       3.73       6.20   2.68          8   \n4       2016-03-25       85         6       1.29       2.47   1.39          4   \n...            ...      ...       ...        ...        ...    ...        ...   \n887216  2016-11-23      328         3       0.50       1.08   0.91          3   \n887217  2016-11-21      326         5       0.13       0.28   0.51          5   \n887218  2016-10-30      304        10       0.26       0.56   0.97          3   \n887219  2016-10-08      282         7       0.21       0.46   0.75          8   \n887220  2016-10-21      295         4       0.11       0.23   0.31          7   \n\n       direction_s  landcover      landcover_s tile_ID  \\\n0             east         12        Croplands  h03v06   \n1        southeast         12        Croplands  h03v06   \n2             none         12        Croplands  h03v06   \n3        northwest          7  Open shrublands  h03v06   \n4        southeast          7  Open shrublands  h03v07   \n...            ...        ...              ...     ...   \n887216        east          8   Woody savannas  h32v10   \n887217       south          8   Woody savannas  h32v10   \n887218        east          8   Woody savannas  h32v10   \n887219   northwest          8   Woody savannas  h32v10   \n887220        west          8   Woody savannas  h32v10   \n\n                           geometry  \n0       POINT (-156.41374 20.84379)  \n1       POINT (-156.41833 20.83962)  \n2       POINT (-156.43708 20.81045)  \n3       POINT (-156.24786 20.62712)  \n4       POINT (-155.89512 19.80629)  \n...                             ...  \n887216  POINT (145.11887 -15.26036)  \n887217  POINT (145.13471 -15.27703)  \n887218  POINT (145.15348 -15.31036)  \n887219  POINT (145.17794 -15.30203)  \n887220  POINT (145.25716 -15.31036)  \n\n[887221 rows x 19 columns]",
      "text/html": "<div>\n<style scoped>\n    .dataframe tbody tr th:only-of-type {\n        vertical-align: middle;\n    }\n\n    .dataframe tbody tr th {\n        vertical-align: top;\n    }\n\n    .dataframe thead th {\n        text-align: right;\n    }\n</style>\n<table border=\"1\" class=\"dataframe\">\n  <thead>\n    <tr style=\"text-align: right;\">\n      <th></th>\n      <th>fire_ID</th>\n      <th>latitude</th>\n      <th>longitude</th>\n      <th>size</th>\n      <th>perimeter</th>\n      <th>start_date</th>\n      <th>start_DOY</th>\n      <th>end_date</th>\n      <th>end_DOY</th>\n      <th>duration</th>\n      <th>expansion</th>\n      <th>fire_line</th>\n      <th>speed</th>\n      <th>direction</th>\n      <th>direction_s</th>\n      <th>landcover</th>\n      <th>landcover_s</th>\n      <th>tile_ID</th>\n      <th>geometry</th>\n    </tr>\n  </thead>\n  <tbody>\n    <tr>\n      <th>0</th>\n      <td>1</td>\n      <td>20.8438</td>\n      <td>-156.4130</td>\n      <td>0.86</td>\n      <td>4.63</td>\n      <td>2016-10-26</td>\n      <td>300</td>\n      <td>2016-11-02</td>\n      <td>307</td>\n      <td>8</td>\n      <td>0.11</td>\n      <td>0.23</td>\n      <td>0.37</td>\n      <td>3</td>\n      <td>east</td>\n      <td>12</td>\n      <td>Croplands</td>\n      <td>h03v06</td>\n      <td>POINT (-156.41374 20.84379)</td>\n    </tr>\n    <tr>\n      <th>1</th>\n      <td>2</td>\n      <td>20.8396</td>\n      <td>-156.4180</td>\n      <td>1.50</td>\n      <td>6.48</td>\n      <td>2016-10-28</td>\n      <td>302</td>\n      <td>2016-11-02</td>\n      <td>307</td>\n      <td>6</td>\n      <td>0.25</td>\n      <td>0.54</td>\n      <td>0.57</td>\n      <td>4</td>\n      <td>southeast</td>\n      <td>12</td>\n      <td>Croplands</td>\n      <td>h03v06</td>\n      <td>POINT (-156.41833 20.83962)</td>\n    </tr>\n    <tr>\n      <th>2</th>\n      <td>3</td>\n      <td>20.8105</td>\n      <td>-156.4370</td>\n      <td>0.43</td>\n      <td>2.78</td>\n      <td>2016-11-29</td>\n      <td>334</td>\n      <td>2016-11-29</td>\n      <td>334</td>\n      <td>1</td>\n      <td>0.43</td>\n      <td>0.93</td>\n      <td>0.46</td>\n      <td>0</td>\n      <td>none</td>\n      <td>12</td>\n      <td>Croplands</td>\n      <td>h03v06</td>\n      <td>POINT (-156.43708 20.81045)</td>\n    </tr>\n    <tr>\n      <th>3</th>\n      <td>4</td>\n      <td>20.6271</td>\n      <td>-156.2470</td>\n      <td>18.65</td>\n      <td>30.56</td>\n      <td>2016-02-16</td>\n      <td>47</td>\n      <td>2016-02-20</td>\n      <td>51</td>\n      <td>5</td>\n      <td>3.73</td>\n      <td>6.20</td>\n      <td>2.68</td>\n      <td>8</td>\n      <td>northwest</td>\n      <td>7</td>\n      <td>Open shrublands</td>\n      <td>h03v06</td>\n      <td>POINT (-156.24786 20.62712)</td>\n    </tr>\n    <tr>\n      <th>4</th>\n      <td>5</td>\n      <td>19.8063</td>\n      <td>-155.8950</td>\n      <td>7.72</td>\n      <td>12.96</td>\n      <td>2016-03-20</td>\n      <td>80</td>\n      <td>2016-03-25</td>\n      <td>85</td>\n      <td>6</td>\n      <td>1.29</td>\n      <td>2.47</td>\n      <td>1.39</td>\n      <td>4</td>\n      <td>southeast</td>\n      <td>7</td>\n      <td>Open shrublands</td>\n      <td>h03v07</td>\n      <td>POINT (-155.89512 19.80629)</td>\n    </tr>\n    <tr>\n      <th>...</th>\n      <td>...</td>\n      <td>...</td>\n      <td>...</td>\n      <td>...</td>\n      <td>...</td>\n      <td>...</td>\n      <td>...</td>\n      <td>...</td>\n      <td>...</td>\n      <td>...</td>\n      <td>...</td>\n      <td>...</td>\n      <td>...</td>\n      <td>...</td>\n      <td>...</td>\n      <td>...</td>\n      <td>...</td>\n      <td>...</td>\n      <td>...</td>\n    </tr>\n    <tr>\n      <th>887216</th>\n      <td>887217</td>\n      <td>-15.2604</td>\n      <td>145.1189</td>\n      <td>1.50</td>\n      <td>6.48</td>\n      <td>2016-11-21</td>\n      <td>326</td>\n      <td>2016-11-23</td>\n      <td>328</td>\n      <td>3</td>\n      <td>0.50</td>\n      <td>1.08</td>\n      <td>0.91</td>\n      <td>3</td>\n      <td>east</td>\n      <td>8</td>\n      <td>Woody savannas</td>\n      <td>h32v10</td>\n      <td>POINT (145.11887 -15.26036)</td>\n    </tr>\n    <tr>\n      <th>887217</th>\n      <td>887218</td>\n      <td>-15.2770</td>\n      <td>145.1347</td>\n      <td>0.64</td>\n      <td>3.70</td>\n      <td>2016-11-17</td>\n      <td>322</td>\n      <td>2016-11-21</td>\n      <td>326</td>\n      <td>5</td>\n      <td>0.13</td>\n      <td>0.28</td>\n      <td>0.51</td>\n      <td>5</td>\n      <td>south</td>\n      <td>8</td>\n      <td>Woody savannas</td>\n      <td>h32v10</td>\n      <td>POINT (145.13471 -15.27703)</td>\n    </tr>\n    <tr>\n      <th>887218</th>\n      <td>887219</td>\n      <td>-15.3104</td>\n      <td>145.1535</td>\n      <td>2.57</td>\n      <td>7.41</td>\n      <td>2016-10-21</td>\n      <td>295</td>\n      <td>2016-10-30</td>\n      <td>304</td>\n      <td>10</td>\n      <td>0.26</td>\n      <td>0.56</td>\n      <td>0.97</td>\n      <td>3</td>\n      <td>east</td>\n      <td>8</td>\n      <td>Woody savannas</td>\n      <td>h32v10</td>\n      <td>POINT (145.15348 -15.31036)</td>\n    </tr>\n    <tr>\n      <th>887219</th>\n      <td>887220</td>\n      <td>-15.3020</td>\n      <td>145.1779</td>\n      <td>1.50</td>\n      <td>5.56</td>\n      <td>2016-10-02</td>\n      <td>276</td>\n      <td>2016-10-08</td>\n      <td>282</td>\n      <td>7</td>\n      <td>0.21</td>\n      <td>0.46</td>\n      <td>0.75</td>\n      <td>8</td>\n      <td>northwest</td>\n      <td>8</td>\n      <td>Woody savannas</td>\n      <td>h32v10</td>\n      <td>POINT (145.17794 -15.30203)</td>\n    </tr>\n    <tr>\n      <th>887220</th>\n      <td>887221</td>\n      <td>-15.3104</td>\n      <td>145.2572</td>\n      <td>0.43</td>\n      <td>2.78</td>\n      <td>2016-10-18</td>\n      <td>292</td>\n      <td>2016-10-21</td>\n      <td>295</td>\n      <td>4</td>\n      <td>0.11</td>\n      <td>0.23</td>\n      <td>0.31</td>\n      <td>7</td>\n      <td>west</td>\n      <td>8</td>\n      <td>Woody savannas</td>\n      <td>h32v10</td>\n      <td>POINT (145.25716 -15.31036)</td>\n    </tr>\n  </tbody>\n</table>\n<p>887221 rows × 19 columns</p>\n</div>"
     },
     "execution_count": 2,
     "metadata": {},
     "output_type": "execute_result"
    }
   ],
   "source": [
    "ignitions = gpd.read_file(\"2016_wildfires/Global_fire_atlas_V1_ignitions_2016.shp\")\n",
    "ignitions"
   ],
   "metadata": {
    "collapsed": false,
    "pycharm": {
     "name": "#%%\n"
    }
   }
  },
  {
   "cell_type": "markdown",
   "source": [
    "Excellent. We have over 887,220 fires, plenty to train a deep model upon.\n",
    "Let's link them up with weather data from the NCDC.\n",
    "We begin by finding all weather stations available in the [2016 NCDC GSOM\n",
    "dataset](https://www.ncdc.noaa.gov/cdo-web/webservices/v2) that have the variables we hope to use as predictors."
   ],
   "metadata": {
    "collapsed": false,
    "pycharm": {
     "name": "#%% md\n"
    }
   }
  },
  {
   "cell_type": "code",
   "execution_count": null,
   "outputs": [],
   "source": [
    "api_token = \"syKpWfFaNGhSsksXrJhcrwQspIYihUqW\"\n",
    "base_url = \"https://www.ncdc.noaa.gov/cdo-web/api/v2/\"\n",
    "headers = {\"token\": api_token}\n",
    "resource = \"stations?\"\n",
    "query = {\n",
    "    \"datasetid\": \"GSOM\",\n",
    "    \"startdate\": \"2016-01-01\",\n",
    "    \"enddate\": \"2016-01-01\",\n",
    "    \"limit\": \"1000\"\n",
    "}\n",
    "query_str = urllib.parse.urlencode(query, doseq=False)\n",
    "endpoint = base_url + resource + query_str\n",
    "response = requests.get(endpoint, headers=headers)\n",
    "results = json.loads(response.text)\n",
    "results[\"metadata\"][\"resultset\"]"
   ],
   "metadata": {
    "collapsed": false,
    "pycharm": {
     "name": "#%%\n"
    }
   }
  }
 ],
 "metadata": {
  "kernelspec": {
   "display_name": "Python 3",
   "language": "python",
   "name": "python3"
  },
  "language_info": {
   "codemirror_mode": {
    "name": "ipython",
    "version": 2
   },
   "file_extension": ".py",
   "mimetype": "text/x-python",
   "name": "python",
   "nbconvert_exporter": "python",
   "pygments_lexer": "ipython2",
   "version": "2.7.6"
  }
 },
 "nbformat": 4,
 "nbformat_minor": 0
}