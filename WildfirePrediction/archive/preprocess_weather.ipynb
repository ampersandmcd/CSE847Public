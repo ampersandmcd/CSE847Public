{
 "cells": [
  {
   "cell_type": "markdown",
   "source": [
    "# Preprocessing Merged Weather + Fire Data\n",
    "#### Fire Atlas Dataset + NCDC GSOM Data\n",
    "Andrew McDonald // CSE 847 // April 2021"
   ],
   "metadata": {
    "collapsed": false
   }
  },
  {
   "cell_type": "code",
   "execution_count": 1,
   "outputs": [],
   "source": [
    "import numpy as np\n",
    "import pandas as pd\n",
    "import geopandas as gpd\n",
    "import matplotlib.pyplot as plt\n",
    "from sklearn.preprocessing import LabelBinarizer\n",
    "cmap = plt.get_cmap(\"tab10\")"
   ],
   "metadata": {
    "collapsed": false,
    "pycharm": {
     "name": "#%%\n"
    }
   }
  },
  {
   "cell_type": "code",
   "execution_count": 2,
   "outputs": [
    {
     "data": {
      "text/plain": "      fire_ID  latitude_x  longitude_   size  perimeter  start_date  \\\n0           4     20.6271   -156.2470  18.65      30.56  2016-02-16   \n1           5     19.8063   -155.8950   7.72      12.96  2016-03-20   \n2           6     42.2438   -121.8750   0.86       5.56  2016-08-09   \n3           7     42.2313   -121.8730   0.64       4.63  2016-08-16   \n4           8     41.8938   -122.9790  20.37      40.74  2016-08-28   \n...       ...         ...         ...    ...        ...         ...   \n9190    56789     40.8521    -78.1691   0.43       2.78  2016-04-14   \n9191    56790     40.4188    -76.7056   0.64       3.70  2015-11-14   \n9192    56791     40.0271    -74.4895   0.86       4.63  2016-06-26   \n9193    56792     40.0063    -74.4994   3.00       9.26  2016-06-13   \n9194    56793     39.9979    -74.5012   3.86      12.04  2016-06-14   \n\n      start_DOY    end_date  end_DOY  duration  expansion  fire_line  speed  \\\n0            47  2016-02-20       51         5       3.73       6.20   2.68   \n1            80  2016-03-25       85         6       1.29       2.47   1.39   \n2           222  2016-08-09      222         1       0.86       1.85   0.79   \n3           229  2016-08-18      231         3       0.21       0.46   0.49   \n4           241  2016-09-12      256        16       1.27       2.66   1.49   \n...         ...         ...      ...       ...        ...        ...    ...   \n9190        105  2016-04-14      105         1       0.43       0.93   0.46   \n9191        318  2015-11-14      318         1       0.64       1.39   0.64   \n9192        178  2016-07-04      186         9       0.10       0.21   0.41   \n9193        165  2016-06-19      171         7       0.43       0.93   0.84   \n9194        166  2016-06-21      173         8       0.48       0.93   1.53   \n\n      direction direction_  landcover                   landcover_ tile_ID  \\\n0             8  northwest          7              Open shrublands  h03v06   \n1             4  southeast          7              Open shrublands  h03v07   \n2             0       none         12                    Croplands  h08v04   \n3             4  southeast         12                    Croplands  h08v04   \n4             8  northwest          1  Evergreen Needleleaf forest  h08v04   \n...         ...        ...        ...                          ...     ...   \n9190          0       none          4   Deciduous Broadleaf forest  h12v04   \n9191          0       none          5                 Mixed forest  h12v04   \n9192          7       west          4   Deciduous Broadleaf forest  h12v04   \n9193          7       west          5                 Mixed forest  h12v04   \n9194          5      south          5                 Mixed forest  h12v05   \n\n        pop_est      continent                    name_x iso_a3  gdp_md_est  \\\n0     326625791  North America  United States of America    USA  18560000.0   \n1     326625791  North America  United States of America    USA  18560000.0   \n2     326625791  North America  United States of America    USA  18560000.0   \n3     326625791  North America  United States of America    USA  18560000.0   \n4     326625791  North America  United States of America    USA  18560000.0   \n...         ...            ...                       ...    ...         ...   \n9190  326625791  North America  United States of America    USA  18560000.0   \n9191  326625791  North America  United States of America    USA  18560000.0   \n9192  326625791  North America  United States of America    USA  18560000.0   \n9193  326625791  North America  United States of America    USA  18560000.0   \n9194  326625791  North America  United States of America    USA  18560000.0   \n\n      nearest_st  elevation     mindate     maxdate  latitude_y  \\\n0          32923     1228.3  2013-01-01  2017-03-01   20.684200   \n1          32941      709.0  2003-05-01  2021-03-01   19.795000   \n2          21880     1255.5  2013-11-01  2021-03-01   42.228588   \n3          21880     1255.5  2013-11-01  2021-03-01   42.228588   \n4          32609     1674.3  1991-08-01  2021-03-01   41.775000   \n...          ...        ...         ...         ...         ...   \n9190       30357      524.3  1998-04-01  2021-03-01   40.872910   \n9191       30295      163.7  1998-05-01  2021-03-01   40.460930   \n9192       20541       37.5  2013-08-01  2020-06-01   40.066280   \n9193       20541       37.5  2013-08-01  2020-06-01   40.066280   \n9194       20541       37.5  2013-08-01  2020-06-01   40.066280   \n\n                               name_y  datacovera                 id  \\\n0             KAUPO GAP HAWAII, HI US      1.0000  GHCND:USR0000HKAU   \n1            PUU WAAWAA HAWAII, HI US      0.9487  GHCND:USR0000HPUW   \n2        KLAMATH FALLS 0.5 NNW, OR US      1.0000  GHCND:US1ORKL0016   \n3        KLAMATH FALLS 0.5 NNW, OR US      1.0000  GHCND:US1ORKL0016   \n4     COLLINS BALDY CALIFORNIA, CA US      0.9775  GHCND:USR0000CCOL   \n...                               ...         ...                ...   \n9190           PHILIPSBURG 2 S, PA US      0.9927  GHCND:USC00366921   \n9191                DEHART DAM, PA US      0.8872  GHCND:USC00362071   \n9192         JACKSON TWP 2.2 S, NJ US      0.5904  GHCND:US1NJOC0053   \n9193         JACKSON TWP 2.2 S, NJ US      0.5904  GHCND:US1NJOC0053   \n9194         JACKSON TWP 2.2 S, NJ US      0.5904  GHCND:US1NJOC0053   \n\n     elevationU  longitud_1  distance_f  month                 date  \\\n0        METERS -156.151900    0.110925      2  2016-02-01T00:00:00   \n1        METERS -155.845300    0.050968      3  2016-03-01T00:00:00   \n2        METERS -121.774503    0.101642      8  2016-08-01T00:00:00   \n3        METERS -121.774503    0.098534      8  2016-08-01T00:00:00   \n4        METERS -122.950300    0.122218      8  2016-08-01T00:00:00   \n...         ...         ...         ...    ...                  ...   \n9190     METERS  -78.216150    0.051447      4  2016-04-01T00:00:00   \n9191     METERS  -76.748700    0.060271     11  2016-11-01T00:00:00   \n9192     METERS  -74.356980    0.138191      6  2016-06-01T00:00:00   \n9193     METERS  -74.356980    0.154536      6  2016-06-01T00:00:00   \n9194     METERS  -74.356980    0.159610      6  2016-06-01T00:00:00   \n\n                station  DP01  DP10  DP1X        DYXP  EMXP  PRCP   CDSD  \\\n0     GHCND:USR0000HKAU   NaN   NaN   NaN         NaN   NaN   NaN    0.4   \n1     GHCND:USR0000HPUW   NaN   NaN   NaN         NaN   NaN   NaN   48.9   \n2     GHCND:US1ORKL0016   1.0   0.0   0.0  20160806.0   0.3   0.3    NaN   \n3     GHCND:US1ORKL0016   1.0   0.0   0.0  20160806.0   0.3   0.3    NaN   \n4     GHCND:USR0000CCOL   NaN   NaN   NaN         NaN   NaN   NaN  235.5   \n...                 ...   ...   ...   ...         ...   ...   ...    ...   \n9190  GHCND:USC00366921  15.0   7.0   0.0  20160429.0  15.0  61.7    0.0   \n9191  GHCND:USC00362071   5.0   5.0   0.0  20161129.0  19.1  34.3  470.1   \n9192  GHCND:US1NJOC0053   9.0   5.0   1.0  20160622.0  32.8  90.2    NaN   \n9193  GHCND:US1NJOC0053   9.0   5.0   1.0  20160622.0  32.8  90.2    NaN   \n9194  GHCND:US1NJOC0053   9.0   5.0   1.0  20160622.0  32.8  90.2    NaN   \n\n       CLDD  DT00  DT32  DX32  DX70  DX90        DYNT        DYXT  EMNT  EMXT  \\\n0       0.1   0.0   0.0   0.0  15.0   0.0  20160208.0  20160227.0   7.2  23.9   \n1      23.1   0.0   0.0   0.0  31.0   0.0  20160327.0  20160328.0  13.3  27.8   \n2       NaN   NaN   NaN   NaN   NaN   NaN         NaN         NaN   NaN   NaN   \n3       NaN   NaN   NaN   NaN   NaN   NaN         NaN         NaN   NaN   NaN   \n4     119.7   0.0   0.0   0.0  31.0   3.0  20160809.0  20160819.0   8.3  35.0   \n...     ...   ...   ...   ...   ...   ...         ...         ...   ...   ...   \n9190    0.0   0.0  13.0   0.0   7.0   0.0  20160410.0  20160419.0  -7.2  26.1   \n9191    0.0   0.0  20.0   0.0   2.0   0.0  20161124.0  20161103.0  -5.0  23.3   \n9192    NaN   NaN   NaN   NaN   NaN   NaN         NaN         NaN   NaN   NaN   \n9193    NaN   NaN   NaN   NaN   NaN   NaN         NaN         NaN   NaN   NaN   \n9194    NaN   NaN   NaN   NaN   NaN   NaN         NaN         NaN   NaN   NaN   \n\n        HDSD   HTDD  TAVG  TMAX  TMIN  DSNW        DYSN  EMSN  SNOW  DSND  \\\n0      205.7   72.6  15.8  20.7  11.0   NaN         NaN   NaN   NaN   NaN   \n1       17.1    0.9  19.1  23.7  14.4   NaN         NaN   NaN   NaN   NaN   \n2        NaN    NaN   NaN   NaN   NaN   0.0  20160831.0   0.0   0.0   NaN   \n3        NaN    NaN   NaN   NaN   NaN   0.0  20160831.0   0.0   0.0   NaN   \n4       54.3   10.8  21.9  27.5  16.2   NaN         NaN   NaN   NaN   NaN   \n...      ...    ...   ...   ...   ...   ...         ...   ...   ...   ...   \n9190  2976.4  294.0   8.5  15.4   1.6   3.0  20160409.0  30.0  89.0   3.0   \n9191   556.4  354.4   6.5  13.5  -0.5   0.0  20161120.0   0.0   0.0   0.0   \n9192     NaN    NaN   NaN   NaN   NaN   NaN         NaN   NaN   NaN   NaN   \n9193     NaN    NaN   NaN   NaN   NaN   NaN         NaN   NaN   NaN   NaN   \n9194     NaN    NaN   NaN   NaN   NaN   NaN         NaN   NaN   NaN   NaN   \n\n            DYSD  EMSD                     geometry  \n0            NaN   NaN  POINT (-156.24786 20.62712)  \n1            NaN   NaN  POINT (-155.89512 19.80629)  \n2            NaN   NaN  POINT (-121.87496 42.24378)  \n3            NaN   NaN  POINT (-121.87333 42.23128)  \n4            NaN   NaN  POINT (-122.97924 41.89378)  \n...          ...   ...                          ...  \n9190  20160409.0  25.0   POINT (-78.16909 40.85211)  \n9191  20161130.0   0.0   POINT (-76.70562 40.41878)  \n9192         NaN   NaN   POINT (-74.48954 40.02711)  \n9193         NaN   NaN   POINT (-74.49944 40.00628)  \n9194         NaN   NaN   POINT (-74.50123 39.99794)  \n\n[9195 rows x 67 columns]",
      "text/html": "<div>\n<style scoped>\n    .dataframe tbody tr th:only-of-type {\n        vertical-align: middle;\n    }\n\n    .dataframe tbody tr th {\n        vertical-align: top;\n    }\n\n    .dataframe thead th {\n        text-align: right;\n    }\n</style>\n<table border=\"1\" class=\"dataframe\">\n  <thead>\n    <tr style=\"text-align: right;\">\n      <th></th>\n      <th>fire_ID</th>\n      <th>latitude_x</th>\n      <th>longitude_</th>\n      <th>size</th>\n      <th>perimeter</th>\n      <th>start_date</th>\n      <th>start_DOY</th>\n      <th>end_date</th>\n      <th>end_DOY</th>\n      <th>duration</th>\n      <th>expansion</th>\n      <th>fire_line</th>\n      <th>speed</th>\n      <th>direction</th>\n      <th>direction_</th>\n      <th>landcover</th>\n      <th>landcover_</th>\n      <th>tile_ID</th>\n      <th>pop_est</th>\n      <th>continent</th>\n      <th>name_x</th>\n      <th>iso_a3</th>\n      <th>gdp_md_est</th>\n      <th>nearest_st</th>\n      <th>elevation</th>\n      <th>mindate</th>\n      <th>maxdate</th>\n      <th>latitude_y</th>\n      <th>name_y</th>\n      <th>datacovera</th>\n      <th>id</th>\n      <th>elevationU</th>\n      <th>longitud_1</th>\n      <th>distance_f</th>\n      <th>month</th>\n      <th>date</th>\n      <th>station</th>\n      <th>DP01</th>\n      <th>DP10</th>\n      <th>DP1X</th>\n      <th>DYXP</th>\n      <th>EMXP</th>\n      <th>PRCP</th>\n      <th>CDSD</th>\n      <th>CLDD</th>\n      <th>DT00</th>\n      <th>DT32</th>\n      <th>DX32</th>\n      <th>DX70</th>\n      <th>DX90</th>\n      <th>DYNT</th>\n      <th>DYXT</th>\n      <th>EMNT</th>\n      <th>EMXT</th>\n      <th>HDSD</th>\n      <th>HTDD</th>\n      <th>TAVG</th>\n      <th>TMAX</th>\n      <th>TMIN</th>\n      <th>DSNW</th>\n      <th>DYSN</th>\n      <th>EMSN</th>\n      <th>SNOW</th>\n      <th>DSND</th>\n      <th>DYSD</th>\n      <th>EMSD</th>\n      <th>geometry</th>\n    </tr>\n  </thead>\n  <tbody>\n    <tr>\n      <th>0</th>\n      <td>4</td>\n      <td>20.6271</td>\n      <td>-156.2470</td>\n      <td>18.65</td>\n      <td>30.56</td>\n      <td>2016-02-16</td>\n      <td>47</td>\n      <td>2016-02-20</td>\n      <td>51</td>\n      <td>5</td>\n      <td>3.73</td>\n      <td>6.20</td>\n      <td>2.68</td>\n      <td>8</td>\n      <td>northwest</td>\n      <td>7</td>\n      <td>Open shrublands</td>\n      <td>h03v06</td>\n      <td>326625791</td>\n      <td>North America</td>\n      <td>United States of America</td>\n      <td>USA</td>\n      <td>18560000.0</td>\n      <td>32923</td>\n      <td>1228.3</td>\n      <td>2013-01-01</td>\n      <td>2017-03-01</td>\n      <td>20.684200</td>\n      <td>KAUPO GAP HAWAII, HI US</td>\n      <td>1.0000</td>\n      <td>GHCND:USR0000HKAU</td>\n      <td>METERS</td>\n      <td>-156.151900</td>\n      <td>0.110925</td>\n      <td>2</td>\n      <td>2016-02-01T00:00:00</td>\n      <td>GHCND:USR0000HKAU</td>\n      <td>NaN</td>\n      <td>NaN</td>\n      <td>NaN</td>\n      <td>NaN</td>\n      <td>NaN</td>\n      <td>NaN</td>\n      <td>0.4</td>\n      <td>0.1</td>\n      <td>0.0</td>\n      <td>0.0</td>\n      <td>0.0</td>\n      <td>15.0</td>\n      <td>0.0</td>\n      <td>20160208.0</td>\n      <td>20160227.0</td>\n      <td>7.2</td>\n      <td>23.9</td>\n      <td>205.7</td>\n      <td>72.6</td>\n      <td>15.8</td>\n      <td>20.7</td>\n      <td>11.0</td>\n      <td>NaN</td>\n      <td>NaN</td>\n      <td>NaN</td>\n      <td>NaN</td>\n      <td>NaN</td>\n      <td>NaN</td>\n      <td>NaN</td>\n      <td>POINT (-156.24786 20.62712)</td>\n    </tr>\n    <tr>\n      <th>1</th>\n      <td>5</td>\n      <td>19.8063</td>\n      <td>-155.8950</td>\n      <td>7.72</td>\n      <td>12.96</td>\n      <td>2016-03-20</td>\n      <td>80</td>\n      <td>2016-03-25</td>\n      <td>85</td>\n      <td>6</td>\n      <td>1.29</td>\n      <td>2.47</td>\n      <td>1.39</td>\n      <td>4</td>\n      <td>southeast</td>\n      <td>7</td>\n      <td>Open shrublands</td>\n      <td>h03v07</td>\n      <td>326625791</td>\n      <td>North America</td>\n      <td>United States of America</td>\n      <td>USA</td>\n      <td>18560000.0</td>\n      <td>32941</td>\n      <td>709.0</td>\n      <td>2003-05-01</td>\n      <td>2021-03-01</td>\n      <td>19.795000</td>\n      <td>PUU WAAWAA HAWAII, HI US</td>\n      <td>0.9487</td>\n      <td>GHCND:USR0000HPUW</td>\n      <td>METERS</td>\n      <td>-155.845300</td>\n      <td>0.050968</td>\n      <td>3</td>\n      <td>2016-03-01T00:00:00</td>\n      <td>GHCND:USR0000HPUW</td>\n      <td>NaN</td>\n      <td>NaN</td>\n      <td>NaN</td>\n      <td>NaN</td>\n      <td>NaN</td>\n      <td>NaN</td>\n      <td>48.9</td>\n      <td>23.1</td>\n      <td>0.0</td>\n      <td>0.0</td>\n      <td>0.0</td>\n      <td>31.0</td>\n      <td>0.0</td>\n      <td>20160327.0</td>\n      <td>20160328.0</td>\n      <td>13.3</td>\n      <td>27.8</td>\n      <td>17.1</td>\n      <td>0.9</td>\n      <td>19.1</td>\n      <td>23.7</td>\n      <td>14.4</td>\n      <td>NaN</td>\n      <td>NaN</td>\n      <td>NaN</td>\n      <td>NaN</td>\n      <td>NaN</td>\n      <td>NaN</td>\n      <td>NaN</td>\n      <td>POINT (-155.89512 19.80629)</td>\n    </tr>\n    <tr>\n      <th>2</th>\n      <td>6</td>\n      <td>42.2438</td>\n      <td>-121.8750</td>\n      <td>0.86</td>\n      <td>5.56</td>\n      <td>2016-08-09</td>\n      <td>222</td>\n      <td>2016-08-09</td>\n      <td>222</td>\n      <td>1</td>\n      <td>0.86</td>\n      <td>1.85</td>\n      <td>0.79</td>\n      <td>0</td>\n      <td>none</td>\n      <td>12</td>\n      <td>Croplands</td>\n      <td>h08v04</td>\n      <td>326625791</td>\n      <td>North America</td>\n      <td>United States of America</td>\n      <td>USA</td>\n      <td>18560000.0</td>\n      <td>21880</td>\n      <td>1255.5</td>\n      <td>2013-11-01</td>\n      <td>2021-03-01</td>\n      <td>42.228588</td>\n      <td>KLAMATH FALLS 0.5 NNW, OR US</td>\n      <td>1.0000</td>\n      <td>GHCND:US1ORKL0016</td>\n      <td>METERS</td>\n      <td>-121.774503</td>\n      <td>0.101642</td>\n      <td>8</td>\n      <td>2016-08-01T00:00:00</td>\n      <td>GHCND:US1ORKL0016</td>\n      <td>1.0</td>\n      <td>0.0</td>\n      <td>0.0</td>\n      <td>20160806.0</td>\n      <td>0.3</td>\n      <td>0.3</td>\n      <td>NaN</td>\n      <td>NaN</td>\n      <td>NaN</td>\n      <td>NaN</td>\n      <td>NaN</td>\n      <td>NaN</td>\n      <td>NaN</td>\n      <td>NaN</td>\n      <td>NaN</td>\n      <td>NaN</td>\n      <td>NaN</td>\n      <td>NaN</td>\n      <td>NaN</td>\n      <td>NaN</td>\n      <td>NaN</td>\n      <td>NaN</td>\n      <td>0.0</td>\n      <td>20160831.0</td>\n      <td>0.0</td>\n      <td>0.0</td>\n      <td>NaN</td>\n      <td>NaN</td>\n      <td>NaN</td>\n      <td>POINT (-121.87496 42.24378)</td>\n    </tr>\n    <tr>\n      <th>3</th>\n      <td>7</td>\n      <td>42.2313</td>\n      <td>-121.8730</td>\n      <td>0.64</td>\n      <td>4.63</td>\n      <td>2016-08-16</td>\n      <td>229</td>\n      <td>2016-08-18</td>\n      <td>231</td>\n      <td>3</td>\n      <td>0.21</td>\n      <td>0.46</td>\n      <td>0.49</td>\n      <td>4</td>\n      <td>southeast</td>\n      <td>12</td>\n      <td>Croplands</td>\n      <td>h08v04</td>\n      <td>326625791</td>\n      <td>North America</td>\n      <td>United States of America</td>\n      <td>USA</td>\n      <td>18560000.0</td>\n      <td>21880</td>\n      <td>1255.5</td>\n      <td>2013-11-01</td>\n      <td>2021-03-01</td>\n      <td>42.228588</td>\n      <td>KLAMATH FALLS 0.5 NNW, OR US</td>\n      <td>1.0000</td>\n      <td>GHCND:US1ORKL0016</td>\n      <td>METERS</td>\n      <td>-121.774503</td>\n      <td>0.098534</td>\n      <td>8</td>\n      <td>2016-08-01T00:00:00</td>\n      <td>GHCND:US1ORKL0016</td>\n      <td>1.0</td>\n      <td>0.0</td>\n      <td>0.0</td>\n      <td>20160806.0</td>\n      <td>0.3</td>\n      <td>0.3</td>\n      <td>NaN</td>\n      <td>NaN</td>\n      <td>NaN</td>\n      <td>NaN</td>\n      <td>NaN</td>\n      <td>NaN</td>\n      <td>NaN</td>\n      <td>NaN</td>\n      <td>NaN</td>\n      <td>NaN</td>\n      <td>NaN</td>\n      <td>NaN</td>\n      <td>NaN</td>\n      <td>NaN</td>\n      <td>NaN</td>\n      <td>NaN</td>\n      <td>0.0</td>\n      <td>20160831.0</td>\n      <td>0.0</td>\n      <td>0.0</td>\n      <td>NaN</td>\n      <td>NaN</td>\n      <td>NaN</td>\n      <td>POINT (-121.87333 42.23128)</td>\n    </tr>\n    <tr>\n      <th>4</th>\n      <td>8</td>\n      <td>41.8938</td>\n      <td>-122.9790</td>\n      <td>20.37</td>\n      <td>40.74</td>\n      <td>2016-08-28</td>\n      <td>241</td>\n      <td>2016-09-12</td>\n      <td>256</td>\n      <td>16</td>\n      <td>1.27</td>\n      <td>2.66</td>\n      <td>1.49</td>\n      <td>8</td>\n      <td>northwest</td>\n      <td>1</td>\n      <td>Evergreen Needleleaf forest</td>\n      <td>h08v04</td>\n      <td>326625791</td>\n      <td>North America</td>\n      <td>United States of America</td>\n      <td>USA</td>\n      <td>18560000.0</td>\n      <td>32609</td>\n      <td>1674.3</td>\n      <td>1991-08-01</td>\n      <td>2021-03-01</td>\n      <td>41.775000</td>\n      <td>COLLINS BALDY CALIFORNIA, CA US</td>\n      <td>0.9775</td>\n      <td>GHCND:USR0000CCOL</td>\n      <td>METERS</td>\n      <td>-122.950300</td>\n      <td>0.122218</td>\n      <td>8</td>\n      <td>2016-08-01T00:00:00</td>\n      <td>GHCND:USR0000CCOL</td>\n      <td>NaN</td>\n      <td>NaN</td>\n      <td>NaN</td>\n      <td>NaN</td>\n      <td>NaN</td>\n      <td>NaN</td>\n      <td>235.5</td>\n      <td>119.7</td>\n      <td>0.0</td>\n      <td>0.0</td>\n      <td>0.0</td>\n      <td>31.0</td>\n      <td>3.0</td>\n      <td>20160809.0</td>\n      <td>20160819.0</td>\n      <td>8.3</td>\n      <td>35.0</td>\n      <td>54.3</td>\n      <td>10.8</td>\n      <td>21.9</td>\n      <td>27.5</td>\n      <td>16.2</td>\n      <td>NaN</td>\n      <td>NaN</td>\n      <td>NaN</td>\n      <td>NaN</td>\n      <td>NaN</td>\n      <td>NaN</td>\n      <td>NaN</td>\n      <td>POINT (-122.97924 41.89378)</td>\n    </tr>\n    <tr>\n      <th>...</th>\n      <td>...</td>\n      <td>...</td>\n      <td>...</td>\n      <td>...</td>\n      <td>...</td>\n      <td>...</td>\n      <td>...</td>\n      <td>...</td>\n      <td>...</td>\n      <td>...</td>\n      <td>...</td>\n      <td>...</td>\n      <td>...</td>\n      <td>...</td>\n      <td>...</td>\n      <td>...</td>\n      <td>...</td>\n      <td>...</td>\n      <td>...</td>\n      <td>...</td>\n      <td>...</td>\n      <td>...</td>\n      <td>...</td>\n      <td>...</td>\n      <td>...</td>\n      <td>...</td>\n      <td>...</td>\n      <td>...</td>\n      <td>...</td>\n      <td>...</td>\n      <td>...</td>\n      <td>...</td>\n      <td>...</td>\n      <td>...</td>\n      <td>...</td>\n      <td>...</td>\n      <td>...</td>\n      <td>...</td>\n      <td>...</td>\n      <td>...</td>\n      <td>...</td>\n      <td>...</td>\n      <td>...</td>\n      <td>...</td>\n      <td>...</td>\n      <td>...</td>\n      <td>...</td>\n      <td>...</td>\n      <td>...</td>\n      <td>...</td>\n      <td>...</td>\n      <td>...</td>\n      <td>...</td>\n      <td>...</td>\n      <td>...</td>\n      <td>...</td>\n      <td>...</td>\n      <td>...</td>\n      <td>...</td>\n      <td>...</td>\n      <td>...</td>\n      <td>...</td>\n      <td>...</td>\n      <td>...</td>\n      <td>...</td>\n      <td>...</td>\n      <td>...</td>\n    </tr>\n    <tr>\n      <th>9190</th>\n      <td>56789</td>\n      <td>40.8521</td>\n      <td>-78.1691</td>\n      <td>0.43</td>\n      <td>2.78</td>\n      <td>2016-04-14</td>\n      <td>105</td>\n      <td>2016-04-14</td>\n      <td>105</td>\n      <td>1</td>\n      <td>0.43</td>\n      <td>0.93</td>\n      <td>0.46</td>\n      <td>0</td>\n      <td>none</td>\n      <td>4</td>\n      <td>Deciduous Broadleaf forest</td>\n      <td>h12v04</td>\n      <td>326625791</td>\n      <td>North America</td>\n      <td>United States of America</td>\n      <td>USA</td>\n      <td>18560000.0</td>\n      <td>30357</td>\n      <td>524.3</td>\n      <td>1998-04-01</td>\n      <td>2021-03-01</td>\n      <td>40.872910</td>\n      <td>PHILIPSBURG 2 S, PA US</td>\n      <td>0.9927</td>\n      <td>GHCND:USC00366921</td>\n      <td>METERS</td>\n      <td>-78.216150</td>\n      <td>0.051447</td>\n      <td>4</td>\n      <td>2016-04-01T00:00:00</td>\n      <td>GHCND:USC00366921</td>\n      <td>15.0</td>\n      <td>7.0</td>\n      <td>0.0</td>\n      <td>20160429.0</td>\n      <td>15.0</td>\n      <td>61.7</td>\n      <td>0.0</td>\n      <td>0.0</td>\n      <td>0.0</td>\n      <td>13.0</td>\n      <td>0.0</td>\n      <td>7.0</td>\n      <td>0.0</td>\n      <td>20160410.0</td>\n      <td>20160419.0</td>\n      <td>-7.2</td>\n      <td>26.1</td>\n      <td>2976.4</td>\n      <td>294.0</td>\n      <td>8.5</td>\n      <td>15.4</td>\n      <td>1.6</td>\n      <td>3.0</td>\n      <td>20160409.0</td>\n      <td>30.0</td>\n      <td>89.0</td>\n      <td>3.0</td>\n      <td>20160409.0</td>\n      <td>25.0</td>\n      <td>POINT (-78.16909 40.85211)</td>\n    </tr>\n    <tr>\n      <th>9191</th>\n      <td>56790</td>\n      <td>40.4188</td>\n      <td>-76.7056</td>\n      <td>0.64</td>\n      <td>3.70</td>\n      <td>2015-11-14</td>\n      <td>318</td>\n      <td>2015-11-14</td>\n      <td>318</td>\n      <td>1</td>\n      <td>0.64</td>\n      <td>1.39</td>\n      <td>0.64</td>\n      <td>0</td>\n      <td>none</td>\n      <td>5</td>\n      <td>Mixed forest</td>\n      <td>h12v04</td>\n      <td>326625791</td>\n      <td>North America</td>\n      <td>United States of America</td>\n      <td>USA</td>\n      <td>18560000.0</td>\n      <td>30295</td>\n      <td>163.7</td>\n      <td>1998-05-01</td>\n      <td>2021-03-01</td>\n      <td>40.460930</td>\n      <td>DEHART DAM, PA US</td>\n      <td>0.8872</td>\n      <td>GHCND:USC00362071</td>\n      <td>METERS</td>\n      <td>-76.748700</td>\n      <td>0.060271</td>\n      <td>11</td>\n      <td>2016-11-01T00:00:00</td>\n      <td>GHCND:USC00362071</td>\n      <td>5.0</td>\n      <td>5.0</td>\n      <td>0.0</td>\n      <td>20161129.0</td>\n      <td>19.1</td>\n      <td>34.3</td>\n      <td>470.1</td>\n      <td>0.0</td>\n      <td>0.0</td>\n      <td>20.0</td>\n      <td>0.0</td>\n      <td>2.0</td>\n      <td>0.0</td>\n      <td>20161124.0</td>\n      <td>20161103.0</td>\n      <td>-5.0</td>\n      <td>23.3</td>\n      <td>556.4</td>\n      <td>354.4</td>\n      <td>6.5</td>\n      <td>13.5</td>\n      <td>-0.5</td>\n      <td>0.0</td>\n      <td>20161120.0</td>\n      <td>0.0</td>\n      <td>0.0</td>\n      <td>0.0</td>\n      <td>20161130.0</td>\n      <td>0.0</td>\n      <td>POINT (-76.70562 40.41878)</td>\n    </tr>\n    <tr>\n      <th>9192</th>\n      <td>56791</td>\n      <td>40.0271</td>\n      <td>-74.4895</td>\n      <td>0.86</td>\n      <td>4.63</td>\n      <td>2016-06-26</td>\n      <td>178</td>\n      <td>2016-07-04</td>\n      <td>186</td>\n      <td>9</td>\n      <td>0.10</td>\n      <td>0.21</td>\n      <td>0.41</td>\n      <td>7</td>\n      <td>west</td>\n      <td>4</td>\n      <td>Deciduous Broadleaf forest</td>\n      <td>h12v04</td>\n      <td>326625791</td>\n      <td>North America</td>\n      <td>United States of America</td>\n      <td>USA</td>\n      <td>18560000.0</td>\n      <td>20541</td>\n      <td>37.5</td>\n      <td>2013-08-01</td>\n      <td>2020-06-01</td>\n      <td>40.066280</td>\n      <td>JACKSON TWP 2.2 S, NJ US</td>\n      <td>0.5904</td>\n      <td>GHCND:US1NJOC0053</td>\n      <td>METERS</td>\n      <td>-74.356980</td>\n      <td>0.138191</td>\n      <td>6</td>\n      <td>2016-06-01T00:00:00</td>\n      <td>GHCND:US1NJOC0053</td>\n      <td>9.0</td>\n      <td>5.0</td>\n      <td>1.0</td>\n      <td>20160622.0</td>\n      <td>32.8</td>\n      <td>90.2</td>\n      <td>NaN</td>\n      <td>NaN</td>\n      <td>NaN</td>\n      <td>NaN</td>\n      <td>NaN</td>\n      <td>NaN</td>\n      <td>NaN</td>\n      <td>NaN</td>\n      <td>NaN</td>\n      <td>NaN</td>\n      <td>NaN</td>\n      <td>NaN</td>\n      <td>NaN</td>\n      <td>NaN</td>\n      <td>NaN</td>\n      <td>NaN</td>\n      <td>NaN</td>\n      <td>NaN</td>\n      <td>NaN</td>\n      <td>NaN</td>\n      <td>NaN</td>\n      <td>NaN</td>\n      <td>NaN</td>\n      <td>POINT (-74.48954 40.02711)</td>\n    </tr>\n    <tr>\n      <th>9193</th>\n      <td>56792</td>\n      <td>40.0063</td>\n      <td>-74.4994</td>\n      <td>3.00</td>\n      <td>9.26</td>\n      <td>2016-06-13</td>\n      <td>165</td>\n      <td>2016-06-19</td>\n      <td>171</td>\n      <td>7</td>\n      <td>0.43</td>\n      <td>0.93</td>\n      <td>0.84</td>\n      <td>7</td>\n      <td>west</td>\n      <td>5</td>\n      <td>Mixed forest</td>\n      <td>h12v04</td>\n      <td>326625791</td>\n      <td>North America</td>\n      <td>United States of America</td>\n      <td>USA</td>\n      <td>18560000.0</td>\n      <td>20541</td>\n      <td>37.5</td>\n      <td>2013-08-01</td>\n      <td>2020-06-01</td>\n      <td>40.066280</td>\n      <td>JACKSON TWP 2.2 S, NJ US</td>\n      <td>0.5904</td>\n      <td>GHCND:US1NJOC0053</td>\n      <td>METERS</td>\n      <td>-74.356980</td>\n      <td>0.154536</td>\n      <td>6</td>\n      <td>2016-06-01T00:00:00</td>\n      <td>GHCND:US1NJOC0053</td>\n      <td>9.0</td>\n      <td>5.0</td>\n      <td>1.0</td>\n      <td>20160622.0</td>\n      <td>32.8</td>\n      <td>90.2</td>\n      <td>NaN</td>\n      <td>NaN</td>\n      <td>NaN</td>\n      <td>NaN</td>\n      <td>NaN</td>\n      <td>NaN</td>\n      <td>NaN</td>\n      <td>NaN</td>\n      <td>NaN</td>\n      <td>NaN</td>\n      <td>NaN</td>\n      <td>NaN</td>\n      <td>NaN</td>\n      <td>NaN</td>\n      <td>NaN</td>\n      <td>NaN</td>\n      <td>NaN</td>\n      <td>NaN</td>\n      <td>NaN</td>\n      <td>NaN</td>\n      <td>NaN</td>\n      <td>NaN</td>\n      <td>NaN</td>\n      <td>POINT (-74.49944 40.00628)</td>\n    </tr>\n    <tr>\n      <th>9194</th>\n      <td>56793</td>\n      <td>39.9979</td>\n      <td>-74.5012</td>\n      <td>3.86</td>\n      <td>12.04</td>\n      <td>2016-06-14</td>\n      <td>166</td>\n      <td>2016-06-21</td>\n      <td>173</td>\n      <td>8</td>\n      <td>0.48</td>\n      <td>0.93</td>\n      <td>1.53</td>\n      <td>5</td>\n      <td>south</td>\n      <td>5</td>\n      <td>Mixed forest</td>\n      <td>h12v05</td>\n      <td>326625791</td>\n      <td>North America</td>\n      <td>United States of America</td>\n      <td>USA</td>\n      <td>18560000.0</td>\n      <td>20541</td>\n      <td>37.5</td>\n      <td>2013-08-01</td>\n      <td>2020-06-01</td>\n      <td>40.066280</td>\n      <td>JACKSON TWP 2.2 S, NJ US</td>\n      <td>0.5904</td>\n      <td>GHCND:US1NJOC0053</td>\n      <td>METERS</td>\n      <td>-74.356980</td>\n      <td>0.159610</td>\n      <td>6</td>\n      <td>2016-06-01T00:00:00</td>\n      <td>GHCND:US1NJOC0053</td>\n      <td>9.0</td>\n      <td>5.0</td>\n      <td>1.0</td>\n      <td>20160622.0</td>\n      <td>32.8</td>\n      <td>90.2</td>\n      <td>NaN</td>\n      <td>NaN</td>\n      <td>NaN</td>\n      <td>NaN</td>\n      <td>NaN</td>\n      <td>NaN</td>\n      <td>NaN</td>\n      <td>NaN</td>\n      <td>NaN</td>\n      <td>NaN</td>\n      <td>NaN</td>\n      <td>NaN</td>\n      <td>NaN</td>\n      <td>NaN</td>\n      <td>NaN</td>\n      <td>NaN</td>\n      <td>NaN</td>\n      <td>NaN</td>\n      <td>NaN</td>\n      <td>NaN</td>\n      <td>NaN</td>\n      <td>NaN</td>\n      <td>NaN</td>\n      <td>POINT (-74.50123 39.99794)</td>\n    </tr>\n  </tbody>\n</table>\n<p>9195 rows × 67 columns</p>\n</div>"
     },
     "metadata": {},
     "output_type": "display_data"
    }
   ],
   "source": [
    "d_high = gpd.read_file(\"data/low_n_high_d.shp\")\n",
    "d_med = gpd.read_file(\"data/med_n_med_d.shp\")\n",
    "d_low = gpd.read_file(\"data/high_n_low_d.shp\")\n",
    "with pd.option_context('display.max_columns', None):  # more options can be specified also\n",
    "    display(d_high)"
   ],
   "metadata": {
    "collapsed": false,
    "pycharm": {
     "name": "#%%\n"
    }
   }
  },
  {
   "cell_type": "code",
   "execution_count": 3,
   "outputs": [
    {
     "data": {
      "text/plain": "Index(['fire_ID', 'latitude_x', 'longitude_', 'size', 'perimeter',\n       'start_date', 'start_DOY', 'end_date', 'end_DOY', 'duration',\n       'expansion', 'fire_line', 'speed', 'direction', 'direction_',\n       'landcover', 'landcover_', 'tile_ID', 'pop_est', 'continent', 'name_x',\n       'iso_a3', 'gdp_md_est', 'nearest_st', 'elevation', 'mindate', 'maxdate',\n       'latitude_y', 'name_y', 'datacovera', 'id', 'elevationU', 'longitud_1',\n       'distance_f', 'month', 'date', 'station', 'DP01', 'DP10', 'DP1X',\n       'DYXP', 'EMXP', 'PRCP', 'CDSD', 'CLDD', 'DT00', 'DT32', 'DX32', 'DX70',\n       'DX90', 'DYNT', 'DYXT', 'EMNT', 'EMXT', 'HDSD', 'HTDD', 'TAVG', 'TMAX',\n       'TMIN', 'DSNW', 'DYSN', 'EMSN', 'SNOW', 'DSND', 'DYSD', 'EMSD',\n       'geometry'],\n      dtype='object')"
     },
     "execution_count": 3,
     "metadata": {},
     "output_type": "execute_result"
    }
   ],
   "source": [
    "d_high.columns"
   ],
   "metadata": {
    "collapsed": false,
    "pycharm": {
     "name": "#%%\n"
    }
   }
  },
  {
   "cell_type": "code",
   "execution_count": 4,
   "outputs": [
    {
     "name": "stdout",
     "output_type": "stream",
     "text": [
      "(1414, 42) (4298, 33) (7672, 19)\n"
     ]
    }
   ],
   "source": [
    "exclusions = ['fire_ID',        # exclude as irrelevant index information\n",
    "                'start_date',   # exclude as duplicate of start_DOY\n",
    "                'end_date',     # exclude as duplicate of end_DOY\n",
    "                'duration',     # exclude as duplicate of start/end DOY\n",
    "                'direction',    # exclude as duplicate of direction_string\n",
    "                'landcover',    # exclude as duplicate of landcover_string\n",
    "                'tile_ID',      # exclude as irrelevant MODIS information\n",
    "                'pop_est',      # exclude as irrelevant (all US data)\n",
    "                'continent',    # exclude as irrelevant (all US data)\n",
    "                'name_x',       # exclude as irrelevant (all US data)\n",
    "                'iso_a3',       # exclude as irrelevant (all US data)\n",
    "                'gdp_md_est',   # exclude as irrelevant (all US data)\n",
    "                'nearest_st',   # exclude as irrelevant weather station info\n",
    "                'mindate',      # exclude as irrelevant weather station info\n",
    "                'maxdate',      # exclude as irrelevant weather station info\n",
    "                'latitude_y',   # exclude as duplicate of latitude from first DF\n",
    "                'longitud_1',   # exclude as duplicate of longitude from first DF\n",
    "                'name_y',       # exclude as duplicate of end_DOY\n",
    "                'datacovera',   # exclude as irrelevant weather station info\n",
    "                'id',           # exclude as irrelevant weather station info\n",
    "                'elevationU',   # exclude as irrelevant weather station info\n",
    "                'month',        # exclude as duplicate of start/end DOY\n",
    "                'date',         # exclude as duplicate of start/end DOY\n",
    "                'station',      # exclude as irrelevant weather station info\n",
    "                'geometry',     # exclude as duplicate of lat/lon from first DF\n",
    "]\n",
    "X_high = d_high.drop(exclusions, axis=1).dropna()\n",
    "X_med = d_med.drop(exclusions, axis=1).dropna()\n",
    "X_low = d_low.drop(exclusions, axis=1).dropna()\n",
    "print(X_high.shape, X_med.shape, X_low.shape)"
   ],
   "metadata": {
    "collapsed": false,
    "pycharm": {
     "name": "#%%\n"
    }
   }
  },
  {
   "cell_type": "code",
   "execution_count": 5,
   "outputs": [
    {
     "name": "stdout",
     "output_type": "stream",
     "text": [
      "(1414, 40) (4298, 31) (7672, 17)\n",
      "(1414, 2) (4298, 2) (7672, 2)\n"
     ]
    }
   ],
   "source": [
    "targets = ['size', 'perimeter']\n",
    "X_high, y_high = X_high.drop(targets, axis=1), X_high[targets]\n",
    "X_med, y_med = X_med.drop(targets, axis=1), X_med[targets]\n",
    "X_low, y_low = X_low.drop(targets, axis=1), X_low[targets]\n",
    "print(X_high.shape, X_med.shape, X_low.shape)\n",
    "print(y_high.shape, y_med.shape, y_low.shape)"
   ],
   "metadata": {
    "collapsed": false,
    "pycharm": {
     "name": "#%%\n"
    }
   }
  },
  {
   "cell_type": "code",
   "execution_count": 6,
   "outputs": [],
   "source": [
    "for X in [X_high, X_med, X_low]:\n",
    "\n",
    "    # convert date columns to day-of-year integer\n",
    "    for feature in [\"DYNT\", \"DYSD\", \"DYSN\", \"DYXP\", \"DYXT\"]:\n",
    "        if feature in X.columns:\n",
    "            X[feature] = X[feature].astype(int).astype(str).str[4:]\n",
    "            X[feature] = 30 * X[feature].str[:2].astype(int) + (\"0\" + X[feature].str[2:]).astype(int)"
   ],
   "metadata": {
    "collapsed": false,
    "pycharm": {
     "name": "#%%\n"
    }
   }
  },
  {
   "cell_type": "code",
   "execution_count": 7,
   "outputs": [],
   "source": [
    "X_high.to_csv(\"data/X_H.csv\", index=False)\n",
    "y_high.to_csv(\"data/y_H.csv\", index=False)\n",
    "\n",
    "X_med.to_csv(\"data/X_M.csv\", index=False)\n",
    "y_med.to_csv(\"data/y_M.csv\", index=False)\n",
    "\n",
    "X_low.to_csv(\"data/X_L.csv\", index=False)\n",
    "y_low.to_csv(\"data/y_L.csv\", index=False)\n"
   ],
   "metadata": {
    "collapsed": false,
    "pycharm": {
     "name": "#%%\n"
    }
   }
  }
 ],
 "metadata": {
  "kernelspec": {
   "display_name": "Python 3",
   "language": "python",
   "name": "python3"
  },
  "language_info": {
   "codemirror_mode": {
    "name": "ipython",
    "version": 2
   },
   "file_extension": ".py",
   "mimetype": "text/x-python",
   "name": "python",
   "nbconvert_exporter": "python",
   "pygments_lexer": "ipython2",
   "version": "2.7.6"
  }
 },
 "nbformat": 4,
 "nbformat_minor": 0
}