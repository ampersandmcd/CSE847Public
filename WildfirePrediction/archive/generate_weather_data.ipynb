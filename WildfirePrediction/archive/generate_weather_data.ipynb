{
 "cells": [
  {
   "cell_type": "markdown",
   "source": [
    "# Weather Data Scraping\n",
    "#### Fire Atlas Dataset\n",
    "Andrew McDonald // CSE 847 // April 2021"
   ],
   "metadata": {
    "collapsed": false,
    "pycharm": {
     "name": "#%% md\n"
    }
   }
  },
  {
   "cell_type": "code",
   "execution_count": 1,
   "outputs": [],
   "source": [
    "import requests\n",
    "import urllib\n",
    "import json\n",
    "from datetime import datetime\n",
    "\n",
    "import numpy as np\n",
    "import pandas as pd\n",
    "import geopandas as gpd\n",
    "import matplotlib.pyplot as plt"
   ],
   "metadata": {
    "collapsed": false,
    "pycharm": {
     "name": "#%%\n"
    }
   }
  },
  {
   "cell_type": "code",
   "execution_count": 2,
   "outputs": [
    {
     "data": {
      "text/plain": "       fire_ID  latitude_x  longitude_   size  perimeter  start_date  \\\n0            1     20.8438   -156.4130   0.86       4.63  2016-10-26   \n1            2     20.8396   -156.4180   1.50       6.48  2016-10-28   \n2            3     20.8105   -156.4370   0.43       2.78  2016-11-29   \n3            4     20.6271   -156.2470  18.65      30.56  2016-02-16   \n4            5     19.8063   -155.8950   7.72      12.96  2016-03-20   \n...        ...         ...         ...    ...        ...         ...   \n11519    56789     40.8521    -78.1691   0.43       2.78  2016-04-14   \n11520    56790     40.4188    -76.7056   0.64       3.70  2015-11-14   \n11521    56791     40.0271    -74.4895   0.86       4.63  2016-06-26   \n11522    56792     40.0063    -74.4994   3.00       9.26  2016-06-13   \n11523    56793     39.9979    -74.5012   3.86      12.04  2016-06-14   \n\n       start_DOY    end_date  end_DOY  duration  ...     mindate     maxdate  \\\n0            300  2016-11-02      307         8  ...  1949-10-01  2016-10-01   \n1            302  2016-11-02      307         6  ...  1949-10-01  2016-10-01   \n2            334  2016-11-29      334         1  ...  1905-01-01  2016-10-01   \n3             47  2016-02-20       51         5  ...  2013-01-01  2017-03-01   \n4             80  2016-03-25       85         6  ...  2003-05-01  2021-03-01   \n...          ...         ...      ...       ...  ...         ...         ...   \n11519        105  2016-04-14      105         1  ...  1998-04-01  2021-03-01   \n11520        318  2015-11-14      318         1  ...  1998-05-01  2021-03-01   \n11521        178  2016-07-04      186         9  ...  2013-08-01  2020-06-01   \n11522        165  2016-06-19      171         7  ...  2013-08-01  2020-06-01   \n11523        166  2016-06-21      173         8  ...  2013-08-01  2020-06-01   \n\n       latitude_y                    name_y datacovera                 id  \\\n0        20.85710        PUUNENE 396, HI US     0.9875  GHCND:USC00518543   \n1        20.85710        PUUNENE 396, HI US     0.9875  GHCND:USC00518543   \n2        20.79120          KIHEI 311, HI US     0.6364  GHCND:USC00514489   \n3        20.68420   KAUPO GAP HAWAII, HI US     1.0000  GHCND:USR0000HKAU   \n4        19.79500  PUU WAAWAA HAWAII, HI US     0.9487  GHCND:USR0000HPUW   \n...           ...                       ...        ...                ...   \n11519    40.87291    PHILIPSBURG 2 S, PA US     0.9927  GHCND:USC00366921   \n11520    40.46093         DEHART DAM, PA US     0.8872  GHCND:USC00362071   \n11521    40.06628  JACKSON TWP 2.2 S, NJ US     0.5904  GHCND:US1NJOC0053   \n11522    40.06628  JACKSON TWP 2.2 S, NJ US     0.5904  GHCND:US1NJOC0053   \n11523    40.06628  JACKSON TWP 2.2 S, NJ US     0.5904  GHCND:US1NJOC0053   \n\n      elevationU longitud_1  distance_f                     geometry  \n0         METERS -156.43130    0.022623  POINT (-156.41374 20.84379)  \n1         METERS -156.43130    0.021980  POINT (-156.41833 20.83962)  \n2         METERS -156.44210    0.019962  POINT (-156.43708 20.81045)  \n3         METERS -156.15190    0.110925  POINT (-156.24786 20.62712)  \n4         METERS -155.84530    0.050968  POINT (-155.89512 19.80629)  \n...          ...        ...         ...                          ...  \n11519     METERS  -78.21615    0.051447   POINT (-78.16909 40.85211)  \n11520     METERS  -76.74870    0.060271   POINT (-76.70562 40.41878)  \n11521     METERS  -74.35698    0.138191   POINT (-74.48954 40.02711)  \n11522     METERS  -74.35698    0.154536   POINT (-74.49944 40.00628)  \n11523     METERS  -74.35698    0.159610   POINT (-74.50123 39.99794)  \n\n[11524 rows x 35 columns]",
      "text/html": "<div>\n<style scoped>\n    .dataframe tbody tr th:only-of-type {\n        vertical-align: middle;\n    }\n\n    .dataframe tbody tr th {\n        vertical-align: top;\n    }\n\n    .dataframe thead th {\n        text-align: right;\n    }\n</style>\n<table border=\"1\" class=\"dataframe\">\n  <thead>\n    <tr style=\"text-align: right;\">\n      <th></th>\n      <th>fire_ID</th>\n      <th>latitude_x</th>\n      <th>longitude_</th>\n      <th>size</th>\n      <th>perimeter</th>\n      <th>start_date</th>\n      <th>start_DOY</th>\n      <th>end_date</th>\n      <th>end_DOY</th>\n      <th>duration</th>\n      <th>...</th>\n      <th>mindate</th>\n      <th>maxdate</th>\n      <th>latitude_y</th>\n      <th>name_y</th>\n      <th>datacovera</th>\n      <th>id</th>\n      <th>elevationU</th>\n      <th>longitud_1</th>\n      <th>distance_f</th>\n      <th>geometry</th>\n    </tr>\n  </thead>\n  <tbody>\n    <tr>\n      <th>0</th>\n      <td>1</td>\n      <td>20.8438</td>\n      <td>-156.4130</td>\n      <td>0.86</td>\n      <td>4.63</td>\n      <td>2016-10-26</td>\n      <td>300</td>\n      <td>2016-11-02</td>\n      <td>307</td>\n      <td>8</td>\n      <td>...</td>\n      <td>1949-10-01</td>\n      <td>2016-10-01</td>\n      <td>20.85710</td>\n      <td>PUUNENE 396, HI US</td>\n      <td>0.9875</td>\n      <td>GHCND:USC00518543</td>\n      <td>METERS</td>\n      <td>-156.43130</td>\n      <td>0.022623</td>\n      <td>POINT (-156.41374 20.84379)</td>\n    </tr>\n    <tr>\n      <th>1</th>\n      <td>2</td>\n      <td>20.8396</td>\n      <td>-156.4180</td>\n      <td>1.50</td>\n      <td>6.48</td>\n      <td>2016-10-28</td>\n      <td>302</td>\n      <td>2016-11-02</td>\n      <td>307</td>\n      <td>6</td>\n      <td>...</td>\n      <td>1949-10-01</td>\n      <td>2016-10-01</td>\n      <td>20.85710</td>\n      <td>PUUNENE 396, HI US</td>\n      <td>0.9875</td>\n      <td>GHCND:USC00518543</td>\n      <td>METERS</td>\n      <td>-156.43130</td>\n      <td>0.021980</td>\n      <td>POINT (-156.41833 20.83962)</td>\n    </tr>\n    <tr>\n      <th>2</th>\n      <td>3</td>\n      <td>20.8105</td>\n      <td>-156.4370</td>\n      <td>0.43</td>\n      <td>2.78</td>\n      <td>2016-11-29</td>\n      <td>334</td>\n      <td>2016-11-29</td>\n      <td>334</td>\n      <td>1</td>\n      <td>...</td>\n      <td>1905-01-01</td>\n      <td>2016-10-01</td>\n      <td>20.79120</td>\n      <td>KIHEI 311, HI US</td>\n      <td>0.6364</td>\n      <td>GHCND:USC00514489</td>\n      <td>METERS</td>\n      <td>-156.44210</td>\n      <td>0.019962</td>\n      <td>POINT (-156.43708 20.81045)</td>\n    </tr>\n    <tr>\n      <th>3</th>\n      <td>4</td>\n      <td>20.6271</td>\n      <td>-156.2470</td>\n      <td>18.65</td>\n      <td>30.56</td>\n      <td>2016-02-16</td>\n      <td>47</td>\n      <td>2016-02-20</td>\n      <td>51</td>\n      <td>5</td>\n      <td>...</td>\n      <td>2013-01-01</td>\n      <td>2017-03-01</td>\n      <td>20.68420</td>\n      <td>KAUPO GAP HAWAII, HI US</td>\n      <td>1.0000</td>\n      <td>GHCND:USR0000HKAU</td>\n      <td>METERS</td>\n      <td>-156.15190</td>\n      <td>0.110925</td>\n      <td>POINT (-156.24786 20.62712)</td>\n    </tr>\n    <tr>\n      <th>4</th>\n      <td>5</td>\n      <td>19.8063</td>\n      <td>-155.8950</td>\n      <td>7.72</td>\n      <td>12.96</td>\n      <td>2016-03-20</td>\n      <td>80</td>\n      <td>2016-03-25</td>\n      <td>85</td>\n      <td>6</td>\n      <td>...</td>\n      <td>2003-05-01</td>\n      <td>2021-03-01</td>\n      <td>19.79500</td>\n      <td>PUU WAAWAA HAWAII, HI US</td>\n      <td>0.9487</td>\n      <td>GHCND:USR0000HPUW</td>\n      <td>METERS</td>\n      <td>-155.84530</td>\n      <td>0.050968</td>\n      <td>POINT (-155.89512 19.80629)</td>\n    </tr>\n    <tr>\n      <th>...</th>\n      <td>...</td>\n      <td>...</td>\n      <td>...</td>\n      <td>...</td>\n      <td>...</td>\n      <td>...</td>\n      <td>...</td>\n      <td>...</td>\n      <td>...</td>\n      <td>...</td>\n      <td>...</td>\n      <td>...</td>\n      <td>...</td>\n      <td>...</td>\n      <td>...</td>\n      <td>...</td>\n      <td>...</td>\n      <td>...</td>\n      <td>...</td>\n      <td>...</td>\n      <td>...</td>\n    </tr>\n    <tr>\n      <th>11519</th>\n      <td>56789</td>\n      <td>40.8521</td>\n      <td>-78.1691</td>\n      <td>0.43</td>\n      <td>2.78</td>\n      <td>2016-04-14</td>\n      <td>105</td>\n      <td>2016-04-14</td>\n      <td>105</td>\n      <td>1</td>\n      <td>...</td>\n      <td>1998-04-01</td>\n      <td>2021-03-01</td>\n      <td>40.87291</td>\n      <td>PHILIPSBURG 2 S, PA US</td>\n      <td>0.9927</td>\n      <td>GHCND:USC00366921</td>\n      <td>METERS</td>\n      <td>-78.21615</td>\n      <td>0.051447</td>\n      <td>POINT (-78.16909 40.85211)</td>\n    </tr>\n    <tr>\n      <th>11520</th>\n      <td>56790</td>\n      <td>40.4188</td>\n      <td>-76.7056</td>\n      <td>0.64</td>\n      <td>3.70</td>\n      <td>2015-11-14</td>\n      <td>318</td>\n      <td>2015-11-14</td>\n      <td>318</td>\n      <td>1</td>\n      <td>...</td>\n      <td>1998-05-01</td>\n      <td>2021-03-01</td>\n      <td>40.46093</td>\n      <td>DEHART DAM, PA US</td>\n      <td>0.8872</td>\n      <td>GHCND:USC00362071</td>\n      <td>METERS</td>\n      <td>-76.74870</td>\n      <td>0.060271</td>\n      <td>POINT (-76.70562 40.41878)</td>\n    </tr>\n    <tr>\n      <th>11521</th>\n      <td>56791</td>\n      <td>40.0271</td>\n      <td>-74.4895</td>\n      <td>0.86</td>\n      <td>4.63</td>\n      <td>2016-06-26</td>\n      <td>178</td>\n      <td>2016-07-04</td>\n      <td>186</td>\n      <td>9</td>\n      <td>...</td>\n      <td>2013-08-01</td>\n      <td>2020-06-01</td>\n      <td>40.06628</td>\n      <td>JACKSON TWP 2.2 S, NJ US</td>\n      <td>0.5904</td>\n      <td>GHCND:US1NJOC0053</td>\n      <td>METERS</td>\n      <td>-74.35698</td>\n      <td>0.138191</td>\n      <td>POINT (-74.48954 40.02711)</td>\n    </tr>\n    <tr>\n      <th>11522</th>\n      <td>56792</td>\n      <td>40.0063</td>\n      <td>-74.4994</td>\n      <td>3.00</td>\n      <td>9.26</td>\n      <td>2016-06-13</td>\n      <td>165</td>\n      <td>2016-06-19</td>\n      <td>171</td>\n      <td>7</td>\n      <td>...</td>\n      <td>2013-08-01</td>\n      <td>2020-06-01</td>\n      <td>40.06628</td>\n      <td>JACKSON TWP 2.2 S, NJ US</td>\n      <td>0.5904</td>\n      <td>GHCND:US1NJOC0053</td>\n      <td>METERS</td>\n      <td>-74.35698</td>\n      <td>0.154536</td>\n      <td>POINT (-74.49944 40.00628)</td>\n    </tr>\n    <tr>\n      <th>11523</th>\n      <td>56793</td>\n      <td>39.9979</td>\n      <td>-74.5012</td>\n      <td>3.86</td>\n      <td>12.04</td>\n      <td>2016-06-14</td>\n      <td>166</td>\n      <td>2016-06-21</td>\n      <td>173</td>\n      <td>8</td>\n      <td>...</td>\n      <td>2013-08-01</td>\n      <td>2020-06-01</td>\n      <td>40.06628</td>\n      <td>JACKSON TWP 2.2 S, NJ US</td>\n      <td>0.5904</td>\n      <td>GHCND:US1NJOC0053</td>\n      <td>METERS</td>\n      <td>-74.35698</td>\n      <td>0.159610</td>\n      <td>POINT (-74.50123 39.99794)</td>\n    </tr>\n  </tbody>\n</table>\n<p>11524 rows × 35 columns</p>\n</div>"
     },
     "execution_count": 2,
     "metadata": {},
     "output_type": "execute_result"
    }
   ],
   "source": [
    "ignitions = gpd.read_file(\"2016_wildfires/usa_2016_ignitions_stations.shp\")\n",
    "ignitions"
   ],
   "metadata": {
    "collapsed": false,
    "pycharm": {
     "name": "#%%\n"
    }
   }
  },
  {
   "cell_type": "markdown",
   "source": [
    "## 1. Explore Data Types"
   ],
   "metadata": {
    "collapsed": false,
    "pycharm": {
     "name": "#%% md\n"
    }
   }
  },
  {
   "cell_type": "code",
   "execution_count": 3,
   "outputs": [],
   "source": [
    "api_token = \"syKpWfFaNGhSsksXrJhcrwQspIYihUqW\"\n",
    "base_url = \"https://www.ncdc.noaa.gov/cdo-web/api/v2/\"\n",
    "headers = {\"token\": api_token}"
   ],
   "metadata": {
    "collapsed": false,
    "pycharm": {
     "name": "#%%\n"
    }
   }
  },
  {
   "cell_type": "code",
   "execution_count": 4,
   "outputs": [
    {
     "data": {
      "text/plain": "'https://www.ncdc.noaa.gov/cdo-web/api/v2/datatypes?datasetid=GSOM&startdate=2016-01-01&enddate=2016-01-01&limit=1000'"
     },
     "execution_count": 4,
     "metadata": {},
     "output_type": "execute_result"
    }
   ],
   "source": [
    "resource = \"datatypes?\"\n",
    "query = {\n",
    "    \"datasetid\": \"GSOM\",\n",
    "    \"startdate\": \"2016-01-01\",\n",
    "    \"enddate\": \"2016-01-01\",\n",
    "    \"limit\": \"1000\"\n",
    "}\n",
    "query_str = urllib.parse.urlencode(query, doseq=False)\n",
    "endpoint = base_url + resource + query_str\n",
    "endpoint"
   ],
   "metadata": {
    "collapsed": false,
    "pycharm": {
     "name": "#%%\n"
    }
   }
  },
  {
   "cell_type": "code",
   "execution_count": 5,
   "outputs": [
    {
     "data": {
      "text/plain": "<Response [200]>"
     },
     "execution_count": 5,
     "metadata": {},
     "output_type": "execute_result"
    }
   ],
   "source": [
    "response = requests.get(endpoint, headers=headers)\n",
    "response"
   ],
   "metadata": {
    "collapsed": false,
    "pycharm": {
     "name": "#%%\n"
    }
   }
  },
  {
   "cell_type": "code",
   "execution_count": 6,
   "outputs": [
    {
     "name": "stdout",
     "output_type": "stream",
     "text": [
      "{'resultset': {'offset': 1, 'count': 89, 'limit': 1000}}\n",
      "{'mindate': '1982-01-01', 'maxdate': '2021-03-01', 'name': 'Average wind speed', 'datacoverage': 1, 'id': 'AWND'}\n"
     ]
    }
   ],
   "source": [
    "data_types = json.loads(response.text)\n",
    "print(data_types[\"metadata\"])\n",
    "print(data_types[\"results\"][0])"
   ],
   "metadata": {
    "collapsed": false,
    "pycharm": {
     "name": "#%%\n"
    }
   }
  },
  {
   "cell_type": "code",
   "execution_count": 7,
   "outputs": [
    {
     "data": {
      "text/plain": "       mindate     maxdate                                               name  \\\n0   1982-01-01  2021-03-01                                 Average wind speed   \n1   1763-01-01  2021-03-01                 Cooling Degree Days Season to Date   \n2   1763-01-01  2021-03-01                                Cooling Degree Days   \n3   1781-01-01  2021-03-01  Number of days with greater than or equal to 0...   \n4   1781-01-01  2021-03-01  Number of days with greater than or equal to 1...   \n5   1860-01-01  2021-03-01  Number days with snow depth > 1 inch(25.4mm) f...   \n6   1840-05-01  2021-03-01              Number days with snow depth > 1 inch.   \n7   1763-01-01  2021-03-01  Number days with minimum temperature less than...   \n8   1763-01-01  2021-03-01  Number days with minimum temperature less than...   \n9   1763-01-01  2021-03-01       Number days with maximum temperature < 32 F.   \n10  1763-01-01  2021-03-01  Number days with maximum temperature > 70 F (2...   \n11  1763-01-01  2021-03-01  Number days with maximum temperature > 90 F (3...   \n12  1763-01-01  2021-03-01  Day Extreme minimum temperature occurred for t...   \n13  1860-01-01  2021-03-01  Day the extreme maximum daily Snow Depth for t...   \n14  1840-05-01  2021-03-01  Day the extreme maximum daily snowfall for the...   \n15  1781-01-01  2021-03-01  Day Extreme maximum daily precipitation for th...   \n16  1763-01-01  2021-03-01  Date Extreme maximum temperature occurred for ...   \n17  1763-01-01  2021-03-01        Extreme minimum temperature for the period.   \n18  1860-01-01  2021-03-01         Extreme maximum snow depth for the period.   \n19  1840-05-01  2021-03-01           Extreme maximum snowfall for the period.   \n20  1781-01-01  2021-03-01      Extreme maximum precipitation for the period.   \n21  1763-01-01  2021-03-01        Extreme maximum temperature for the period.   \n22  1894-01-01  2021-02-01          Evaporation of water from evaporation pan   \n23  1763-07-01  2021-03-01                 Heating Degree Days Season to Date   \n24  1982-01-01  2021-02-01  Highest minimum soil temperature for the month...   \n25  1982-01-01  2021-02-01  Highest minimum soil temperature for the month...   \n26  1982-01-01  2021-02-01  Highest minimum soil temperature for the month...   \n27  1982-01-01  2021-02-01  Highest minimum soil temperature for the month...   \n28  1982-01-01  2021-01-01  Highest minimum soil temperature for the month...   \n29  1982-01-01  2020-12-01  Highest minimum soil temperature for the month...   \n30  1982-06-01  2020-12-01  Highest minimum soil temperature for the month...   \n31  1982-06-01  2020-12-01  Highest minimum soil temperature for the month...   \n32  1763-01-01  2021-03-01                                Heating degree days   \n33  1982-01-01  2021-02-01  Highest maximum soil temperature for the month...   \n34  1982-01-01  2021-02-01  Highest maximum soil temperature for the month...   \n35  1982-01-01  2021-02-01  Highest maximum soil temperature for the month...   \n36  1982-01-01  2021-02-01  Highest maximum soil temperature for the month...   \n37  1982-01-01  2021-02-01  Highest maximum soil temperature for the month...   \n38  1982-01-01  2020-12-01  Highest maximum soil temperature for the month...   \n39  1982-06-01  2020-12-01  Highest maximum soil temperature for the month...   \n40  1982-06-01  2020-12-01  Highest maximum soil temperature for the month...   \n41  1982-01-01  2021-02-01  Lowest minimum soil temperature for the month ...   \n42  1982-01-01  2021-02-01  Lowest minimum soil temperature for the month ...   \n43  1982-01-01  2021-02-01  Lowest minimum soil temperature for the month ...   \n44  1982-01-01  2021-02-01  Lowest minimum soil temperature for the month ...   \n45  1982-01-01  2021-01-01  Lowest minimum soil temperature for the month ...   \n46  1982-01-01  2020-12-01  Lowest minimum soil temperature for the month ...   \n47  1982-06-01  2020-12-01  Lowest minimum soil temperature for the month ...   \n48  1982-06-01  2020-12-01  Lowest minimum soil temperature for the month ...   \n49  1982-01-01  2021-02-01  Lowest maximum soil temperature for the month ...   \n50  1982-01-01  2021-02-01  Lowest maximum soil temperature for the month ...   \n51  1982-01-01  2021-02-01  Lowest maximum soil temperature for the month ...   \n52  1982-01-01  2021-02-01  Lowest maximum soil temperature for the month ...   \n53  1982-01-01  2021-02-01  Lowest maximum soil temperature for the month ...   \n54  1982-01-01  2020-12-01  Lowest maximum soil temperature for the month ...   \n55  1982-06-01  2020-12-01  Lowest maximum soil temperature for the month ...   \n56  1982-06-01  2020-12-01  Lowest maximum soil temperature for the month ...   \n57  1982-01-01  2021-02-01  Monthly mean minimum soil temperature (degrees F)   \n58  1982-01-01  2021-02-01  Monthly mean minimum soil temperature (degrees F)   \n59  1982-01-01  2021-02-01  Monthly mean minimum soil temperature (degrees F)   \n60  1982-01-01  2021-02-01  Monthly mean minimum soil temperature (degrees F)   \n61  1982-01-01  2021-01-01  Monthly mean minimum soil temperature (degrees F)   \n62  1982-01-01  2020-12-01  Monthly mean minimum soil temperature (degrees F)   \n63  1982-06-01  2020-12-01  Monthly mean minimum soil temperature (degrees F)   \n64  1982-06-01  2020-12-01  Monthly mean minimum soil temperature (degrees F)   \n65  1959-07-01  2021-02-01  Daily minimum temperature of water in an evapo...   \n66  1982-01-01  2021-02-01  Monthly mean maximum soil temperature (degrees F)   \n67  1982-01-01  2021-02-01  Monthly mean maximum soil temperature (degrees F)   \n68  1982-01-01  2021-02-01  Monthly mean maximum soil temperature (degrees F)   \n69  1982-01-01  2021-02-01  Monthly mean maximum soil temperature (degrees F)   \n70  1982-01-01  2021-02-01  Monthly mean maximum soil temperature (degrees F)   \n71  1982-01-01  2020-12-01  Monthly mean maximum soil temperature (degrees F)   \n72  1982-06-01  2020-12-01  Monthly mean maximum soil temperature (degrees F)   \n73  1982-06-01  2020-12-01  Monthly mean maximum soil temperature (degrees F)   \n74  1959-07-01  2021-02-01  Daily maximum temperature of water in an evapo...   \n75  1781-01-01  2021-03-01                                      Precipitation   \n76  1965-01-01  2021-02-01  Daily percent of possible sunshine for the period   \n77  1840-05-01  2021-03-01                                           Snowfall   \n78  1763-01-01  2021-03-01                               Average Temperature.   \n79  1763-01-01  2021-03-01                                Maximum temperature   \n80  1763-01-01  2021-03-01                                Minimum temperature   \n81  1965-01-01  2021-02-01                      Total sunshine for the period   \n82  1993-06-01  2021-03-01                 Direction of fastest 2-minute wind   \n83  1993-06-01  2021-03-01                 Direction of fastest 5-second wind   \n84  1948-01-01  2021-03-01                        Direction of peak wind gust   \n85  1859-10-01  2021-02-01                                Total wind movement   \n86  1993-06-01  2021-03-01                        Fastest 2-minute wind speed   \n87  1993-06-01  2021-03-01                        Fastest 5-second wind speed   \n88  1948-01-01  2021-03-01                               Peak gust wind speed   \n\n    datacoverage    id  \n0         1.0000  AWND  \n1         1.0000  CDSD  \n2         1.0000  CLDD  \n3         1.0000  DP01  \n4         1.0000  DP10  \n5         1.0000  DSND  \n6         1.0000  DSNW  \n7         1.0000  DT00  \n8         1.0000  DT32  \n9         1.0000  DX32  \n10        1.0000  DX70  \n11        1.0000  DX90  \n12        1.0000  DYNT  \n13        1.0000  DYSD  \n14        1.0000  DYSN  \n15        1.0000  DYXP  \n16        1.0000  DYXT  \n17        1.0000  EMNT  \n18        1.0000  EMSD  \n19        1.0000  EMSN  \n20        1.0000  EMXP  \n21        1.0000  EMXT  \n22        1.0000  EVAP  \n23        1.0000  HDSD  \n24        1.0000  HN01  \n25        1.0000  HN02  \n26        1.0000  HN03  \n27        1.0000  HN04  \n28        0.9997  HN05  \n29        0.9997  HN06  \n30        0.9997  HN07  \n31        0.9700  HN08  \n32        1.0000  HTDD  \n33        1.0000  HX01  \n34        1.0000  HX02  \n35        1.0000  HX03  \n36        1.0000  HX04  \n37        0.9997  HX05  \n38        0.9997  HX06  \n39        0.9997  HX07  \n40        0.9700  HX08  \n41        1.0000  LN01  \n42        1.0000  LN02  \n43        1.0000  LN03  \n44        1.0000  LN04  \n45        0.9997  LN05  \n46        0.9997  LN06  \n47        0.9997  LN07  \n48        0.9700  LN08  \n49        1.0000  LX01  \n50        1.0000  LX02  \n51        1.0000  LX03  \n52        1.0000  LX04  \n53        0.9997  LX05  \n54        0.9997  LX06  \n55        0.9997  LX07  \n56        0.9700  LX08  \n57        1.0000  MN01  \n58        1.0000  MN02  \n59        1.0000  MN03  \n60        1.0000  MN04  \n61        0.9997  MN05  \n62        0.9997  MN06  \n63        0.9997  MN07  \n64        0.9700  MN08  \n65        1.0000  MNPN  \n66        1.0000  MX01  \n67        1.0000  MX02  \n68        1.0000  MX03  \n69        1.0000  MX04  \n70        0.9997  MX05  \n71        0.9997  MX06  \n72        0.9997  MX07  \n73        0.9700  MX08  \n74        1.0000  MXPN  \n75        1.0000  PRCP  \n76        1.0000  PSUN  \n77        1.0000  SNOW  \n78        1.0000  TAVG  \n79        1.0000  TMAX  \n80        1.0000  TMIN  \n81        1.0000  TSUN  \n82        1.0000  WDF2  \n83        1.0000  WDF5  \n84        1.0000  WDFG  \n85        1.0000  WDMV  \n86        1.0000  WSF2  \n87        1.0000  WSF5  \n88        1.0000  WSFG  ",
      "text/html": "<div>\n<style scoped>\n    .dataframe tbody tr th:only-of-type {\n        vertical-align: middle;\n    }\n\n    .dataframe tbody tr th {\n        vertical-align: top;\n    }\n\n    .dataframe thead th {\n        text-align: right;\n    }\n</style>\n<table border=\"1\" class=\"dataframe\">\n  <thead>\n    <tr style=\"text-align: right;\">\n      <th></th>\n      <th>mindate</th>\n      <th>maxdate</th>\n      <th>name</th>\n      <th>datacoverage</th>\n      <th>id</th>\n    </tr>\n  </thead>\n  <tbody>\n    <tr>\n      <th>0</th>\n      <td>1982-01-01</td>\n      <td>2021-03-01</td>\n      <td>Average wind speed</td>\n      <td>1.0000</td>\n      <td>AWND</td>\n    </tr>\n    <tr>\n      <th>1</th>\n      <td>1763-01-01</td>\n      <td>2021-03-01</td>\n      <td>Cooling Degree Days Season to Date</td>\n      <td>1.0000</td>\n      <td>CDSD</td>\n    </tr>\n    <tr>\n      <th>2</th>\n      <td>1763-01-01</td>\n      <td>2021-03-01</td>\n      <td>Cooling Degree Days</td>\n      <td>1.0000</td>\n      <td>CLDD</td>\n    </tr>\n    <tr>\n      <th>3</th>\n      <td>1781-01-01</td>\n      <td>2021-03-01</td>\n      <td>Number of days with greater than or equal to 0...</td>\n      <td>1.0000</td>\n      <td>DP01</td>\n    </tr>\n    <tr>\n      <th>4</th>\n      <td>1781-01-01</td>\n      <td>2021-03-01</td>\n      <td>Number of days with greater than or equal to 1...</td>\n      <td>1.0000</td>\n      <td>DP10</td>\n    </tr>\n    <tr>\n      <th>5</th>\n      <td>1860-01-01</td>\n      <td>2021-03-01</td>\n      <td>Number days with snow depth &gt; 1 inch(25.4mm) f...</td>\n      <td>1.0000</td>\n      <td>DSND</td>\n    </tr>\n    <tr>\n      <th>6</th>\n      <td>1840-05-01</td>\n      <td>2021-03-01</td>\n      <td>Number days with snow depth &gt; 1 inch.</td>\n      <td>1.0000</td>\n      <td>DSNW</td>\n    </tr>\n    <tr>\n      <th>7</th>\n      <td>1763-01-01</td>\n      <td>2021-03-01</td>\n      <td>Number days with minimum temperature less than...</td>\n      <td>1.0000</td>\n      <td>DT00</td>\n    </tr>\n    <tr>\n      <th>8</th>\n      <td>1763-01-01</td>\n      <td>2021-03-01</td>\n      <td>Number days with minimum temperature less than...</td>\n      <td>1.0000</td>\n      <td>DT32</td>\n    </tr>\n    <tr>\n      <th>9</th>\n      <td>1763-01-01</td>\n      <td>2021-03-01</td>\n      <td>Number days with maximum temperature &lt; 32 F.</td>\n      <td>1.0000</td>\n      <td>DX32</td>\n    </tr>\n    <tr>\n      <th>10</th>\n      <td>1763-01-01</td>\n      <td>2021-03-01</td>\n      <td>Number days with maximum temperature &gt; 70 F (2...</td>\n      <td>1.0000</td>\n      <td>DX70</td>\n    </tr>\n    <tr>\n      <th>11</th>\n      <td>1763-01-01</td>\n      <td>2021-03-01</td>\n      <td>Number days with maximum temperature &gt; 90 F (3...</td>\n      <td>1.0000</td>\n      <td>DX90</td>\n    </tr>\n    <tr>\n      <th>12</th>\n      <td>1763-01-01</td>\n      <td>2021-03-01</td>\n      <td>Day Extreme minimum temperature occurred for t...</td>\n      <td>1.0000</td>\n      <td>DYNT</td>\n    </tr>\n    <tr>\n      <th>13</th>\n      <td>1860-01-01</td>\n      <td>2021-03-01</td>\n      <td>Day the extreme maximum daily Snow Depth for t...</td>\n      <td>1.0000</td>\n      <td>DYSD</td>\n    </tr>\n    <tr>\n      <th>14</th>\n      <td>1840-05-01</td>\n      <td>2021-03-01</td>\n      <td>Day the extreme maximum daily snowfall for the...</td>\n      <td>1.0000</td>\n      <td>DYSN</td>\n    </tr>\n    <tr>\n      <th>15</th>\n      <td>1781-01-01</td>\n      <td>2021-03-01</td>\n      <td>Day Extreme maximum daily precipitation for th...</td>\n      <td>1.0000</td>\n      <td>DYXP</td>\n    </tr>\n    <tr>\n      <th>16</th>\n      <td>1763-01-01</td>\n      <td>2021-03-01</td>\n      <td>Date Extreme maximum temperature occurred for ...</td>\n      <td>1.0000</td>\n      <td>DYXT</td>\n    </tr>\n    <tr>\n      <th>17</th>\n      <td>1763-01-01</td>\n      <td>2021-03-01</td>\n      <td>Extreme minimum temperature for the period.</td>\n      <td>1.0000</td>\n      <td>EMNT</td>\n    </tr>\n    <tr>\n      <th>18</th>\n      <td>1860-01-01</td>\n      <td>2021-03-01</td>\n      <td>Extreme maximum snow depth for the period.</td>\n      <td>1.0000</td>\n      <td>EMSD</td>\n    </tr>\n    <tr>\n      <th>19</th>\n      <td>1840-05-01</td>\n      <td>2021-03-01</td>\n      <td>Extreme maximum snowfall for the period.</td>\n      <td>1.0000</td>\n      <td>EMSN</td>\n    </tr>\n    <tr>\n      <th>20</th>\n      <td>1781-01-01</td>\n      <td>2021-03-01</td>\n      <td>Extreme maximum precipitation for the period.</td>\n      <td>1.0000</td>\n      <td>EMXP</td>\n    </tr>\n    <tr>\n      <th>21</th>\n      <td>1763-01-01</td>\n      <td>2021-03-01</td>\n      <td>Extreme maximum temperature for the period.</td>\n      <td>1.0000</td>\n      <td>EMXT</td>\n    </tr>\n    <tr>\n      <th>22</th>\n      <td>1894-01-01</td>\n      <td>2021-02-01</td>\n      <td>Evaporation of water from evaporation pan</td>\n      <td>1.0000</td>\n      <td>EVAP</td>\n    </tr>\n    <tr>\n      <th>23</th>\n      <td>1763-07-01</td>\n      <td>2021-03-01</td>\n      <td>Heating Degree Days Season to Date</td>\n      <td>1.0000</td>\n      <td>HDSD</td>\n    </tr>\n    <tr>\n      <th>24</th>\n      <td>1982-01-01</td>\n      <td>2021-02-01</td>\n      <td>Highest minimum soil temperature for the month...</td>\n      <td>1.0000</td>\n      <td>HN01</td>\n    </tr>\n    <tr>\n      <th>25</th>\n      <td>1982-01-01</td>\n      <td>2021-02-01</td>\n      <td>Highest minimum soil temperature for the month...</td>\n      <td>1.0000</td>\n      <td>HN02</td>\n    </tr>\n    <tr>\n      <th>26</th>\n      <td>1982-01-01</td>\n      <td>2021-02-01</td>\n      <td>Highest minimum soil temperature for the month...</td>\n      <td>1.0000</td>\n      <td>HN03</td>\n    </tr>\n    <tr>\n      <th>27</th>\n      <td>1982-01-01</td>\n      <td>2021-02-01</td>\n      <td>Highest minimum soil temperature for the month...</td>\n      <td>1.0000</td>\n      <td>HN04</td>\n    </tr>\n    <tr>\n      <th>28</th>\n      <td>1982-01-01</td>\n      <td>2021-01-01</td>\n      <td>Highest minimum soil temperature for the month...</td>\n      <td>0.9997</td>\n      <td>HN05</td>\n    </tr>\n    <tr>\n      <th>29</th>\n      <td>1982-01-01</td>\n      <td>2020-12-01</td>\n      <td>Highest minimum soil temperature for the month...</td>\n      <td>0.9997</td>\n      <td>HN06</td>\n    </tr>\n    <tr>\n      <th>30</th>\n      <td>1982-06-01</td>\n      <td>2020-12-01</td>\n      <td>Highest minimum soil temperature for the month...</td>\n      <td>0.9997</td>\n      <td>HN07</td>\n    </tr>\n    <tr>\n      <th>31</th>\n      <td>1982-06-01</td>\n      <td>2020-12-01</td>\n      <td>Highest minimum soil temperature for the month...</td>\n      <td>0.9700</td>\n      <td>HN08</td>\n    </tr>\n    <tr>\n      <th>32</th>\n      <td>1763-01-01</td>\n      <td>2021-03-01</td>\n      <td>Heating degree days</td>\n      <td>1.0000</td>\n      <td>HTDD</td>\n    </tr>\n    <tr>\n      <th>33</th>\n      <td>1982-01-01</td>\n      <td>2021-02-01</td>\n      <td>Highest maximum soil temperature for the month...</td>\n      <td>1.0000</td>\n      <td>HX01</td>\n    </tr>\n    <tr>\n      <th>34</th>\n      <td>1982-01-01</td>\n      <td>2021-02-01</td>\n      <td>Highest maximum soil temperature for the month...</td>\n      <td>1.0000</td>\n      <td>HX02</td>\n    </tr>\n    <tr>\n      <th>35</th>\n      <td>1982-01-01</td>\n      <td>2021-02-01</td>\n      <td>Highest maximum soil temperature for the month...</td>\n      <td>1.0000</td>\n      <td>HX03</td>\n    </tr>\n    <tr>\n      <th>36</th>\n      <td>1982-01-01</td>\n      <td>2021-02-01</td>\n      <td>Highest maximum soil temperature for the month...</td>\n      <td>1.0000</td>\n      <td>HX04</td>\n    </tr>\n    <tr>\n      <th>37</th>\n      <td>1982-01-01</td>\n      <td>2021-02-01</td>\n      <td>Highest maximum soil temperature for the month...</td>\n      <td>0.9997</td>\n      <td>HX05</td>\n    </tr>\n    <tr>\n      <th>38</th>\n      <td>1982-01-01</td>\n      <td>2020-12-01</td>\n      <td>Highest maximum soil temperature for the month...</td>\n      <td>0.9997</td>\n      <td>HX06</td>\n    </tr>\n    <tr>\n      <th>39</th>\n      <td>1982-06-01</td>\n      <td>2020-12-01</td>\n      <td>Highest maximum soil temperature for the month...</td>\n      <td>0.9997</td>\n      <td>HX07</td>\n    </tr>\n    <tr>\n      <th>40</th>\n      <td>1982-06-01</td>\n      <td>2020-12-01</td>\n      <td>Highest maximum soil temperature for the month...</td>\n      <td>0.9700</td>\n      <td>HX08</td>\n    </tr>\n    <tr>\n      <th>41</th>\n      <td>1982-01-01</td>\n      <td>2021-02-01</td>\n      <td>Lowest minimum soil temperature for the month ...</td>\n      <td>1.0000</td>\n      <td>LN01</td>\n    </tr>\n    <tr>\n      <th>42</th>\n      <td>1982-01-01</td>\n      <td>2021-02-01</td>\n      <td>Lowest minimum soil temperature for the month ...</td>\n      <td>1.0000</td>\n      <td>LN02</td>\n    </tr>\n    <tr>\n      <th>43</th>\n      <td>1982-01-01</td>\n      <td>2021-02-01</td>\n      <td>Lowest minimum soil temperature for the month ...</td>\n      <td>1.0000</td>\n      <td>LN03</td>\n    </tr>\n    <tr>\n      <th>44</th>\n      <td>1982-01-01</td>\n      <td>2021-02-01</td>\n      <td>Lowest minimum soil temperature for the month ...</td>\n      <td>1.0000</td>\n      <td>LN04</td>\n    </tr>\n    <tr>\n      <th>45</th>\n      <td>1982-01-01</td>\n      <td>2021-01-01</td>\n      <td>Lowest minimum soil temperature for the month ...</td>\n      <td>0.9997</td>\n      <td>LN05</td>\n    </tr>\n    <tr>\n      <th>46</th>\n      <td>1982-01-01</td>\n      <td>2020-12-01</td>\n      <td>Lowest minimum soil temperature for the month ...</td>\n      <td>0.9997</td>\n      <td>LN06</td>\n    </tr>\n    <tr>\n      <th>47</th>\n      <td>1982-06-01</td>\n      <td>2020-12-01</td>\n      <td>Lowest minimum soil temperature for the month ...</td>\n      <td>0.9997</td>\n      <td>LN07</td>\n    </tr>\n    <tr>\n      <th>48</th>\n      <td>1982-06-01</td>\n      <td>2020-12-01</td>\n      <td>Lowest minimum soil temperature for the month ...</td>\n      <td>0.9700</td>\n      <td>LN08</td>\n    </tr>\n    <tr>\n      <th>49</th>\n      <td>1982-01-01</td>\n      <td>2021-02-01</td>\n      <td>Lowest maximum soil temperature for the month ...</td>\n      <td>1.0000</td>\n      <td>LX01</td>\n    </tr>\n    <tr>\n      <th>50</th>\n      <td>1982-01-01</td>\n      <td>2021-02-01</td>\n      <td>Lowest maximum soil temperature for the month ...</td>\n      <td>1.0000</td>\n      <td>LX02</td>\n    </tr>\n    <tr>\n      <th>51</th>\n      <td>1982-01-01</td>\n      <td>2021-02-01</td>\n      <td>Lowest maximum soil temperature for the month ...</td>\n      <td>1.0000</td>\n      <td>LX03</td>\n    </tr>\n    <tr>\n      <th>52</th>\n      <td>1982-01-01</td>\n      <td>2021-02-01</td>\n      <td>Lowest maximum soil temperature for the month ...</td>\n      <td>1.0000</td>\n      <td>LX04</td>\n    </tr>\n    <tr>\n      <th>53</th>\n      <td>1982-01-01</td>\n      <td>2021-02-01</td>\n      <td>Lowest maximum soil temperature for the month ...</td>\n      <td>0.9997</td>\n      <td>LX05</td>\n    </tr>\n    <tr>\n      <th>54</th>\n      <td>1982-01-01</td>\n      <td>2020-12-01</td>\n      <td>Lowest maximum soil temperature for the month ...</td>\n      <td>0.9997</td>\n      <td>LX06</td>\n    </tr>\n    <tr>\n      <th>55</th>\n      <td>1982-06-01</td>\n      <td>2020-12-01</td>\n      <td>Lowest maximum soil temperature for the month ...</td>\n      <td>0.9997</td>\n      <td>LX07</td>\n    </tr>\n    <tr>\n      <th>56</th>\n      <td>1982-06-01</td>\n      <td>2020-12-01</td>\n      <td>Lowest maximum soil temperature for the month ...</td>\n      <td>0.9700</td>\n      <td>LX08</td>\n    </tr>\n    <tr>\n      <th>57</th>\n      <td>1982-01-01</td>\n      <td>2021-02-01</td>\n      <td>Monthly mean minimum soil temperature (degrees F)</td>\n      <td>1.0000</td>\n      <td>MN01</td>\n    </tr>\n    <tr>\n      <th>58</th>\n      <td>1982-01-01</td>\n      <td>2021-02-01</td>\n      <td>Monthly mean minimum soil temperature (degrees F)</td>\n      <td>1.0000</td>\n      <td>MN02</td>\n    </tr>\n    <tr>\n      <th>59</th>\n      <td>1982-01-01</td>\n      <td>2021-02-01</td>\n      <td>Monthly mean minimum soil temperature (degrees F)</td>\n      <td>1.0000</td>\n      <td>MN03</td>\n    </tr>\n    <tr>\n      <th>60</th>\n      <td>1982-01-01</td>\n      <td>2021-02-01</td>\n      <td>Monthly mean minimum soil temperature (degrees F)</td>\n      <td>1.0000</td>\n      <td>MN04</td>\n    </tr>\n    <tr>\n      <th>61</th>\n      <td>1982-01-01</td>\n      <td>2021-01-01</td>\n      <td>Monthly mean minimum soil temperature (degrees F)</td>\n      <td>0.9997</td>\n      <td>MN05</td>\n    </tr>\n    <tr>\n      <th>62</th>\n      <td>1982-01-01</td>\n      <td>2020-12-01</td>\n      <td>Monthly mean minimum soil temperature (degrees F)</td>\n      <td>0.9997</td>\n      <td>MN06</td>\n    </tr>\n    <tr>\n      <th>63</th>\n      <td>1982-06-01</td>\n      <td>2020-12-01</td>\n      <td>Monthly mean minimum soil temperature (degrees F)</td>\n      <td>0.9997</td>\n      <td>MN07</td>\n    </tr>\n    <tr>\n      <th>64</th>\n      <td>1982-06-01</td>\n      <td>2020-12-01</td>\n      <td>Monthly mean minimum soil temperature (degrees F)</td>\n      <td>0.9700</td>\n      <td>MN08</td>\n    </tr>\n    <tr>\n      <th>65</th>\n      <td>1959-07-01</td>\n      <td>2021-02-01</td>\n      <td>Daily minimum temperature of water in an evapo...</td>\n      <td>1.0000</td>\n      <td>MNPN</td>\n    </tr>\n    <tr>\n      <th>66</th>\n      <td>1982-01-01</td>\n      <td>2021-02-01</td>\n      <td>Monthly mean maximum soil temperature (degrees F)</td>\n      <td>1.0000</td>\n      <td>MX01</td>\n    </tr>\n    <tr>\n      <th>67</th>\n      <td>1982-01-01</td>\n      <td>2021-02-01</td>\n      <td>Monthly mean maximum soil temperature (degrees F)</td>\n      <td>1.0000</td>\n      <td>MX02</td>\n    </tr>\n    <tr>\n      <th>68</th>\n      <td>1982-01-01</td>\n      <td>2021-02-01</td>\n      <td>Monthly mean maximum soil temperature (degrees F)</td>\n      <td>1.0000</td>\n      <td>MX03</td>\n    </tr>\n    <tr>\n      <th>69</th>\n      <td>1982-01-01</td>\n      <td>2021-02-01</td>\n      <td>Monthly mean maximum soil temperature (degrees F)</td>\n      <td>1.0000</td>\n      <td>MX04</td>\n    </tr>\n    <tr>\n      <th>70</th>\n      <td>1982-01-01</td>\n      <td>2021-02-01</td>\n      <td>Monthly mean maximum soil temperature (degrees F)</td>\n      <td>0.9997</td>\n      <td>MX05</td>\n    </tr>\n    <tr>\n      <th>71</th>\n      <td>1982-01-01</td>\n      <td>2020-12-01</td>\n      <td>Monthly mean maximum soil temperature (degrees F)</td>\n      <td>0.9997</td>\n      <td>MX06</td>\n    </tr>\n    <tr>\n      <th>72</th>\n      <td>1982-06-01</td>\n      <td>2020-12-01</td>\n      <td>Monthly mean maximum soil temperature (degrees F)</td>\n      <td>0.9997</td>\n      <td>MX07</td>\n    </tr>\n    <tr>\n      <th>73</th>\n      <td>1982-06-01</td>\n      <td>2020-12-01</td>\n      <td>Monthly mean maximum soil temperature (degrees F)</td>\n      <td>0.9700</td>\n      <td>MX08</td>\n    </tr>\n    <tr>\n      <th>74</th>\n      <td>1959-07-01</td>\n      <td>2021-02-01</td>\n      <td>Daily maximum temperature of water in an evapo...</td>\n      <td>1.0000</td>\n      <td>MXPN</td>\n    </tr>\n    <tr>\n      <th>75</th>\n      <td>1781-01-01</td>\n      <td>2021-03-01</td>\n      <td>Precipitation</td>\n      <td>1.0000</td>\n      <td>PRCP</td>\n    </tr>\n    <tr>\n      <th>76</th>\n      <td>1965-01-01</td>\n      <td>2021-02-01</td>\n      <td>Daily percent of possible sunshine for the period</td>\n      <td>1.0000</td>\n      <td>PSUN</td>\n    </tr>\n    <tr>\n      <th>77</th>\n      <td>1840-05-01</td>\n      <td>2021-03-01</td>\n      <td>Snowfall</td>\n      <td>1.0000</td>\n      <td>SNOW</td>\n    </tr>\n    <tr>\n      <th>78</th>\n      <td>1763-01-01</td>\n      <td>2021-03-01</td>\n      <td>Average Temperature.</td>\n      <td>1.0000</td>\n      <td>TAVG</td>\n    </tr>\n    <tr>\n      <th>79</th>\n      <td>1763-01-01</td>\n      <td>2021-03-01</td>\n      <td>Maximum temperature</td>\n      <td>1.0000</td>\n      <td>TMAX</td>\n    </tr>\n    <tr>\n      <th>80</th>\n      <td>1763-01-01</td>\n      <td>2021-03-01</td>\n      <td>Minimum temperature</td>\n      <td>1.0000</td>\n      <td>TMIN</td>\n    </tr>\n    <tr>\n      <th>81</th>\n      <td>1965-01-01</td>\n      <td>2021-02-01</td>\n      <td>Total sunshine for the period</td>\n      <td>1.0000</td>\n      <td>TSUN</td>\n    </tr>\n    <tr>\n      <th>82</th>\n      <td>1993-06-01</td>\n      <td>2021-03-01</td>\n      <td>Direction of fastest 2-minute wind</td>\n      <td>1.0000</td>\n      <td>WDF2</td>\n    </tr>\n    <tr>\n      <th>83</th>\n      <td>1993-06-01</td>\n      <td>2021-03-01</td>\n      <td>Direction of fastest 5-second wind</td>\n      <td>1.0000</td>\n      <td>WDF5</td>\n    </tr>\n    <tr>\n      <th>84</th>\n      <td>1948-01-01</td>\n      <td>2021-03-01</td>\n      <td>Direction of peak wind gust</td>\n      <td>1.0000</td>\n      <td>WDFG</td>\n    </tr>\n    <tr>\n      <th>85</th>\n      <td>1859-10-01</td>\n      <td>2021-02-01</td>\n      <td>Total wind movement</td>\n      <td>1.0000</td>\n      <td>WDMV</td>\n    </tr>\n    <tr>\n      <th>86</th>\n      <td>1993-06-01</td>\n      <td>2021-03-01</td>\n      <td>Fastest 2-minute wind speed</td>\n      <td>1.0000</td>\n      <td>WSF2</td>\n    </tr>\n    <tr>\n      <th>87</th>\n      <td>1993-06-01</td>\n      <td>2021-03-01</td>\n      <td>Fastest 5-second wind speed</td>\n      <td>1.0000</td>\n      <td>WSF5</td>\n    </tr>\n    <tr>\n      <th>88</th>\n      <td>1948-01-01</td>\n      <td>2021-03-01</td>\n      <td>Peak gust wind speed</td>\n      <td>1.0000</td>\n      <td>WSFG</td>\n    </tr>\n  </tbody>\n</table>\n</div>"
     },
     "metadata": {},
     "output_type": "display_data"
    }
   ],
   "source": [
    "data_types_df = pd.DataFrame(data_types[\"results\"])\n",
    "data_types_df.to_csv(\"2016_wildfires/weather_data_types.csv\")\n",
    "with pd.option_context('display.max_rows', None, 'display.max_columns', None):  # more options can be specified also\n",
    "    display(data_types_df)"
   ],
   "metadata": {
    "collapsed": false,
    "pycharm": {
     "name": "#%%\n"
    }
   }
  },
  {
   "cell_type": "markdown",
   "source": [
    "## 2. Explore Station Locations\n"
   ],
   "metadata": {
    "collapsed": false,
    "pycharm": {
     "name": "#%% md\n"
    }
   }
  },
  {
   "cell_type": "code",
   "execution_count": 8,
   "outputs": [
    {
     "data": {
      "text/plain": "'https://www.ncdc.noaa.gov/cdo-web/api/v2/locations?datasetid=GSOM&startdate=2016-01-01&enddate=2016-01-01&locationcategoryid=ZIP&limit=1000'"
     },
     "metadata": {},
     "output_type": "display_data"
    },
    {
     "data": {
      "text/plain": "<Response [200]>"
     },
     "metadata": {},
     "output_type": "display_data"
    },
    {
     "data": {
      "text/plain": "{'resultset': {'offset': 1, 'count': 13116, 'limit': 1000}}"
     },
     "metadata": {},
     "output_type": "display_data"
    },
    {
     "data": {
      "text/plain": "{'mindate': '1900-11-01',\n 'maxdate': '2021-03-01',\n 'name': 'Yukon Flats Nat Wildlife, AK 00002',\n 'datacoverage': 1,\n 'id': 'ZIP:00002'}"
     },
     "metadata": {},
     "output_type": "display_data"
    },
    {
     "data": {
      "text/plain": "        mindate     maxdate                                name  datacoverage  \\\n0    1900-11-01  2021-03-01  Yukon Flats Nat Wildlife, AK 00002        1.0000   \n1    1927-07-01  2021-03-01      Alaska Peninsula NWR, AK 00003        1.0000   \n2    1936-07-01  2021-03-01  W Kenai Peninsula Boroug, AK 00004        1.0000   \n3    1940-04-01  2021-03-01  N Lake and Peninsula Bor, AK 00005        1.0000   \n4    1918-01-01  2021-03-01     Matanuska-Sustina Bor, AK 00006        1.0000   \n..          ...         ...                                 ...           ...   \n995  1909-03-01  2021-03-01                Northville, NY 12134        1.0000   \n996  2013-08-01  2021-03-01            Pattersonville, NY 12137        0.9892   \n997  1899-03-01  2017-02-01             Richmondville, NY 12149        0.9349   \n998  2011-01-01  2021-03-01                 Schoharie, NY 12157        0.9840   \n999  2013-07-01  2021-03-01                   Selkirk, NY 12158        0.9999   \n\n            id  \n0    ZIP:00002  \n1    ZIP:00003  \n2    ZIP:00004  \n3    ZIP:00005  \n4    ZIP:00006  \n..         ...  \n995  ZIP:12134  \n996  ZIP:12137  \n997  ZIP:12149  \n998  ZIP:12157  \n999  ZIP:12158  \n\n[1000 rows x 5 columns]",
      "text/html": "<div>\n<style scoped>\n    .dataframe tbody tr th:only-of-type {\n        vertical-align: middle;\n    }\n\n    .dataframe tbody tr th {\n        vertical-align: top;\n    }\n\n    .dataframe thead th {\n        text-align: right;\n    }\n</style>\n<table border=\"1\" class=\"dataframe\">\n  <thead>\n    <tr style=\"text-align: right;\">\n      <th></th>\n      <th>mindate</th>\n      <th>maxdate</th>\n      <th>name</th>\n      <th>datacoverage</th>\n      <th>id</th>\n    </tr>\n  </thead>\n  <tbody>\n    <tr>\n      <th>0</th>\n      <td>1900-11-01</td>\n      <td>2021-03-01</td>\n      <td>Yukon Flats Nat Wildlife, AK 00002</td>\n      <td>1.0000</td>\n      <td>ZIP:00002</td>\n    </tr>\n    <tr>\n      <th>1</th>\n      <td>1927-07-01</td>\n      <td>2021-03-01</td>\n      <td>Alaska Peninsula NWR, AK 00003</td>\n      <td>1.0000</td>\n      <td>ZIP:00003</td>\n    </tr>\n    <tr>\n      <th>2</th>\n      <td>1936-07-01</td>\n      <td>2021-03-01</td>\n      <td>W Kenai Peninsula Boroug, AK 00004</td>\n      <td>1.0000</td>\n      <td>ZIP:00004</td>\n    </tr>\n    <tr>\n      <th>3</th>\n      <td>1940-04-01</td>\n      <td>2021-03-01</td>\n      <td>N Lake and Peninsula Bor, AK 00005</td>\n      <td>1.0000</td>\n      <td>ZIP:00005</td>\n    </tr>\n    <tr>\n      <th>4</th>\n      <td>1918-01-01</td>\n      <td>2021-03-01</td>\n      <td>Matanuska-Sustina Bor, AK 00006</td>\n      <td>1.0000</td>\n      <td>ZIP:00006</td>\n    </tr>\n    <tr>\n      <th>...</th>\n      <td>...</td>\n      <td>...</td>\n      <td>...</td>\n      <td>...</td>\n      <td>...</td>\n    </tr>\n    <tr>\n      <th>995</th>\n      <td>1909-03-01</td>\n      <td>2021-03-01</td>\n      <td>Northville, NY 12134</td>\n      <td>1.0000</td>\n      <td>ZIP:12134</td>\n    </tr>\n    <tr>\n      <th>996</th>\n      <td>2013-08-01</td>\n      <td>2021-03-01</td>\n      <td>Pattersonville, NY 12137</td>\n      <td>0.9892</td>\n      <td>ZIP:12137</td>\n    </tr>\n    <tr>\n      <th>997</th>\n      <td>1899-03-01</td>\n      <td>2017-02-01</td>\n      <td>Richmondville, NY 12149</td>\n      <td>0.9349</td>\n      <td>ZIP:12149</td>\n    </tr>\n    <tr>\n      <th>998</th>\n      <td>2011-01-01</td>\n      <td>2021-03-01</td>\n      <td>Schoharie, NY 12157</td>\n      <td>0.9840</td>\n      <td>ZIP:12157</td>\n    </tr>\n    <tr>\n      <th>999</th>\n      <td>2013-07-01</td>\n      <td>2021-03-01</td>\n      <td>Selkirk, NY 12158</td>\n      <td>0.9999</td>\n      <td>ZIP:12158</td>\n    </tr>\n  </tbody>\n</table>\n<p>1000 rows × 5 columns</p>\n</div>"
     },
     "metadata": {},
     "output_type": "display_data"
    }
   ],
   "source": [
    "resource = \"locations?\"\n",
    "query = {\n",
    "    \"datasetid\": \"GSOM\",\n",
    "    \"startdate\": \"2016-01-01\",\n",
    "    \"enddate\": \"2016-01-01\",\n",
    "    \"locationcategoryid\": \"ZIP\",\n",
    "    \"limit\": \"1000\"\n",
    "}\n",
    "query_str = urllib.parse.urlencode(query, doseq=False)\n",
    "endpoint = base_url + resource + query_str\n",
    "display(endpoint)\n",
    "\n",
    "response = requests.get(endpoint, headers=headers)\n",
    "display(response)\n",
    "\n",
    "locations = json.loads(response.text)\n",
    "display(locations[\"metadata\"])\n",
    "display(locations[\"results\"][0])\n",
    "\n",
    "locations_df = pd.DataFrame(locations[\"results\"])\n",
    "display(locations_df)"
   ],
   "metadata": {
    "collapsed": false,
    "pycharm": {
     "name": "#%%\n"
    }
   }
  },
  {
   "cell_type": "code",
   "execution_count": 9,
   "outputs": [
    {
     "data": {
      "text/plain": "'https://www.ncdc.noaa.gov/cdo-web/api/v2/stations?datasetid=GSOM&startdate=2016-01-01&enddate=2016-01-01&limit=1000'"
     },
     "metadata": {},
     "output_type": "display_data"
    },
    {
     "data": {
      "text/plain": "<Response [200]>"
     },
     "metadata": {},
     "output_type": "display_data"
    },
    {
     "data": {
      "text/plain": "{'resultset': {'offset': 1, 'count': 35678, 'limit': 1000}}"
     },
     "metadata": {},
     "output_type": "display_data"
    },
    {
     "data": {
      "text/plain": "{'elevation': 34,\n 'mindate': '1944-04-01',\n 'maxdate': '2021-03-01',\n 'latitude': 25.333,\n 'name': 'SHARJAH INTER. AIRP, AE',\n 'datacoverage': 0.4643,\n 'id': 'GHCND:AE000041196',\n 'elevationUnit': 'METERS',\n 'longitude': 55.517}"
     },
     "metadata": {},
     "output_type": "display_data"
    },
    {
     "data": {
      "text/plain": "     elevation     mindate     maxdate  latitude                         name  \\\n0         34.0  1944-04-01  2021-03-01   25.3330      SHARJAH INTER. AIRP, AE   \n1         10.4  1983-01-01  2021-03-01   25.2550      DUBAI INTERNATIONAL, AE   \n2         26.8  1983-06-01  2021-03-01   24.4330  ABU DHABI INTERNATIONAL, AE   \n3        264.9  1994-04-01  2021-03-01   24.2620     AL AIN INTERNATIONAL, AE   \n4        977.2  1979-07-01  2020-12-01   34.2100                    HERAT, AF   \n..         ...         ...         ...       ...                          ...   \n995      315.0  2003-07-01  2020-12-01  -33.2064                 BEAUMONT, AS   \n996      300.0  1969-09-01  2020-12-01  -32.2344                 GLENMORE, AS   \n997      330.0  1953-12-01  2021-02-01  -33.4836                 GLENROSE, AS   \n998      400.0  1970-10-01  2017-11-01  -32.8192              MINNI DOWNS, AS   \n999      340.0  1954-01-01  2021-03-01  -33.9317                  CRANHAM, AS   \n\n     datacoverage                 id elevationUnit  longitude  \n0          0.4643  GHCND:AE000041196        METERS    55.5170  \n1          0.6362  GHCND:AEM00041194        METERS    55.3640  \n2          0.6013  GHCND:AEM00041217        METERS    54.6510  \n3          0.5123  GHCND:AEM00041218        METERS    55.6090  \n4          0.0080  GHCND:AFM00040938        METERS    62.2280  \n..            ...                ...           ...        ...  \n995        0.3475  GHCND:ASN00010816        METERS   117.6994  \n996        0.9334  GHCND:ASN00010823        METERS   117.6444  \n997        0.2491  GHCND:ASN00010831        METERS   117.6100  \n998        0.8251  GHCND:ASN00010851        METERS   119.2936  \n999        0.9604  GHCND:ASN00010866        METERS   117.3258  \n\n[1000 rows x 9 columns]",
      "text/html": "<div>\n<style scoped>\n    .dataframe tbody tr th:only-of-type {\n        vertical-align: middle;\n    }\n\n    .dataframe tbody tr th {\n        vertical-align: top;\n    }\n\n    .dataframe thead th {\n        text-align: right;\n    }\n</style>\n<table border=\"1\" class=\"dataframe\">\n  <thead>\n    <tr style=\"text-align: right;\">\n      <th></th>\n      <th>elevation</th>\n      <th>mindate</th>\n      <th>maxdate</th>\n      <th>latitude</th>\n      <th>name</th>\n      <th>datacoverage</th>\n      <th>id</th>\n      <th>elevationUnit</th>\n      <th>longitude</th>\n    </tr>\n  </thead>\n  <tbody>\n    <tr>\n      <th>0</th>\n      <td>34.0</td>\n      <td>1944-04-01</td>\n      <td>2021-03-01</td>\n      <td>25.3330</td>\n      <td>SHARJAH INTER. AIRP, AE</td>\n      <td>0.4643</td>\n      <td>GHCND:AE000041196</td>\n      <td>METERS</td>\n      <td>55.5170</td>\n    </tr>\n    <tr>\n      <th>1</th>\n      <td>10.4</td>\n      <td>1983-01-01</td>\n      <td>2021-03-01</td>\n      <td>25.2550</td>\n      <td>DUBAI INTERNATIONAL, AE</td>\n      <td>0.6362</td>\n      <td>GHCND:AEM00041194</td>\n      <td>METERS</td>\n      <td>55.3640</td>\n    </tr>\n    <tr>\n      <th>2</th>\n      <td>26.8</td>\n      <td>1983-06-01</td>\n      <td>2021-03-01</td>\n      <td>24.4330</td>\n      <td>ABU DHABI INTERNATIONAL, AE</td>\n      <td>0.6013</td>\n      <td>GHCND:AEM00041217</td>\n      <td>METERS</td>\n      <td>54.6510</td>\n    </tr>\n    <tr>\n      <th>3</th>\n      <td>264.9</td>\n      <td>1994-04-01</td>\n      <td>2021-03-01</td>\n      <td>24.2620</td>\n      <td>AL AIN INTERNATIONAL, AE</td>\n      <td>0.5123</td>\n      <td>GHCND:AEM00041218</td>\n      <td>METERS</td>\n      <td>55.6090</td>\n    </tr>\n    <tr>\n      <th>4</th>\n      <td>977.2</td>\n      <td>1979-07-01</td>\n      <td>2020-12-01</td>\n      <td>34.2100</td>\n      <td>HERAT, AF</td>\n      <td>0.0080</td>\n      <td>GHCND:AFM00040938</td>\n      <td>METERS</td>\n      <td>62.2280</td>\n    </tr>\n    <tr>\n      <th>...</th>\n      <td>...</td>\n      <td>...</td>\n      <td>...</td>\n      <td>...</td>\n      <td>...</td>\n      <td>...</td>\n      <td>...</td>\n      <td>...</td>\n      <td>...</td>\n    </tr>\n    <tr>\n      <th>995</th>\n      <td>315.0</td>\n      <td>2003-07-01</td>\n      <td>2020-12-01</td>\n      <td>-33.2064</td>\n      <td>BEAUMONT, AS</td>\n      <td>0.3475</td>\n      <td>GHCND:ASN00010816</td>\n      <td>METERS</td>\n      <td>117.6994</td>\n    </tr>\n    <tr>\n      <th>996</th>\n      <td>300.0</td>\n      <td>1969-09-01</td>\n      <td>2020-12-01</td>\n      <td>-32.2344</td>\n      <td>GLENMORE, AS</td>\n      <td>0.9334</td>\n      <td>GHCND:ASN00010823</td>\n      <td>METERS</td>\n      <td>117.6444</td>\n    </tr>\n    <tr>\n      <th>997</th>\n      <td>330.0</td>\n      <td>1953-12-01</td>\n      <td>2021-02-01</td>\n      <td>-33.4836</td>\n      <td>GLENROSE, AS</td>\n      <td>0.2491</td>\n      <td>GHCND:ASN00010831</td>\n      <td>METERS</td>\n      <td>117.6100</td>\n    </tr>\n    <tr>\n      <th>998</th>\n      <td>400.0</td>\n      <td>1970-10-01</td>\n      <td>2017-11-01</td>\n      <td>-32.8192</td>\n      <td>MINNI DOWNS, AS</td>\n      <td>0.8251</td>\n      <td>GHCND:ASN00010851</td>\n      <td>METERS</td>\n      <td>119.2936</td>\n    </tr>\n    <tr>\n      <th>999</th>\n      <td>340.0</td>\n      <td>1954-01-01</td>\n      <td>2021-03-01</td>\n      <td>-33.9317</td>\n      <td>CRANHAM, AS</td>\n      <td>0.9604</td>\n      <td>GHCND:ASN00010866</td>\n      <td>METERS</td>\n      <td>117.3258</td>\n    </tr>\n  </tbody>\n</table>\n<p>1000 rows × 9 columns</p>\n</div>"
     },
     "metadata": {},
     "output_type": "display_data"
    }
   ],
   "source": [
    "resource = \"stations?\"\n",
    "query = {\n",
    "    \"datasetid\": \"GSOM\",\n",
    "    \"startdate\": \"2016-01-01\",\n",
    "    \"enddate\": \"2016-01-01\",\n",
    "    \"limit\": \"1000\"\n",
    "}\n",
    "query_str = urllib.parse.urlencode(query, doseq=False)\n",
    "endpoint = base_url + resource + query_str\n",
    "display(endpoint)\n",
    "\n",
    "response = requests.get(endpoint, headers=headers)\n",
    "display(response)\n",
    "\n",
    "stations = json.loads(response.text)\n",
    "display(stations[\"metadata\"])\n",
    "display(stations[\"results\"][0])\n",
    "\n",
    "stations_df = pd.DataFrame(stations[\"results\"])\n",
    "display(stations_df)"
   ],
   "metadata": {
    "collapsed": false,
    "pycharm": {
     "name": "#%%\n"
    }
   }
  },
  {
   "cell_type": "markdown",
   "source": [
    "## 3. Explore Actual Data\n"
   ],
   "metadata": {
    "collapsed": false,
    "pycharm": {
     "name": "#%% md\n"
    }
   }
  },
  {
   "cell_type": "code",
   "execution_count": 10,
   "outputs": [
    {
     "data": {
      "text/plain": "2837"
     },
     "execution_count": 10,
     "metadata": {},
     "output_type": "execute_result"
    }
   ],
   "source": [
    "unique_stations = ignitions[\"id\"].unique()\n",
    "len(unique_stations)"
   ],
   "metadata": {
    "collapsed": false,
    "pycharm": {
     "name": "#%%\n"
    }
   }
  },
  {
   "cell_type": "code",
   "execution_count": 11,
   "outputs": [
    {
     "data": {
      "text/plain": "'https://www.ncdc.noaa.gov/cdo-web/api/v2/data?stationid=GHCND%3AUSC00518543&datasetid=GSOM&startdate=2016-01-01&enddate=2016-12-31&units=metric&limit=1000'"
     },
     "metadata": {},
     "output_type": "display_data"
    },
    {
     "data": {
      "text/plain": "<Response [200]>"
     },
     "metadata": {},
     "output_type": "display_data"
    },
    {
     "data": {
      "text/plain": "{'resultset': {'offset': 1, 'count': 60, 'limit': 1000}}"
     },
     "metadata": {},
     "output_type": "display_data"
    },
    {
     "data": {
      "text/plain": "[{'date': '2016-01-01T00:00:00',\n  'datatype': 'DP01',\n  'station': 'GHCND:USC00518543',\n  'attributes': ',7',\n  'value': 4},\n {'date': '2016-01-01T00:00:00',\n  'datatype': 'DP10',\n  'station': 'GHCND:USC00518543',\n  'attributes': ',7',\n  'value': 2}]"
     },
     "metadata": {},
     "output_type": "display_data"
    },
    {
     "data": {
      "text/plain": "array(['DP01', 'DP10', 'DP1X', 'DYXP', 'EMXP', 'PRCP'], dtype=object)"
     },
     "metadata": {},
     "output_type": "display_data"
    },
    {
     "data": {
      "text/plain": "array(['2016-01-01T00:00:00', '2016-02-01T00:00:00',\n       '2016-03-01T00:00:00', '2016-04-01T00:00:00',\n       '2016-05-01T00:00:00', '2016-06-01T00:00:00',\n       '2016-07-01T00:00:00', '2016-08-01T00:00:00',\n       '2016-09-01T00:00:00', '2016-10-01T00:00:00'], dtype=object)"
     },
     "metadata": {},
     "output_type": "display_data"
    },
    {
     "data": {
      "text/plain": "array(['GHCND:USC00518543'], dtype=object)"
     },
     "metadata": {},
     "output_type": "display_data"
    }
   ],
   "source": [
    "resource = \"data?\"\n",
    "query = {\n",
    "    \"stationid\": f\"{unique_stations[0]}\",\n",
    "    \"datasetid\": \"GSOM\",\n",
    "    \"startdate\": \"2016-01-01\",\n",
    "    \"enddate\": \"2016-12-31\",\n",
    "    \"units\": \"metric\",\n",
    "    \"limit\": \"1000\"\n",
    "}\n",
    "query_str = urllib.parse.urlencode(query, doseq=False)\n",
    "endpoint = base_url + resource + query_str\n",
    "display(endpoint)\n",
    "\n",
    "response = requests.get(endpoint, headers=headers)\n",
    "display(response)\n",
    "\n",
    "data = json.loads(response.text)\n",
    "display(data[\"metadata\"])\n",
    "display(data[\"results\"][:2])\n",
    "\n",
    "display(pd.unique([d[\"datatype\"] for d in data[\"results\"]]))\n",
    "display(pd.unique([d[\"date\"] for d in data[\"results\"]]))\n",
    "display(pd.unique([d[\"station\"] for d in data[\"results\"]]))"
   ],
   "metadata": {
    "collapsed": false,
    "pycharm": {
     "name": "#%%\n"
    }
   }
  },
  {
   "cell_type": "markdown",
   "source": [
    "## 4. Obtain All 2016 Weather Data"
   ],
   "metadata": {
    "collapsed": false,
    "pycharm": {
     "name": "#%% md\n"
    }
   }
  },
  {
   "cell_type": "code",
   "execution_count": 12,
   "outputs": [],
   "source": [
    "# weather = []\n",
    "# resource = \"data?\"\n",
    "# query = {\n",
    "#     \"datasetid\": \"GSOM\",\n",
    "#     \"startdate\": \"2016-01-01\",\n",
    "#     \"enddate\": \"2016-12-31\",\n",
    "#     \"units\": \"metric\",\n",
    "#     \"limit\": \"1000\"\n",
    "# }\n",
    "# \n",
    "# for i, station in enumerate(unique_stations):\n",
    "#     query[\"stationid\"] = station\n",
    "#     query_str = urllib.parse.urlencode(query, doseq=False)\n",
    "#     endpoint = base_url + resource + query_str\n",
    "#     response = requests.get(endpoint, headers=headers)\n",
    "#     results = json.loads(response.text)\n",
    "#     if \"results\" in results:\n",
    "#         weather.append(results[\"results\"])\n",
    "#     if i % 100 == 0:\n",
    "#         print(f\"Finished station {i}\")"
   ],
   "metadata": {
    "collapsed": false,
    "pycharm": {
     "name": "#%%\n"
    }
   }
  },
  {
   "cell_type": "code",
   "execution_count": 13,
   "outputs": [],
   "source": [
    "# rows = []\n",
    "# for station_data in weather:\n",
    "#     # datetime.fromisoformat(entry[\"date\"]).month\n",
    "#     i = 0\n",
    "#     row = {\"date\": None}\n",
    "#     for i, variable in enumerate(station_data):\n",
    "#         if row[\"date\"] != variable[\"date\"]:\n",
    "#             if i > 0:\n",
    "#                 rows.append(row)\n",
    "#             row = {\"date\": variable[\"date\"], \"station\": variable[\"station\"]}\n",
    "#         row[variable[\"datatype\"]] = variable[\"value\"]"
   ],
   "metadata": {
    "collapsed": false,
    "pycharm": {
     "name": "#%%\n"
    }
   }
  },
  {
   "cell_type": "code",
   "execution_count": 14,
   "outputs": [],
   "source": [
    "# weather_df = pd.DataFrame(rows)\n",
    "# weather_df[\"month\"] = pd.DatetimeIndex(weather_df[\"date\"]).month\n",
    "# weather_df.to_csv(\"2016_wildfires/2016_weather.csv\")\n",
    "# weather_df"
   ],
   "metadata": {
    "collapsed": false,
    "pycharm": {
     "name": "#%%\n"
    }
   }
  },
  {
   "cell_type": "markdown",
   "source": [
    "## 5. Join Weather Data to Wildfire Data"
   ],
   "metadata": {
    "collapsed": false,
    "pycharm": {
     "name": "#%% md\n"
    }
   }
  },
  {
   "cell_type": "code",
   "execution_count": 15,
   "outputs": [],
   "source": [
    "# ignitions[\"month\"] = pd.DatetimeIndex(ignitions[\"start_date\"]).month\n",
    "# ignitions"
   ],
   "metadata": {
    "collapsed": false,
    "pycharm": {
     "name": "#%%\n"
    }
   }
  },
  {
   "cell_type": "code",
   "execution_count": 16,
   "outputs": [],
   "source": [
    "# ignitions_weather = pd.merge(ignitions, weather_df,\n",
    "#                              left_on=[\"id\", \"month\"],\n",
    "#                              right_on=[\"station\", \"month\"])\n",
    "# ignitions_weather.to_file(\"2016_wildfires/usa_2016_ignitions_weather.shp\")\n",
    "# with pd.option_context('display.max_columns', None):  # more options can be specified also\n",
    "#     display(ignitions_weather)"
   ],
   "metadata": {
    "collapsed": false,
    "pycharm": {
     "name": "#%%\n"
    }
   }
  }
 ],
 "metadata": {
  "kernelspec": {
   "display_name": "Python 3",
   "language": "python",
   "name": "python3"
  },
  "language_info": {
   "codemirror_mode": {
    "name": "ipython",
    "version": 2
   },
   "file_extension": ".py",
   "mimetype": "text/x-python",
   "name": "python",
   "nbconvert_exporter": "python",
   "pygments_lexer": "ipython2",
   "version": "2.7.6"
  }
 },
 "nbformat": 4,
 "nbformat_minor": 0
}